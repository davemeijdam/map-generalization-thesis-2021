{
 "cells": [
  {
   "cell_type": "code",
   "execution_count": 2,
   "id": "641dd7d4",
   "metadata": {},
   "outputs": [],
   "source": [
    "import torch\n",
    "import torch.nn as nn\n",
    "import torch.nn.functional as F\n",
    "\n",
    "\n",
    "from torchvision import datasets, transforms\n",
    "import numpy as np\n",
    "import matplotlib.pyplot as plt"
   ]
  },
  {
   "cell_type": "code",
   "execution_count": 4,
   "id": "2d92cf46",
   "metadata": {},
   "outputs": [],
   "source": [
    "class TensorToPolygon:\n",
    "    \n",
    "    def __call__(self, data):\n",
    "        data = data.view(-1, 784)\n",
    "        data = list(data.unbind())\n",
    "        data = [torch.arange(784)[(x > 0.8)] for x in data]\n",
    "        data = [torch.Tensor(list(x) + (351 - len(x)) * [0]) for x in data]\n",
    "        data = torch.stack(data).contiguous()\n",
    "        return data\n",
    "    \n",
    "    \n",
    "class OneDToTwoD:\n",
    "    \n",
    "    def __call__(self, data):\n",
    "        \n",
    "        data = [torch.Tensor(x[x != 0]) for x in data]   \n",
    "        data = [torch.Tensor([list([b // 28, b % 28]) for b in a]) for a in data]\n",
    "        data = [torch.cat((x, torch.Tensor(np.zeros((351 - x.shape[0],2))))) for x in data]\n",
    "        data = torch.stack(data).contiguous()\n",
    "        return data"
   ]
  },
  {
   "cell_type": "code",
   "execution_count": 17,
   "id": "5d82dfeb",
   "metadata": {},
   "outputs": [],
   "source": [
    "class Transform1d2d:\n",
    "    def __call__(self, x):\n",
    "        return torch.stack([x // 28, x % 28], -1)"
   ]
  },
  {
   "cell_type": "code",
   "execution_count": 217,
   "id": "599ce801",
   "metadata": {},
   "outputs": [],
   "source": [
    "dataset = datasets.MNIST('~/Developer/datasets', train=True, \n",
    "                          transform=transforms.Compose([\n",
    "                              transforms.RandomCrop(28, padding=2), # random shift by +- 2 pixels in all direcitons\n",
    "#                               transforms.RandomAffine(degrees=0, translate=None, scale=(0.8,1.2)),\n",
    "                              transforms.ToTensor(),\n",
    "                              TensorToPolygon(),\n",
    "                              Transform1d2d()\n",
    "                          ]))"
   ]
  },
  {
   "cell_type": "code",
   "execution_count": null,
   "id": "e69ba74a",
   "metadata": {},
   "outputs": [],
   "source": []
  },
  {
   "cell_type": "code",
   "execution_count": 218,
   "id": "fa1852dc",
   "metadata": {},
   "outputs": [],
   "source": [
    "def moment(xy, p, q):\n",
    "    x = xy[:, :, 0]\n",
    "    y = xy[:, :, 1]\n",
    "    x = x.pow(p) * (x != 0)\n",
    "    y = y.pow(q) * (y != 0)\n",
    "    M = (x * y).sum(-1)\n",
    "    return M\n",
    "\n",
    "def c_mass(xy):\n",
    "    mass = moment(xy, 0, 0)\n",
    "    mx = moment(xy, 1, 0) / mass\n",
    "    my = moment(xy, 0, 1) / mass\n",
    "    return torch.stack([mx, my], -1)"
   ]
  },
  {
   "cell_type": "code",
   "execution_count": 219,
   "id": "87d75956",
   "metadata": {},
   "outputs": [],
   "source": [
    "def canonical_transformation(x):\n",
    "#   translation\n",
    "    m = c_mass(x)\n",
    "    x = x - m.view(1, 1, 2) * (x[:, :, 0] != 0).view(1, -1, 1)\n",
    "#   scale\n",
    "#   rotation\n",
    "    return x"
   ]
  },
  {
   "cell_type": "code",
   "execution_count": 233,
   "id": "630da8b4",
   "metadata": {},
   "outputs": [
    {
     "name": "stdout",
     "output_type": "stream",
     "text": [
      "tensor([[14.3165, 11.3671]])\n",
      "tensor([19583.])\n",
      "tensor([[-1.4486e-07,  2.8972e-07]])\n",
      "tensor([948.2687])\n"
     ]
    }
   ],
   "source": [
    "x = dataset[0][0]\n",
    "print(c_mass(x))\n",
    "print(moment(x, 2, 0))\n",
    "print(c_mass(canonical_transformation(x)))\n",
    "print(moment(canonical_transformation(x), 1, 2))"
   ]
  },
  {
   "cell_type": "markdown",
   "id": "79e82294",
   "metadata": {},
   "source": [
    "$$\n",
    "\\mathbf{M} = \\frac{\\sum_i \\mathbf{r_i} * m_i}{\\sum_i m_i}\n",
    "$$\n",
    "\n",
    "$$\n",
    "\\mathbf{M}' = \\frac{\\sum_i [\\mathbf{r_i} + \\pmb{\\delta}] * m_i}{\\sum_i m_i}\n",
    "= \\frac{\\sum_i \\mathbf{r_i}* m_i}{\\sum_i m_i} + \\frac{\\sum_i \\pmb{\\delta}* m_i}{\\sum_i m_i}\n",
    "= \\mathbf{M} + \\pmb{\\delta}\n",
    "$$"
   ]
  },
  {
   "cell_type": "code",
   "execution_count": 129,
   "id": "d72511bd",
   "metadata": {},
   "outputs": [
    {
     "data": {
      "text/plain": [
       "torch.Size([1, 2])"
      ]
     },
     "execution_count": 129,
     "metadata": {},
     "output_type": "execute_result"
    }
   ],
   "source": [
    "m = c_mass(x)\n",
    "m.shape"
   ]
  },
  {
   "cell_type": "code",
   "execution_count": 130,
   "id": "3b13620a",
   "metadata": {},
   "outputs": [
    {
     "data": {
      "text/plain": [
       "torch.Size([1, 351])"
      ]
     },
     "execution_count": 130,
     "metadata": {},
     "output_type": "execute_result"
    }
   ],
   "source": [
    "(x[:, :, 0] != 0).shape"
   ]
  },
  {
   "cell_type": "code",
   "execution_count": null,
   "id": "e7c1d04b",
   "metadata": {},
   "outputs": [],
   "source": []
  }
 ],
 "metadata": {
  "kernelspec": {
   "display_name": "Python 3",
   "language": "python",
   "name": "python3"
  },
  "language_info": {
   "codemirror_mode": {
    "name": "ipython",
    "version": 3
   },
   "file_extension": ".py",
   "mimetype": "text/x-python",
   "name": "python",
   "nbconvert_exporter": "python",
   "pygments_lexer": "ipython3",
   "version": "3.7.7"
  }
 },
 "nbformat": 4,
 "nbformat_minor": 5
}
