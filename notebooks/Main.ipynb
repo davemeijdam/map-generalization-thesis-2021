{
 "cells": [
  {
   "cell_type": "markdown",
   "metadata": {},
   "source": [
    "# Import Libraries"
   ]
  },
  {
   "cell_type": "code",
   "execution_count": 4,
   "metadata": {},
   "outputs": [
    {
     "name": "stdout",
     "output_type": "stream",
     "text": [
      "/Users/isosnovik/Developer/map-generalization-thesis-2021/notebooks\n",
      "/Users/isosnovik/.vscode/extensions/ms-toolsai.jupyter-2021.3.619093157/pythonFiles/vscode_datascience_helpers/../.does-not-exist\n",
      "/Users/isosnovik/.vscode/extensions/ms-toolsai.jupyter-2021.3.619093157/pythonFiles\n",
      "/Users/isosnovik/.vscode/extensions/ms-toolsai.jupyter-2021.3.619093157/pythonFiles/lib/python\n",
      "/Users/isosnovik/miniconda3/lib/python37.zip\n",
      "/Users/isosnovik/miniconda3/lib/python3.7\n",
      "/Users/isosnovik/miniconda3/lib/python3.7/lib-dynload\n",
      "\n",
      "/Users/isosnovik/miniconda3/lib/python3.7/site-packages\n",
      "/Users/isosnovik/miniconda3/lib/python3.7/site-packages/yacs-0.1.8-py3.7.egg\n",
      "/Users/isosnovik/miniconda3/lib/python3.7/site-packages/e2cnn-0.1.5-py3.7.egg\n",
      "/Users/isosnovik/miniconda3/lib/python3.7/site-packages/locket-0.2.1-py3.7.egg\n",
      "/Users/isosnovik/miniconda3/lib/python3.7/site-packages/IPython/extensions\n",
      "/Users/isosnovik/.ipython\n",
      "..\n",
      "..\n",
      "..\n"
     ]
    }
   ],
   "source": [
    "import sys\n",
    "sys.path.append('..')\n",
    "for p in sys.path:\n",
    "    print(p)"
   ]
  },
  {
   "cell_type": "code",
   "execution_count": 1,
   "metadata": {},
   "outputs": [
    {
     "ename": "OSError",
     "evalue": "Could not find lib c or load any of its variants [].",
     "output_type": "error",
     "traceback": [
      "\u001b[0;31m---------------------------------------------------------------------------\u001b[0m",
      "\u001b[0;31mOSError\u001b[0m                                   Traceback (most recent call last)",
      "\u001b[0;32m<ipython-input-1-18926669f7af>\u001b[0m in \u001b[0;36m<module>\u001b[0;34m\u001b[0m\n\u001b[1;32m     15\u001b[0m \u001b[0;32mfrom\u001b[0m \u001b[0mtensorflow\u001b[0m\u001b[0;34m.\u001b[0m\u001b[0mkeras\u001b[0m \u001b[0;32mimport\u001b[0m \u001b[0mlayers\u001b[0m\u001b[0;34m\u001b[0m\u001b[0;34m\u001b[0m\u001b[0m\n\u001b[1;32m     16\u001b[0m \u001b[0;34m\u001b[0m\u001b[0m\n\u001b[0;32m---> 17\u001b[0;31m \u001b[0;32mfrom\u001b[0m \u001b[0mshapely\u001b[0m \u001b[0;32mimport\u001b[0m \u001b[0mgeometry\u001b[0m\u001b[0;34m\u001b[0m\u001b[0;34m\u001b[0m\u001b[0m\n\u001b[0m\u001b[1;32m     18\u001b[0m \u001b[0;32mimport\u001b[0m \u001b[0mgeopandas\u001b[0m \u001b[0;32mas\u001b[0m \u001b[0mgpd\u001b[0m\u001b[0;34m\u001b[0m\u001b[0;34m\u001b[0m\u001b[0m\n\u001b[1;32m     19\u001b[0m from simplification.cutil import (\n",
      "\u001b[0;32m~/miniconda3/lib/python3.7/site-packages/shapely/geometry/__init__.py\u001b[0m in \u001b[0;36m<module>\u001b[0;34m\u001b[0m\n\u001b[1;32m      2\u001b[0m \"\"\"\n\u001b[1;32m      3\u001b[0m \u001b[0;34m\u001b[0m\u001b[0m\n\u001b[0;32m----> 4\u001b[0;31m \u001b[0;32mfrom\u001b[0m \u001b[0;34m.\u001b[0m\u001b[0mbase\u001b[0m \u001b[0;32mimport\u001b[0m \u001b[0mCAP_STYLE\u001b[0m\u001b[0;34m,\u001b[0m \u001b[0mJOIN_STYLE\u001b[0m\u001b[0;34m\u001b[0m\u001b[0;34m\u001b[0m\u001b[0m\n\u001b[0m\u001b[1;32m      5\u001b[0m \u001b[0;32mfrom\u001b[0m \u001b[0;34m.\u001b[0m\u001b[0mgeo\u001b[0m \u001b[0;32mimport\u001b[0m \u001b[0mbox\u001b[0m\u001b[0;34m,\u001b[0m \u001b[0mshape\u001b[0m\u001b[0;34m,\u001b[0m \u001b[0masShape\u001b[0m\u001b[0;34m,\u001b[0m \u001b[0mmapping\u001b[0m\u001b[0;34m\u001b[0m\u001b[0;34m\u001b[0m\u001b[0m\n\u001b[1;32m      6\u001b[0m \u001b[0;32mfrom\u001b[0m \u001b[0;34m.\u001b[0m\u001b[0mpoint\u001b[0m \u001b[0;32mimport\u001b[0m \u001b[0mPoint\u001b[0m\u001b[0;34m,\u001b[0m \u001b[0masPoint\u001b[0m\u001b[0;34m\u001b[0m\u001b[0;34m\u001b[0m\u001b[0m\n",
      "\u001b[0;32m~/miniconda3/lib/python3.7/site-packages/shapely/geometry/base.py\u001b[0m in \u001b[0;36m<module>\u001b[0;34m\u001b[0m\n\u001b[1;32m     15\u001b[0m \u001b[0;34m\u001b[0m\u001b[0m\n\u001b[1;32m     16\u001b[0m \u001b[0;32mfrom\u001b[0m \u001b[0mshapely\u001b[0m\u001b[0;34m.\u001b[0m\u001b[0maffinity\u001b[0m \u001b[0;32mimport\u001b[0m \u001b[0maffine_transform\u001b[0m\u001b[0;34m\u001b[0m\u001b[0;34m\u001b[0m\u001b[0m\n\u001b[0;32m---> 17\u001b[0;31m \u001b[0;32mfrom\u001b[0m \u001b[0mshapely\u001b[0m\u001b[0;34m.\u001b[0m\u001b[0mcoords\u001b[0m \u001b[0;32mimport\u001b[0m \u001b[0mCoordinateSequence\u001b[0m\u001b[0;34m\u001b[0m\u001b[0;34m\u001b[0m\u001b[0m\n\u001b[0m\u001b[1;32m     18\u001b[0m \u001b[0;32mfrom\u001b[0m \u001b[0mshapely\u001b[0m\u001b[0;34m.\u001b[0m\u001b[0merrors\u001b[0m \u001b[0;32mimport\u001b[0m \u001b[0mWKBReadingError\u001b[0m\u001b[0;34m,\u001b[0m \u001b[0mWKTReadingError\u001b[0m\u001b[0;34m\u001b[0m\u001b[0;34m\u001b[0m\u001b[0m\n\u001b[1;32m     19\u001b[0m \u001b[0;32mfrom\u001b[0m \u001b[0mshapely\u001b[0m\u001b[0;34m.\u001b[0m\u001b[0mftools\u001b[0m \u001b[0;32mimport\u001b[0m \u001b[0mwraps\u001b[0m\u001b[0;34m\u001b[0m\u001b[0;34m\u001b[0m\u001b[0m\n",
      "\u001b[0;32m~/miniconda3/lib/python3.7/site-packages/shapely/coords.py\u001b[0m in \u001b[0;36m<module>\u001b[0;34m\u001b[0m\n\u001b[1;32m      6\u001b[0m \u001b[0;32mfrom\u001b[0m \u001b[0mctypes\u001b[0m \u001b[0;32mimport\u001b[0m \u001b[0mbyref\u001b[0m\u001b[0;34m,\u001b[0m \u001b[0mc_double\u001b[0m\u001b[0;34m,\u001b[0m \u001b[0mc_uint\u001b[0m\u001b[0;34m\u001b[0m\u001b[0;34m\u001b[0m\u001b[0m\n\u001b[1;32m      7\u001b[0m \u001b[0;34m\u001b[0m\u001b[0m\n\u001b[0;32m----> 8\u001b[0;31m \u001b[0;32mfrom\u001b[0m \u001b[0mshapely\u001b[0m\u001b[0;34m.\u001b[0m\u001b[0mgeos\u001b[0m \u001b[0;32mimport\u001b[0m \u001b[0mlgeos\u001b[0m\u001b[0;34m\u001b[0m\u001b[0;34m\u001b[0m\u001b[0m\n\u001b[0m\u001b[1;32m      9\u001b[0m \u001b[0;32mfrom\u001b[0m \u001b[0mshapely\u001b[0m\u001b[0;34m.\u001b[0m\u001b[0mtopology\u001b[0m \u001b[0;32mimport\u001b[0m \u001b[0mValidating\u001b[0m\u001b[0;34m\u001b[0m\u001b[0;34m\u001b[0m\u001b[0m\n\u001b[1;32m     10\u001b[0m \u001b[0;34m\u001b[0m\u001b[0m\n",
      "\u001b[0;32m~/miniconda3/lib/python3.7/site-packages/shapely/geos.py\u001b[0m in \u001b[0;36m<module>\u001b[0;34m\u001b[0m\n\u001b[1;32m    111\u001b[0m         \u001b[0m_lgeos\u001b[0m \u001b[0;34m=\u001b[0m \u001b[0mload_dll\u001b[0m\u001b[0;34m(\u001b[0m\u001b[0;34m'geos_c'\u001b[0m\u001b[0;34m,\u001b[0m \u001b[0mfallbacks\u001b[0m\u001b[0;34m=\u001b[0m\u001b[0malt_paths\u001b[0m\u001b[0;34m)\u001b[0m\u001b[0;34m\u001b[0m\u001b[0;34m\u001b[0m\u001b[0m\n\u001b[1;32m    112\u001b[0m \u001b[0;34m\u001b[0m\u001b[0m\n\u001b[0;32m--> 113\u001b[0;31m     \u001b[0mfree\u001b[0m \u001b[0;34m=\u001b[0m \u001b[0mload_dll\u001b[0m\u001b[0;34m(\u001b[0m\u001b[0;34m'c'\u001b[0m\u001b[0;34m)\u001b[0m\u001b[0;34m.\u001b[0m\u001b[0mfree\u001b[0m\u001b[0;34m\u001b[0m\u001b[0;34m\u001b[0m\u001b[0m\n\u001b[0m\u001b[1;32m    114\u001b[0m     \u001b[0mfree\u001b[0m\u001b[0;34m.\u001b[0m\u001b[0margtypes\u001b[0m \u001b[0;34m=\u001b[0m \u001b[0;34m[\u001b[0m\u001b[0mc_void_p\u001b[0m\u001b[0;34m]\u001b[0m\u001b[0;34m\u001b[0m\u001b[0;34m\u001b[0m\u001b[0m\n\u001b[1;32m    115\u001b[0m     \u001b[0mfree\u001b[0m\u001b[0;34m.\u001b[0m\u001b[0mrestype\u001b[0m \u001b[0;34m=\u001b[0m \u001b[0;32mNone\u001b[0m\u001b[0;34m\u001b[0m\u001b[0;34m\u001b[0m\u001b[0m\n",
      "\u001b[0;32m~/miniconda3/lib/python3.7/site-packages/shapely/geos.py\u001b[0m in \u001b[0;36mload_dll\u001b[0;34m(libname, fallbacks, mode)\u001b[0m\n\u001b[1;32m     54\u001b[0m         raise OSError(\n\u001b[1;32m     55\u001b[0m             \"Could not find lib {0} or load any of its variants {1}.\".format(\n\u001b[0;32m---> 56\u001b[0;31m                 libname, fallbacks or []))\n\u001b[0m\u001b[1;32m     57\u001b[0m \u001b[0;34m\u001b[0m\u001b[0m\n\u001b[1;32m     58\u001b[0m \u001b[0m_lgeos\u001b[0m \u001b[0;34m=\u001b[0m \u001b[0;32mNone\u001b[0m\u001b[0;34m\u001b[0m\u001b[0;34m\u001b[0m\u001b[0m\n",
      "\u001b[0;31mOSError\u001b[0m: Could not find lib c or load any of its variants []."
     ]
    }
   ],
   "source": [
    "import pandas as pd\n",
    "import numpy as np\n",
    "import matplotlib.pyplot as plt\n",
    "import sqlite3\n",
    "#import mapbox_vector_tile\n",
    "from time import time\n",
    "import operator\n",
    "from collections import Counter\n",
    "import json\n",
    "import os\n",
    "import math\n",
    "import random\n",
    "\n",
    "from tensorflow.keras import Sequential\n",
    "from tensorflow.keras import layers\n",
    "\n",
    "from shapely import geometry \n",
    "import geopandas as gpd\n",
    "from simplification.cutil import (\n",
    "    simplify_coords,\n",
    "    simplify_coords_idx,\n",
    "    simplify_coords_vw,\n",
    "    simplify_coords_vw_idx,\n",
    "    simplify_coords_vwp,\n",
    ")"
   ]
  },
  {
   "cell_type": "markdown",
   "metadata": {},
   "source": [
    "# Define Functions"
   ]
  },
  {
   "cell_type": "code",
   "execution_count": 451,
   "metadata": {},
   "outputs": [
    {
     "data": {
      "text/plain": [
       "0.652232746955345"
      ]
     },
     "execution_count": 451,
     "metadata": {},
     "output_type": "execute_result"
    }
   ],
   "source": [
    "def create_connection(db_file):\n",
    "    \"\"\" create a database connection to a SQLite database \"\"\"\n",
    "    try:\n",
    "        conn = sqlite3.connect(db_file)\n",
    "        print(conn)\n",
    "    except Error as e:\n",
    "        print(e)\n",
    "    \n",
    "    return conn\n",
    "\n",
    "def PolyArea(x,y):\n",
    "    return 0.5*np.abs(np.dot(x,np.roll(y,1))-np.dot(y,np.roll(x,1)))\n",
    "\n",
    "def ScoreFormula(old_number_of_datapoints, new_number_of_datapoints, processing_time):\n",
    "    return (1 - (new_number_of_datapoints / old_number_of_datapoints)) * (1 - processing_time)\n",
    "\n",
    "\n",
    "def ScaleFactor(all_geometries):\n",
    "    b_list = []\n",
    "    \n",
    "    for geometries in all_geometries:\n",
    "        \n",
    "        polygon = geometry.Polygon(geometries)\n",
    "        centroid = np.array(polygon.centroid)\n",
    "        coordinates = np.vstack(geometries)\n",
    "        \n",
    "        b = coordinates - centroid\n",
    "        b_min = np.min(b)\n",
    "        b_max = np.max(b)\n",
    "        b_list.append(b_min)\n",
    "        b_list.append(b_max)\n",
    "        \n",
    "    return np.std(b_list)\n",
    "    \n",
    "def Normalize_Geometry(coordinates1, scale_factor):\n",
    "    polygon = geometry.Polygon(coordinates1)\n",
    "    centroid = np.array(polygon.centroid)\n",
    "    coordinates2 = np.vstack(coordinates1)\n",
    "    \n",
    "    return (coordinates2 - centroid) / scale_factor\n",
    "\n",
    "def Add_One_Hot(normalized_geometry):\n",
    "    normalized_geometry = np.insert(normalized_geometry, 2, 1, axis=1)\n",
    "    normalized_geometry = np.insert(normalized_geometry, 3, 0, axis=1)\n",
    "    normalized_geometry = np.insert(normalized_geometry, 4, 0, axis=1)\n",
    "    normalized_geometry[len(normalized_geometry)-1,2] = 0\n",
    "    normalized_geometry[len(normalized_geometry)-1,4] = 1\n",
    "    \n",
    "    return normalized_geometry\n",
    "\n",
    "def Add_Zero_Padding(one_hotted_geometry, max_length):\n",
    "    boundary = max_length - len(one_hotted_geometry)\n",
    "    zero_matrix = np.zeros([boundary,5])\n",
    "    return np.append(one_hotted_geometry, zero_matrix, axis=0)\n",
    "\n",
    "def CreateGrid(poly, dx, dy):\n",
    "    \n",
    "    x_ls = []\n",
    "    y_ls = []\n",
    "\n",
    "    for a in poly:\n",
    "        x_ls.append(a[0])\n",
    "    for a in poly:\n",
    "        y_ls.append(a[1])\n",
    "        \n",
    "    minx = min(x_ls)\n",
    "    maxx = max(x_ls)\n",
    "    miny = min(y_ls)\n",
    "    maxy = max(y_ls)\n",
    "\n",
    "    nx = int(math.ceil(abs(maxx - minx)/dx))\n",
    "    ny = int(math.ceil(abs(maxy - miny)/dy))\n",
    "\n",
    "    grid = []       \n",
    "    for i in range(ny):   \n",
    "        grid.append(geometry.LineString([[minx,max(maxy-dy*i,miny)], [maxx, max(maxy-dy*i,miny)]]))\n",
    "\n",
    "    for j in range(nx):\n",
    "        grid.append(geometry.LineString([[min(minx+dx*j,maxx), maxy], [min(minx+dx*j,maxx), miny]]))\n",
    "    \n",
    "    return grid\n",
    "    \n",
    "def CheckSameIntersections(poly, simplified_coords, grid, ROUNDING):\n",
    "    \n",
    "    original = geometry.Polygon(poly)\n",
    "    simplified = geometry.Polygon(simplified_coords)\n",
    "\n",
    "    o_ls = []\n",
    "    s_ls = []\n",
    "    for line in grid:\n",
    "        x = original.intersection(line)\n",
    "        y = simplified.intersection(line)\n",
    "        if x:\n",
    "            if x.geom_type == 'Point':\n",
    "                o_ls.append(hash(tuple([round(x.coords[0][0],ROUNDING), round(x.coords[0][1],ROUNDING)])))\n",
    "            if x.geom_type == 'LineString':\n",
    "                for xy in x.coords:\n",
    "                    o_ls.append(hash(tuple([round(xy[0],ROUNDING), round(xy[1],ROUNDING)])))\n",
    "    \n",
    "        if y:\n",
    "            if y.geom_type == 'Point':\n",
    "                s_ls.append(hash(tuple([round(y.coords[0][0],ROUNDING), round(y.coords[0][1],ROUNDING)])))\n",
    "            if y.geom_type == 'LineString':\n",
    "                for xy in y.coords:\n",
    "                    s_ls.append(hash(tuple([round(xy[0],ROUNDING), round(xy[1],ROUNDING)])))\n",
    "        \n",
    "    return len(list(set(o_ls).intersection(s_ls))) / len(set(o_ls))\n",
    "\n",
    "grid = CreateGrid(length_list[58][0], dx, dy)\n",
    "CheckSameIntersections(length_list[58][0], simplify_coords_vw(length_list[58][0], \n",
    "                                                              simplify_possibilities[1][1]),grid, ROUNDING)\n",
    "#print(len(test))"
   ]
  },
  {
   "cell_type": "markdown",
   "metadata": {},
   "source": [
    "# Load Data"
   ]
  },
  {
   "cell_type": "markdown",
   "metadata": {},
   "source": [
    "## Pand Centrum"
   ]
  },
  {
   "cell_type": "code",
   "execution_count": 35,
   "metadata": {},
   "outputs": [
    {
     "name": "stdout",
     "output_type": "stream",
     "text": [
      "<sqlite3.Connection object at 0x7fd79c01f1f0>\n",
      "56188\n"
     ]
    }
   ],
   "source": [
    "conn_pand_centrum = create_connection(\"/Users/davemeijdam/Documents/Data Science/Master/Master Thesis/Data/SQLite/Pand_26116_centrum.db\")\n",
    "\n",
    "cur = conn_pand_centrum.cursor()\n",
    "cur.execute(\"SELECT data FROM tiles;\")\n",
    "\n",
    "rows = cur.fetchall()\n",
    "pand_centrum_data = []\n",
    "for row in rows:\n",
    "    pand_centrum_data.append(mapbox_vector_tile.decode(row[0]))\n",
    "    #print(row[0])\n",
    "print(len(pand_centrum_data))"
   ]
  },
  {
   "cell_type": "markdown",
   "metadata": {},
   "source": [
    "## Wegdeel Buiten"
   ]
  },
  {
   "cell_type": "code",
   "execution_count": 25,
   "metadata": {},
   "outputs": [
    {
     "name": "stdout",
     "output_type": "stream",
     "text": [
      "<sqlite3.Connection object at 0x7fb2327a2d50>\n"
     ]
    }
   ],
   "source": [
    "conn_wegdeel_buiten = create_connection(\"/Users/davemeijdam/Documents/Data Science/Master/Master Thesis/Data/SQLite/Wegdeel_23770_buitengebied.db\")\n",
    "\n",
    "cur = conn_wegdeel_buiten.cursor()\n",
    "cur.execute(\"SELECT data FROM tiles;\")\n",
    "\n",
    "rows = cur.fetchall()\n",
    "wegdeel_buiten_data = []\n",
    "for row in rows:\n",
    "    wegdeel_buiten_data.append(mapbox_vector_tile.decode(row[0]))"
   ]
  },
  {
   "cell_type": "code",
   "execution_count": 10,
   "metadata": {},
   "outputs": [],
   "source": [
    "path = '/Users/davemeijdam/Documents/Data Science/Master/Master Thesis/Data/Source/'\n",
    "Polygons = []\n",
    "\n",
    "for filename in os.listdir(path):\n",
    "    if \"vlakgeometrie2d\" in filename:\n",
    "        \n",
    "        f = open(str(path + filename))\n",
    "        wegdeeljson = json.load(f)\n",
    "\n",
    "        for a in wegdeeljson['features']:\n",
    "            Polygons.append(a['geometry']['coordinates'][0])\n",
    "    \n",
    "    \n",
    "    \n",
    "\n",
    "#f = open('/Users/davemeijdam/Documents/Data Science/Master/Master Thesis/Data/Source/Wegdeel_23770_buitengebied_vlakgeometrie2d.json')\n",
    "#wegdeeljson = json.load(f)\n",
    "#wegdeeljson\n",
    "\n"
   ]
  },
  {
   "cell_type": "code",
   "execution_count": 39,
   "metadata": {},
   "outputs": [
    {
     "data": {
      "image/svg+xml": [
       "<svg xmlns=\"http://www.w3.org/2000/svg\" xmlns:xlink=\"http://www.w3.org/1999/xlink\" width=\"100.0\" height=\"100.0\" viewBox=\"221888.79335999998 455119.40436 29.126280000025872 68.3272800000268\" preserveAspectRatio=\"xMinYMin meet\"><g transform=\"matrix(1,0,0,-1,0,910307.1359999999)\"><path fill-rule=\"evenodd\" fill=\"#66cc99\" stroke=\"#555555\" stroke-width=\"1.366545600000536\" opacity=\"0.6\" d=\"M 221897.538,455180.874 L 221891.324,455185.201 L 221911.127,455125.802 L 221911.915,455121.935 L 221915.389,455124.758 L 221907.996,455144.929 L 221897.44,455178.944 L 221897.326,455179.536 L 221897.336,455180.139 L 221897.47,455180.727 L 221897.538,455180.874 z\" /></g></svg>"
      ],
      "text/plain": [
       "<shapely.geometry.polygon.Polygon at 0x7fb1a292aa90>"
      ]
     },
     "execution_count": 39,
     "metadata": {},
     "output_type": "execute_result"
    }
   ],
   "source": [
    "geometry.Polygon(wegdeeljson['features'][5]['geometry']['coordinates'][0])\n"
   ]
  },
  {
   "cell_type": "code",
   "execution_count": 46,
   "metadata": {},
   "outputs": [],
   "source": [
    "#wegdeel_buiten_data[0:4]"
   ]
  },
  {
   "cell_type": "code",
   "execution_count": 19,
   "metadata": {},
   "outputs": [
    {
     "name": "stdout",
     "output_type": "stream",
     "text": [
      "[<shapely.geometry.polygon.Polygon object at 0x7fb22d34c390>, <shapely.geometry.polygon.Polygon object at 0x7fb22d33c7d0>, <shapely.geometry.polygon.Polygon object at 0x7fb22d34c150>, <shapely.geometry.polygon.Polygon object at 0x7fb22d34cd50>, <shapely.geometry.polygon.Polygon object at 0x7fb22d34c350>]\n"
     ]
    },
    {
     "data": {
      "image/png": "[encoded data removed]",
      "text/plain": [
       "<Figure size 432x288 with 1 Axes>"
      ]
     },
     "metadata": {
      "needs_background": "light"
     },
     "output_type": "display_data"
    }
   ],
   "source": [
    "import shapely.geometry as sg\n",
    "import shapely.ops as so\n",
    "import matplotlib.pyplot as plt\n",
    "\n",
    "ls = []\n",
    "for a in wegdeeljson['features'][:5]:\n",
    "    ls.append(geometry.Polygon(a['geometry']['coordinates'][0]))\n",
    "\n",
    "new_shape = so.cascaded_union(ls)\n",
    "fig, axs = plt.subplots()\n",
    "axs.set_aspect('equal', 'datalim')\n",
    "\n",
    "for geom in new_shape.geoms:    \n",
    "    xs, ys = geom.exterior.xy    \n",
    "    axs.fill(xs, ys, alpha=1, fc='r', ec='none')\n",
    "\n",
    "plt.show()"
   ]
  },
  {
   "cell_type": "code",
   "execution_count": 45,
   "metadata": {},
   "outputs": [
    {
     "data": {
      "image/png": "[encoded data removed]",
      "text/plain": [
       "<Figure size 432x288 with 1 Axes>"
      ]
     },
     "metadata": {
      "needs_background": "light"
     },
     "output_type": "display_data"
    }
   ],
   "source": [
    "import shapely.geometry as sg\n",
    "import shapely.ops as so\n",
    "import matplotlib.pyplot as plt\n",
    "\n",
    "\n",
    "ls = []\n",
    "for element in wegdeel_buiten_data[3]['wegdeel.se_fld15_vlakgeometrie2d']['features']:\n",
    "    \n",
    "    #print(element['geometry']['coordinates'][0])\n",
    "    #geometry.Polygon(element['geometry']['coordinates'][0])\n",
    "    element2 = element['geometry']\n",
    "    \n",
    "    if element2['type'] == 'MultiPolygon':\n",
    "        if element2['coordinates']:\n",
    "            for poly in element2['coordinates'][0]:\n",
    "                print(poly)\n",
    "                ls.append(geometry.Polygon(poly))\n",
    "    \n",
    "    else:\n",
    "        ls.append(geometry.Polygon(element['geometry']['coordinates'][0]))\n",
    "\n",
    "#r1 = sg.Polygon([[243, 2760], [242, 2760], [242, 2761], [243, 2760]])\n",
    "#r2 = sg.Polygon([[243, 2759], [243, 2760], [244, 2760], [244, 2759], [243, 2759]])\n",
    "#r3 = sg.Polygon([[244, 2759], [243, 2759], [243, 2760], [244, 2760], [244, 2759]])\n",
    "#r4 = sg.Polygon([[243, 2759], [242, 2759], [242, 2760], [243, 2760], [243, 2759]])\n",
    "#r5 = sg.Polygon([[241, 2759], [241, 2760], [242, 2759], [241, 2759]])\n",
    "\n",
    "new_shape = so.cascaded_union(ls)\n",
    "fig, axs = plt.subplots()\n",
    "axs.set_aspect('equal', 'datalim')\n",
    "\n",
    "for geom in new_shape.geoms:    \n",
    "    xs, ys = geom.exterior.xy    \n",
    "    axs.fill(xs, ys, alpha=1, fc='r', ec='none')\n",
    "\n",
    "plt.show()"
   ]
  },
  {
   "cell_type": "markdown",
   "metadata": {},
   "source": [
    "# Pre Processing"
   ]
  },
  {
   "cell_type": "markdown",
   "metadata": {},
   "source": [
    "## Parameters"
   ]
  },
  {
   "cell_type": "code",
   "execution_count": 433,
   "metadata": {},
   "outputs": [],
   "source": [
    "# Simplification Possibilities\n",
    "simplify_possibilities = [['D-P', 0], ['D-P', 0.5], ['D-P', 0.1], ['D-P', 0.05], ['D-P', 0.01], ['D-P', 0.005], \n",
    "                          ['D-P', 0.001], ['V-W', 0.5], ['V-W', 0.1], ['V-W', 0.05], ['V-W', 0.01], \n",
    "                          ['V-W', 0.005], ['V-W', 0.001], ['V-W', 0.0005], ['V-W', 0.0001], ['V-W', 0.00005]]\n",
    "\n",
    "# Polygon length evaluation\n",
    "MAX_LENGTH_DEFICIT = -0.1\n",
    "\n",
    "# Grid\n",
    "dx = 1\n",
    "dy = 1\n",
    "ROUNDING = 1\n",
    "\n",
    "MIN_INTERSECTIONS_PERC = 0.75"
   ]
  },
  {
   "cell_type": "code",
   "execution_count": null,
   "metadata": {},
   "outputs": [],
   "source": [
    "Lines = []\n",
    "Polygons = []\n",
    "MultiPolygons = []\n",
    "a=0\n",
    "for row in pand_centrum_data[:10000]:\n",
    "    print(str(a) + \" / \" + str(len(pand_centrum_data)), end=\"\\r\")\n",
    "    a = a + 1\n",
    "    keys = row.keys()\n",
    "    \n",
    "    for key in keys:\n",
    "        for element in row[key]['features']:\n",
    "            \n",
    "            if element['geometry']['type'] == 'LineString': \n",
    "                Lines.append(element['geometry']['coordinates'])\n",
    "            \n",
    "            if element['geometry']['type'] == 'Polygon':\n",
    "                Polygons.append(element['geometry']['coordinates'][0])\n",
    "                \n",
    "            #if element['geometry']['type'] == 'MultiPolygon':\n",
    "                #MultiPolygons.append(element['geometry']['coordinates'])\n",
    "    \n",
    "    \n",
    "\n",
    "#test = lvl10_data[0]['spoor.se_fld12_lijngeometrie2d']['features'][0]['geometry']['coordinates']\n",
    "#print(Polygons)"
   ]
  },
  {
   "cell_type": "code",
   "execution_count": 26,
   "metadata": {},
   "outputs": [
    {
     "name": "stdout",
     "output_type": "stream",
     "text": [
      "297778 / 297779\r"
     ]
    }
   ],
   "source": [
    "Lines = []\n",
    "Polygons = []\n",
    "MultiPolygons = []\n",
    "a=0\n",
    "for row in wegdeel_buiten_data:\n",
    "    print(str(a) + \" / \" + str(len(wegdeel_buiten_data)), end=\"\\r\")\n",
    "    a = a + 1\n",
    "    keys = row.keys()\n",
    "    \n",
    "    for key in keys:\n",
    "        for element in row[key]['features']:\n",
    "            \n",
    "            if element['geometry']['type'] == 'LineString': \n",
    "                Lines.append(element['geometry']['coordinates'])\n",
    "            \n",
    "            if element['geometry']['type'] == 'Polygon':\n",
    "                Polygons.append(element['geometry']['coordinates'][0])\n",
    "                \n",
    "            if element['geometry']['type'] == 'MultiPolygon':\n",
    "                if element['geometry']['coordinates']:\n",
    "                    for poly in element['geometry']['coordinates'][0]:\n",
    "                        MultiPolygons.append(poly)\n",
    "    \n",
    "    \n",
    "\n",
    "#test = lvl10_data[0]['spoor.se_fld12_lijngeometrie2d']['features'][0]['geometry']['coordinates']\n",
    "#print(Polygons)"
   ]
  },
  {
   "cell_type": "code",
   "execution_count": 31,
   "metadata": {},
   "outputs": [
    {
     "name": "stdout",
     "output_type": "stream",
     "text": [
      "23770\n"
     ]
    },
    {
     "data": {
      "text/html": [
       "<div>\n",
       "<style scoped>\n",
       "    .dataframe tbody tr th:only-of-type {\n",
       "        vertical-align: middle;\n",
       "    }\n",
       "\n",
       "    .dataframe tbody tr th {\n",
       "        vertical-align: top;\n",
       "    }\n",
       "\n",
       "    .dataframe thead th {\n",
       "        text-align: right;\n",
       "    }\n",
       "</style>\n",
       "<table border=\"1\" class=\"dataframe\">\n",
       "  <thead>\n",
       "    <tr style=\"text-align: right;\">\n",
       "      <th></th>\n",
       "      <th>lengths</th>\n",
       "      <th>freq</th>\n",
       "    </tr>\n",
       "  </thead>\n",
       "  <tbody>\n",
       "    <tr>\n",
       "      <th>0</th>\n",
       "      <td>12</td>\n",
       "      <td>678</td>\n",
       "    </tr>\n",
       "    <tr>\n",
       "      <th>1</th>\n",
       "      <td>16</td>\n",
       "      <td>451</td>\n",
       "    </tr>\n",
       "    <tr>\n",
       "      <th>2</th>\n",
       "      <td>18</td>\n",
       "      <td>368</td>\n",
       "    </tr>\n",
       "    <tr>\n",
       "      <th>3</th>\n",
       "      <td>9</td>\n",
       "      <td>1269</td>\n",
       "    </tr>\n",
       "    <tr>\n",
       "      <th>4</th>\n",
       "      <td>11</td>\n",
       "      <td>834</td>\n",
       "    </tr>\n",
       "    <tr>\n",
       "      <th>...</th>\n",
       "      <td>...</td>\n",
       "      <td>...</td>\n",
       "    </tr>\n",
       "    <tr>\n",
       "      <th>297</th>\n",
       "      <td>302</td>\n",
       "      <td>2</td>\n",
       "    </tr>\n",
       "    <tr>\n",
       "      <th>298</th>\n",
       "      <td>427</td>\n",
       "      <td>1</td>\n",
       "    </tr>\n",
       "    <tr>\n",
       "      <th>299</th>\n",
       "      <td>393</td>\n",
       "      <td>1</td>\n",
       "    </tr>\n",
       "    <tr>\n",
       "      <th>300</th>\n",
       "      <td>276</td>\n",
       "      <td>1</td>\n",
       "    </tr>\n",
       "    <tr>\n",
       "      <th>301</th>\n",
       "      <td>429</td>\n",
       "      <td>1</td>\n",
       "    </tr>\n",
       "  </tbody>\n",
       "</table>\n",
       "<p>302 rows × 2 columns</p>\n",
       "</div>"
      ],
      "text/plain": [
       "     lengths  freq\n",
       "0         12   678\n",
       "1         16   451\n",
       "2         18   368\n",
       "3          9  1269\n",
       "4         11   834\n",
       "..       ...   ...\n",
       "297      302     2\n",
       "298      427     1\n",
       "299      393     1\n",
       "300      276     1\n",
       "301      429     1\n",
       "\n",
       "[302 rows x 2 columns]"
      ]
     },
     "execution_count": 31,
     "metadata": {},
     "output_type": "execute_result"
    }
   ],
   "source": [
    "#print(len(Lines))\n",
    "print(len(Polygons))\n",
    "#print(len(MultiPolygons))\n",
    "\n",
    "ls = []\n",
    "for a in Polygons:\n",
    "    ls.append(len(a))\n",
    "    \n",
    "pd.DataFrame({'lengths':Counter(ls).keys(),\n",
    "              'freq':Counter(ls).values()})"
   ]
  },
  {
   "cell_type": "code",
   "execution_count": 340,
   "metadata": {},
   "outputs": [
    {
     "data": {
      "text/plain": [
       "{3, 5}"
      ]
     },
     "execution_count": 340,
     "metadata": {},
     "output_type": "execute_result"
    }
   ],
   "source": [
    "list1 = [1,2,3,4,5,6]\n",
    "list2 = [3, 5, 7, 9]\n",
    "list(set(list1).intersection(list2))"
   ]
  },
  {
   "cell_type": "code",
   "execution_count": 307,
   "metadata": {},
   "outputs": [
    {
     "data": {
      "text/plain": [
       "1.0"
      ]
     },
     "execution_count": 307,
     "metadata": {},
     "output_type": "execute_result"
    }
   ],
   "source": [
    "\n",
    "\n",
    "CheckSameIntersections(Polygons[10],dx, dy, ROUNDING, 0.01)"
   ]
  },
  {
   "cell_type": "code",
   "execution_count": 393,
   "metadata": {},
   "outputs": [
    {
     "name": "stdout",
     "output_type": "stream",
     "text": [
      "28\n",
      "27\n",
      "1.0\n"
     ]
    },
    {
     "data": {
      "image/svg+xml": [
       "<svg xmlns=\"http://www.w3.org/2000/svg\" xmlns:xlink=\"http://www.w3.org/1999/xlink\" width=\"100.0\" height=\"100.0\" viewBox=\"149948.68688 410925.85888 19.76724000001559 9.996240000007674\" preserveAspectRatio=\"xMinYMin meet\"><g transform=\"matrix(1,0,0,-1,0,821861.714)\"><path fill-rule=\"evenodd\" fill=\"#66cc99\" stroke=\"#555555\" stroke-width=\"0.3953448000003118\" opacity=\"0.6\" d=\"M 149954.812,410929.856 L 149958.479,410929.372 L 149964.627,410928.533 L 149965.080677114,410928.422336442 L 149965.522307303,410928.270573067 L 149965.94817573,410928.078986456 L 149966.354700136,410927.849188168 L 149966.738460982,410927.583111187 L 149967.096230203,410927.282993658 L 149967.42499837,410926.951360067 L 149967.722,410926.591 L 149964.306,410932.098 L 149963.977091526,410932.677499855 L 149963.701865164,410933.284336997 L 149963.482570511,410933.913551366 L 149963.321,410934.56 L 149963.313583865,410934.344493044 L 149963.25972716,410934.135692415 L 149963.16198001,410933.943484866 L 149963.024970764,410933.776971463 L 149962.855186836,410933.644036648 L 149962.660667529,410933.550974912 L 149962.450623373,410933.502192748 L 149962.235,410933.5 L 149950.038,410935.123 L 149949.419,410930.567 L 149954.812,410929.856 z\" /></g></svg>"
      ],
      "text/plain": [
       "<shapely.geometry.polygon.Polygon at 0x7fd924dac6d0>"
      ]
     },
     "execution_count": 393,
     "metadata": {},
     "output_type": "execute_result"
    }
   ],
   "source": [
    "c = 110\n",
    "t = 0.001\n",
    "\n",
    "print(len(Polygons[c]))\n",
    "print(len(simplify_coords(Polygons[c],t)))\n",
    "print(CheckSameIntersections(Polygons[c],dx, dy, ROUNDING, t))\n",
    "geometry.Polygon(simplify_coords(Polygons[c], t))"
   ]
  },
  {
   "cell_type": "code",
   "execution_count": 389,
   "metadata": {},
   "outputs": [
    {
     "data": {
      "image/svg+xml": [
       "<svg xmlns=\"http://www.w3.org/2000/svg\" xmlns:xlink=\"http://www.w3.org/1999/xlink\" width=\"100.0\" height=\"100.0\" viewBox=\"149948.68688 410925.85888 19.76724000001559 9.996240000007674\" preserveAspectRatio=\"xMinYMin meet\"><g transform=\"matrix(1,0,0,-1,0,821861.714)\"><path fill-rule=\"evenodd\" fill=\"#66cc99\" stroke=\"#555555\" stroke-width=\"0.3953448000003118\" opacity=\"0.6\" d=\"M 149954.812,410929.856 L 149958.479,410929.372 L 149964.627,410928.533 L 149965.080677114,410928.422336442 L 149965.522307303,410928.270573067 L 149965.94817573,410928.078986456 L 149966.354700136,410927.849188168 L 149966.738460982,410927.583111187 L 149967.096230203,410927.282993658 L 149967.42499837,410926.951360067 L 149967.722,410926.591 L 149964.306,410932.098 L 149963.977091526,410932.677499855 L 149963.701865164,410933.284336997 L 149963.482570511,410933.913551366 L 149963.321,410934.56 L 149963.313583865,410934.344493044 L 149963.25972716,410934.135692415 L 149963.16198001,410933.943484866 L 149963.024970764,410933.776971463 L 149962.855186836,410933.644036648 L 149962.660667529,410933.550974912 L 149962.450623373,410933.502192748 L 149962.235,410933.5 L 149950.038,410935.123 L 149949.419,410930.567 L 149952.116,410930.211 L 149954.812,410929.856 z\" /></g></svg>"
      ],
      "text/plain": [
       "<shapely.geometry.polygon.Polygon at 0x7fd924d25d50>"
      ]
     },
     "execution_count": 389,
     "metadata": {},
     "output_type": "execute_result"
    }
   ],
   "source": [
    "geometry.Polygon(Polygons[c])"
   ]
  },
  {
   "cell_type": "code",
   "execution_count": 439,
   "metadata": {},
   "outputs": [
    {
     "name": "stdout",
     "output_type": "stream",
     "text": [
      "421\n"
     ]
    },
    {
     "data": {
      "text/plain": [
       "74"
      ]
     },
     "execution_count": 439,
     "metadata": {},
     "output_type": "execute_result"
    }
   ],
   "source": [
    "print(len(length_list[58][0]))\n",
    "len(simplify_coords(length_list[58][0], 0.5))"
   ]
  },
  {
   "cell_type": "code",
   "execution_count": 460,
   "metadata": {},
   "outputs": [
    {
     "name": "stdout",
     "output_type": "stream",
     "text": [
      "Scale Factor done\n",
      "Sorted the Polygons\n",
      "95 / 25000\r"
     ]
    },
    {
     "name": "stderr",
     "output_type": "stream",
     "text": [
      "TopologyException: Input geom 0 is invalid: Self-intersection at or near point 150956.54894761927 412527.61373370053 at 150956.54894761927 412527.61373370053\n"
     ]
    },
    {
     "name": "stdout",
     "output_type": "stream",
     "text": [
      "228 / 25000\r"
     ]
    },
    {
     "name": "stderr",
     "output_type": "stream",
     "text": [
      "TopologyException: Input geom 0 is invalid: Self-intersection at or near point 235922.79532338362 445001.71306996606 at 235922.79532338362 445001.71306996606\n"
     ]
    },
    {
     "name": "stdout",
     "output_type": "stream",
     "text": [
      "447 / 25000\r"
     ]
    },
    {
     "name": "stderr",
     "output_type": "stream",
     "text": [
      "TopologyException: Input geom 0 is invalid: Self-intersection at or near point 228116.10608922152 455932.98658639827 at 228116.10608922152 455932.98658639827\n"
     ]
    },
    {
     "name": "stdout",
     "output_type": "stream",
     "text": [
      "448 / 25000\r"
     ]
    },
    {
     "name": "stderr",
     "output_type": "stream",
     "text": [
      "TopologyException: Input geom 0 is invalid: Self-intersection at or near point 228116.10608922152 455932.98658639827 at 228116.10608922152 455932.98658639827\n"
     ]
    },
    {
     "name": "stdout",
     "output_type": "stream",
     "text": [
      "1011 / 25000\r"
     ]
    },
    {
     "name": "stderr",
     "output_type": "stream",
     "text": [
      "TopologyException: Input geom 0 is invalid: Self-intersection at or near point 151299.92174309 410457.42546047125 at 151299.92174309 410457.42546047125\n",
      "TopologyException: Input geom 0 is invalid: Self-intersection at or near point 151300.71514489775 410458.24580010754 at 151300.71514489775 410458.24580010754\n"
     ]
    },
    {
     "name": "stdout",
     "output_type": "stream",
     "text": [
      "1114 / 25000\r"
     ]
    },
    {
     "name": "stderr",
     "output_type": "stream",
     "text": [
      "TopologyException: Input geom 0 is invalid: Self-intersection at or near point 218571.7450242973 452083.3819277726 at 218571.7450242973 452083.3819277726\n"
     ]
    },
    {
     "name": "stdout",
     "output_type": "stream",
     "text": [
      "1442 / 25000\r"
     ]
    },
    {
     "name": "stderr",
     "output_type": "stream",
     "text": [
      "TopologyException: Input geom 0 is invalid: Self-intersection at or near point 220834.8614512202 446385.21107949415 at 220834.8614512202 446385.21107949415\n"
     ]
    },
    {
     "name": "stdout",
     "output_type": "stream",
     "text": [
      "1467 / 25000\r"
     ]
    },
    {
     "name": "stderr",
     "output_type": "stream",
     "text": [
      "TopologyException: Input geom 0 is invalid: Self-intersection at or near point 149947.17280388143 410752.39392516523 at 149947.17280388143 410752.39392516523\n",
      "TopologyException: Input geom 0 is invalid: Self-intersection at or near point 149947.17280388143 410752.39392516523 at 149947.17280388143 410752.39392516523\n",
      "TopologyException: Input geom 0 is invalid: Self-intersection at or near point 149947.17280388143 410752.39392516523 at 149947.17280388143 410752.39392516523\n",
      "TopologyException: Input geom 0 is invalid: Self-intersection at or near point 149947.17280388143 410752.39392516523 at 149947.17280388143 410752.39392516523\n",
      "TopologyException: Input geom 0 is invalid: Self-intersection at or near point 149947.17280388143 410752.39392516523 at 149947.17280388143 410752.39392516523\n",
      "TopologyException: Input geom 0 is invalid: Self-intersection at or near point 149947.17280388143 410752.39392516523 at 149947.17280388143 410752.39392516523\n",
      "TopologyException: Input geom 0 is invalid: Self-intersection at or near point 149947.17280388143 410752.39392516523 at 149947.17280388143 410752.39392516523\n",
      "TopologyException: Input geom 0 is invalid: Self-intersection at or near point 149947.17280388143 410752.39392516523 at 149947.17280388143 410752.39392516523\n",
      "TopologyException: Input geom 0 is invalid: Self-intersection at or near point 149947.17280388143 410752.39392516523 at 149947.17280388143 410752.39392516523\n",
      "TopologyException: Input geom 0 is invalid: Self-intersection at or near point 149947.17280388143 410752.39392516523 at 149947.17280388143 410752.39392516523\n",
      "TopologyException: Input geom 0 is invalid: Self-intersection at or near point 149947.17280388143 410752.39392516523 at 149947.17280388143 410752.39392516523\n",
      "TopologyException: Input geom 0 is invalid: Self-intersection at or near point 149947.17280388143 410752.39392516523 at 149947.17280388143 410752.39392516523\n",
      "TopologyException: Input geom 0 is invalid: Self-intersection at or near point 149947.17280388143 410752.39392516523 at 149947.17280388143 410752.39392516523\n",
      "TopologyException: Input geom 0 is invalid: Self-intersection at or near point 149947.17280388143 410752.39392516523 at 149947.17280388143 410752.39392516523\n",
      "TopologyException: Input geom 0 is invalid: Self-intersection at or near point 149947.17280388143 410752.39392516523 at 149947.17280388143 410752.39392516523\n"
     ]
    },
    {
     "name": "stdout",
     "output_type": "stream",
     "text": [
      "1700 / 25000\r"
     ]
    },
    {
     "name": "stderr",
     "output_type": "stream",
     "text": [
      "TopologyException: Input geom 0 is invalid: Self-intersection at or near point 228231.15900568466 455594.08609829663 at 228231.15900568466 455594.08609829663\n"
     ]
    },
    {
     "name": "stdout",
     "output_type": "stream",
     "text": [
      "2209 / 25000\r"
     ]
    },
    {
     "name": "stderr",
     "output_type": "stream",
     "text": [
      "TopologyException: Input geom 0 is invalid: Self-intersection at or near point 148881.83499607543 413197.43343004165 at 148881.83499607543 413197.43343004165\n"
     ]
    },
    {
     "name": "stdout",
     "output_type": "stream",
     "text": [
      "2396 / 25000\r"
     ]
    },
    {
     "name": "stderr",
     "output_type": "stream",
     "text": [
      "TopologyException: Input geom 0 is invalid: Self-intersection at or near point 221208.96238895459 446963.80198136007 at 221208.96238895459 446963.80198136007\n"
     ]
    },
    {
     "name": "stdout",
     "output_type": "stream",
     "text": [
      "2422 / 25000\r"
     ]
    },
    {
     "name": "stderr",
     "output_type": "stream",
     "text": [
      "TopologyException: Input geom 0 is invalid: Self-intersection at or near point 151277.40710876798 410410.25564508815 at 151277.40710876798 410410.25564508815\n"
     ]
    },
    {
     "name": "stdout",
     "output_type": "stream",
     "text": [
      "2608 / 25000\r"
     ]
    },
    {
     "name": "stderr",
     "output_type": "stream",
     "text": [
      "TopologyException: Input geom 0 is invalid: Self-intersection at or near point 219212.78599268259 452403.13206688169 at 219212.78599268259 452403.13206688169\n"
     ]
    },
    {
     "name": "stdout",
     "output_type": "stream",
     "text": [
      "2666 / 25000\r"
     ]
    },
    {
     "name": "stderr",
     "output_type": "stream",
     "text": [
      "TopologyException: Input geom 0 is invalid: Self-intersection at or near point 233044.73197207 446101.18841558235 at 233044.73197207 446101.18841558235\n"
     ]
    },
    {
     "name": "stdout",
     "output_type": "stream",
     "text": [
      "2850 / 25000\r"
     ]
    },
    {
     "name": "stderr",
     "output_type": "stream",
     "text": [
      "TopologyException: Input geom 0 is invalid: Self-intersection at or near point 150231.05032730335 412933.80125373759 at 150231.05032730335 412933.80125373759\n"
     ]
    },
    {
     "name": "stdout",
     "output_type": "stream",
     "text": [
      "2998 / 25000\r"
     ]
    },
    {
     "name": "stderr",
     "output_type": "stream",
     "text": [
      "TopologyException: Input geom 0 is invalid: Self-intersection at or near point 221739.67376615148 447299.1662002654 at 221739.67376615148 447299.1662002654\n"
     ]
    },
    {
     "name": "stdout",
     "output_type": "stream",
     "text": [
      "3375 / 25000\r"
     ]
    },
    {
     "name": "stderr",
     "output_type": "stream",
     "text": [
      "TopologyException: Input geom 0 is invalid: Self-intersection at or near point 226511.97839783548 445198.99248275679 at 226511.97839783548 445198.99248275679\n"
     ]
    },
    {
     "name": "stdout",
     "output_type": "stream",
     "text": [
      "3393 / 25000\r"
     ]
    },
    {
     "name": "stderr",
     "output_type": "stream",
     "text": [
      "TopologyException: Input geom 0 is invalid: Self-intersection at or near point 227093.16671206895 444862.16549013124 at 227093.16671206895 444862.16549013124\n"
     ]
    },
    {
     "name": "stdout",
     "output_type": "stream",
     "text": [
      "3484 / 25000\r"
     ]
    },
    {
     "name": "stderr",
     "output_type": "stream",
     "text": [
      "TopologyException: Input geom 0 is invalid: Self-intersection at or near point 149580.97247352696 413973.42371913738 at 149580.97247352696 413973.42371913738\n"
     ]
    },
    {
     "name": "stdout",
     "output_type": "stream",
     "text": [
      "3664 / 25000\r"
     ]
    },
    {
     "name": "stderr",
     "output_type": "stream",
     "text": [
      "TopologyException: Input geom 0 is invalid: Self-intersection at or near point 148250.73372487223 411203.5959105356 at 148250.73372487223 411203.5959105356\n"
     ]
    },
    {
     "name": "stdout",
     "output_type": "stream",
     "text": [
      "4128 / 25000\r"
     ]
    },
    {
     "name": "stderr",
     "output_type": "stream",
     "text": [
      "TopologyException: Input geom 0 is invalid: Self-intersection at or near point 152387.9539079486 411825.3939808291 at 152387.9539079486 411825.3939808291\n"
     ]
    },
    {
     "name": "stdout",
     "output_type": "stream",
     "text": [
      "4202 / 25000\r"
     ]
    },
    {
     "name": "stderr",
     "output_type": "stream",
     "text": [
      "TopologyException: Input geom 0 is invalid: Self-intersection at or near point 236012.85485818889 444844.89046278357 at 236012.85485818889 444844.89046278357\n"
     ]
    },
    {
     "name": "stdout",
     "output_type": "stream",
     "text": [
      "4269 / 25000\r"
     ]
    },
    {
     "name": "stderr",
     "output_type": "stream",
     "text": [
      "TopologyException: Input geom 0 is invalid: Self-intersection at or near point 224899.57212398708 446258.25348263193 at 224899.57212398708 446258.25348263193\n"
     ]
    },
    {
     "name": "stdout",
     "output_type": "stream",
     "text": [
      "4489 / 25000\r"
     ]
    },
    {
     "name": "stderr",
     "output_type": "stream",
     "text": [
      "TopologyException: Input geom 0 is invalid: Self-intersection at or near point 218927.81565681979 452224.78654209001 at 218927.81565681979 452224.78654209001\n"
     ]
    },
    {
     "name": "stdout",
     "output_type": "stream",
     "text": [
      "4651 / 25000\r"
     ]
    },
    {
     "name": "stderr",
     "output_type": "stream",
     "text": [
      "TopologyException: Input geom 0 is invalid: Self-intersection at or near point 221338.00437998786 447001.5396003424 at 221338.00437998786 447001.5396003424\n"
     ]
    },
    {
     "name": "stdout",
     "output_type": "stream",
     "text": [
      "5333 / 25000\r"
     ]
    },
    {
     "name": "stderr",
     "output_type": "stream",
     "text": [
      "TopologyException: Input geom 0 is invalid: Self-intersection at or near point 149045.19769824867 411128.2039651986 at 149045.19769824867 411128.2039651986\n"
     ]
    },
    {
     "name": "stdout",
     "output_type": "stream",
     "text": [
      "5772 / 25000\r"
     ]
    },
    {
     "name": "stderr",
     "output_type": "stream",
     "text": [
      "TopologyException: Input geom 0 is invalid: Self-intersection at or near point 221195.10543915088 446247.23629244679 at 221195.10543915088 446247.23629244679\n"
     ]
    },
    {
     "name": "stdout",
     "output_type": "stream",
     "text": [
      "5960 / 25000\r"
     ]
    },
    {
     "name": "stderr",
     "output_type": "stream",
     "text": [
      "TopologyException: Input geom 0 is invalid: Self-intersection at or near point 152342.90713165796 412518.211055969 at 152342.90713165796 412518.211055969\n"
     ]
    },
    {
     "name": "stdout",
     "output_type": "stream",
     "text": [
      "6280 / 25000\r"
     ]
    },
    {
     "name": "stderr",
     "output_type": "stream",
     "text": [
      "TopologyException: Input geom 0 is invalid: Self-intersection at or near point 149880.57510541641 410449.65345792612 at 149880.57510541641 410449.65345792612\n"
     ]
    },
    {
     "name": "stdout",
     "output_type": "stream",
     "text": [
      "6858 / 25000\r"
     ]
    },
    {
     "name": "stderr",
     "output_type": "stream",
     "text": [
      "TopologyException: Input geom 0 is invalid: Self-intersection at or near point 219133.45710681856 452356.23580837052 at 219133.45710681856 452356.23580837052\n"
     ]
    },
    {
     "name": "stdout",
     "output_type": "stream",
     "text": [
      "6958 / 25000\r"
     ]
    },
    {
     "name": "stderr",
     "output_type": "stream",
     "text": [
      "TopologyException: Input geom 0 is invalid: Self-intersection at or near point 220806.80401250493 446323.56326366594 at 220806.80401250493 446323.56326366594\n"
     ]
    },
    {
     "name": "stdout",
     "output_type": "stream",
     "text": [
      "7432 / 25000\r"
     ]
    },
    {
     "name": "stderr",
     "output_type": "stream",
     "text": [
      "TopologyException: Input geom 0 is invalid: Self-intersection at or near point 221489.18221777855 446822.29872847447 at 221489.18221777855 446822.29872847447\n"
     ]
    },
    {
     "name": "stdout",
     "output_type": "stream",
     "text": [
      "7652 / 25000\r"
     ]
    },
    {
     "name": "stderr",
     "output_type": "stream",
     "text": [
      "TopologyException: Input geom 0 is invalid: Self-intersection at or near point 219160.2050429504 452372.24028685858 at 219160.2050429504 452372.24028685858\n"
     ]
    },
    {
     "name": "stdout",
     "output_type": "stream",
     "text": [
      "8018 / 25000\r"
     ]
    },
    {
     "name": "stderr",
     "output_type": "stream",
     "text": [
      "TopologyException: Input geom 0 is invalid: Self-intersection at or near point 236403.65376974136 445861.79311000725 at 236403.65376974136 445861.79311000725\n",
      "TopologyException: Input geom 0 is invalid: Self-intersection at or near point 236403.65376974136 445861.79311000725 at 236403.65376974136 445861.79311000725\n"
     ]
    },
    {
     "name": "stdout",
     "output_type": "stream",
     "text": [
      "8649 / 25000\r"
     ]
    },
    {
     "name": "stderr",
     "output_type": "stream",
     "text": [
      "TopologyException: Input geom 0 is invalid: Self-intersection at or near point 220411.7853971422 446539.53985453636 at 220411.7853971422 446539.53985453636\n"
     ]
    },
    {
     "name": "stdout",
     "output_type": "stream",
     "text": [
      "8669 / 25000\r"
     ]
    },
    {
     "name": "stderr",
     "output_type": "stream",
     "text": [
      "TopologyException: Input geom 0 is invalid: Self-intersection at or near point 218768.62990881459 451628.84791548038 at 218768.62990881459 451628.84791548038\n"
     ]
    },
    {
     "name": "stdout",
     "output_type": "stream",
     "text": [
      "8693 / 25000\r"
     ]
    },
    {
     "name": "stderr",
     "output_type": "stream",
     "text": [
      "TopologyException: Input geom 0 is invalid: Self-intersection at or near point 149427.20363074422 410751.83091549313 at 149427.20363074422 410751.83091549313\n"
     ]
    },
    {
     "name": "stdout",
     "output_type": "stream",
     "text": [
      "9245 / 25000\r"
     ]
    },
    {
     "name": "stderr",
     "output_type": "stream",
     "text": [
      "TopologyException: Input geom 0 is invalid: Self-intersection at or near point 221422.59358355493 446760.56436806475 at 221422.59358355493 446760.56436806475\n"
     ]
    },
    {
     "name": "stdout",
     "output_type": "stream",
     "text": [
      "9505 / 25000\r"
     ]
    },
    {
     "name": "stderr",
     "output_type": "stream",
     "text": [
      "TopologyException: Input geom 0 is invalid: Self-intersection at or near point 150076.99705512976 411170.88334749913 at 150076.99705512976 411170.88334749913\n"
     ]
    },
    {
     "name": "stdout",
     "output_type": "stream",
     "text": [
      "9882 / 25000\r"
     ]
    },
    {
     "name": "stderr",
     "output_type": "stream",
     "text": [
      "TopologyException: Input geom 0 is invalid: Self-intersection at or near point 221142.38009972163 446400.41496311279 at 221142.38009972163 446400.41496311279\n"
     ]
    },
    {
     "name": "stdout",
     "output_type": "stream",
     "text": [
      "11047 / 25000\r"
     ]
    },
    {
     "name": "stderr",
     "output_type": "stream",
     "text": [
      "TopologyException: Input geom 0 is invalid: Self-intersection at or near point 221409.61393754999 446700.88197376922 at 221409.61393754999 446700.88197376922\n"
     ]
    },
    {
     "name": "stdout",
     "output_type": "stream",
     "text": [
      "12615 / 25000\r"
     ]
    },
    {
     "name": "stderr",
     "output_type": "stream",
     "text": [
      "TopologyException: Input geom 0 is invalid: Self-intersection at or near point 221418.19137217634 446741.57902108791 at 221418.19137217634 446741.57902108791\n"
     ]
    },
    {
     "name": "stdout",
     "output_type": "stream",
     "text": [
      "13500 / 25000\r"
     ]
    },
    {
     "name": "stderr",
     "output_type": "stream",
     "text": [
      "TopologyException: Input geom 0 is invalid: Self-intersection at or near point 235787.71103990244 445644.40586809465 at 235787.71103990244 445644.40586809465\n"
     ]
    },
    {
     "name": "stdout",
     "output_type": "stream",
     "text": [
      "14590 / 25000\r"
     ]
    },
    {
     "name": "stderr",
     "output_type": "stream",
     "text": [
      "TopologyException: Input geom 0 is invalid: Self-intersection at or near point 221363.63794600105 446934.79283239943 at 221363.63794600105 446934.79283239943\n"
     ]
    },
    {
     "name": "stdout",
     "output_type": "stream",
     "text": [
      "15070 / 25000\r"
     ]
    },
    {
     "name": "stderr",
     "output_type": "stream",
     "text": [
      "TopologyException: Input geom 0 is invalid: Self-intersection at or near point 148787.77702784224 410716.98625067598 at 148787.77702784224 410716.98625067598\n"
     ]
    },
    {
     "name": "stdout",
     "output_type": "stream",
     "text": [
      "15317 / 25000\r"
     ]
    },
    {
     "name": "stderr",
     "output_type": "stream",
     "text": [
      "TopologyException: Input geom 0 is invalid: Self-intersection at or near point 147201.27601923424 412798.19310194848 at 147201.27601923424 412798.19310194848\n"
     ]
    },
    {
     "name": "stdout",
     "output_type": "stream",
     "text": [
      "20257 / 25000\r"
     ]
    },
    {
     "name": "stderr",
     "output_type": "stream",
     "text": [
      "TopologyException: Input geom 0 is invalid: Self-intersection at or near point 149248.98035899265 411104.03514223552 at 149248.98035899265 411104.03514223552\n"
     ]
    },
    {
     "name": "stdout",
     "output_type": "stream",
     "text": [
      "24999 / 25000\r"
     ]
    }
   ],
   "source": [
    "results_list = []\n",
    "length_list = []\n",
    "Polygons_sample = random.sample(Polygons, 25000)\n",
    "scale_factor = ScaleFactor(Polygons_sample)\n",
    "print(\"Scale Factor done\")\n",
    "\n",
    "\n",
    "# Decide order from longest polygon to smallest polygon\n",
    "for row in Polygons_sample:\n",
    "\n",
    "    length_list.append([row, len(row)])\n",
    "\n",
    "length_list.sort(key=operator.itemgetter(1), reverse=True)\n",
    "print(\"Sorted the Polygons\")\n",
    "a=0\n",
    "for element in length_list:\n",
    "    print(str(a) + \" / \" + str(len(length_list)), end=\"\\r\")\n",
    "    a = a + 1\n",
    "    results_dict = {}\n",
    "    poly1 = geometry.Polygon(element[0])\n",
    "    results = []\n",
    "    grid = CreateGrid(element[0], dx, dy)\n",
    "    \n",
    "    for possibility in simplify_possibilities:\n",
    "        \n",
    "\n",
    "        if possibility[0] == 'D-P':\n",
    "            # Simplification function Douglas-Peucker\n",
    "            time_start = time()\n",
    "            simplified_coordinates = simplify_coords(element[0], possibility[1])\n",
    "            time_end = time()\n",
    "            process_time = time_end - time_start\n",
    "\n",
    "        if possibility[0] == 'V-W':\n",
    "            # Simplification function Visvalingam-Whyatt\n",
    "            time_start = time()\n",
    "            simplified_coordinates = simplify_coords_vw(element[0], possibility[1])\n",
    "            time_end = time()\n",
    "            process_time = time_end - time_start\n",
    "        \n",
    "        \n",
    "        if len(simplified_coordinates) >= 3:\n",
    "            poly2 = geometry.Polygon(simplified_coordinates)\n",
    "            length_deficit = (poly2.length - poly1.length) / poly1.length\n",
    "        \n",
    "            # If the length deficit of the polygon is smaller(greater) than the provided MAX_LENGTH_DEFICIT, \n",
    "            # the score gets saved\n",
    "            #if length_deficit > MAX_LENGTH_DEFICIT:\n",
    "            \n",
    "            if length_deficit == 0:\n",
    "                score = ScoreFormula(len(element[0]), len(simplified_coordinates), process_time)\n",
    "                results.append(score)\n",
    "                continue\n",
    "                \n",
    "            try:\n",
    "                if CheckSameIntersections(element[0], simplified_coordinates, grid, ROUNDING) > MIN_INTERSECTIONS_PERC:\n",
    "                    score = ScoreFormula(len(element[0]), len(simplified_coordinates), process_time)\n",
    "                    results.append(score)\n",
    "            except Exception:\n",
    "                continue\n",
    "    \n",
    "    results_dict['polygon'] = Add_Zero_Padding(Add_One_Hot(Normalize_Geometry(element[0], scale_factor)), len(length_list[0][0]))\n",
    "    results_dict['algorithm'] = results.index(max(results))\n",
    "    results_list.append(results_dict)\n",
    "\n",
    "X = []\n",
    "y = []\n",
    "a = 0\n",
    "for element in results_list:\n",
    "    print(str(a) + \" / \" + str(len(length_list)), end=\"\\r\")\n",
    "    a = a + 1\n",
    "    \n",
    "    X.append(element['polygon'])\n",
    "    y.append(element['algorithm'])\n",
    "X = np.array(X)\n",
    "y = np.array(y)\n",
    "# Calculate the deficit in the number of \n",
    "#point_deficit = len(coordinates) - len(simplified_coordinates)\n",
    "#print('Point Deficit: ' + str(point_deficit) + ' out of ' + str(len(coordinates)))\n",
    "\n",
    "#old_area = PolyArea(old_xs,old_ys)\n",
    "#new_area = PolyArea(new_xs,new_ys)\n",
    "#area_deficit_percentage = (new_area - old_area) / old_area\n",
    "#print(area_deficit_percentage)"
   ]
  },
  {
   "cell_type": "code",
   "execution_count": null,
   "metadata": {},
   "outputs": [],
   "source": [
    "time_start = time()\n",
    "Add_Zero_Padding(Add_One_Hot(Normalize_Geometry(length_list[0][0], scale_factor)), len(length_list[0][0]))\n",
    "time_end = time()\n",
    "print(time_end - time_start)"
   ]
  },
  {
   "cell_type": "markdown",
   "metadata": {},
   "source": [
    "# Data Stats"
   ]
  },
  {
   "cell_type": "code",
   "execution_count": 66,
   "metadata": {},
   "outputs": [
    {
     "data": {
      "text/html": [
       "<div>\n",
       "<style scoped>\n",
       "    .dataframe tbody tr th:only-of-type {\n",
       "        vertical-align: middle;\n",
       "    }\n",
       "\n",
       "    .dataframe tbody tr th {\n",
       "        vertical-align: top;\n",
       "    }\n",
       "\n",
       "    .dataframe thead th {\n",
       "        text-align: right;\n",
       "    }\n",
       "</style>\n",
       "<table border=\"1\" class=\"dataframe\">\n",
       "  <thead>\n",
       "    <tr style=\"text-align: right;\">\n",
       "      <th></th>\n",
       "      <th>keys</th>\n",
       "      <th>freq</th>\n",
       "    </tr>\n",
       "  </thead>\n",
       "  <tbody>\n",
       "    <tr>\n",
       "      <th>0</th>\n",
       "      <td>1</td>\n",
       "      <td>17827</td>\n",
       "    </tr>\n",
       "    <tr>\n",
       "      <th>1</th>\n",
       "      <td>3</td>\n",
       "      <td>5886</td>\n",
       "    </tr>\n",
       "    <tr>\n",
       "      <th>2</th>\n",
       "      <td>2</td>\n",
       "      <td>6942</td>\n",
       "    </tr>\n",
       "    <tr>\n",
       "      <th>3</th>\n",
       "      <td>0</td>\n",
       "      <td>17200</td>\n",
       "    </tr>\n",
       "    <tr>\n",
       "      <th>4</th>\n",
       "      <td>4</td>\n",
       "      <td>544</td>\n",
       "    </tr>\n",
       "    <tr>\n",
       "      <th>5</th>\n",
       "      <td>5</td>\n",
       "      <td>260</td>\n",
       "    </tr>\n",
       "    <tr>\n",
       "      <th>6</th>\n",
       "      <td>6</td>\n",
       "      <td>54</td>\n",
       "    </tr>\n",
       "    <tr>\n",
       "      <th>7</th>\n",
       "      <td>11</td>\n",
       "      <td>10</td>\n",
       "    </tr>\n",
       "    <tr>\n",
       "      <th>8</th>\n",
       "      <td>7</td>\n",
       "      <td>9</td>\n",
       "    </tr>\n",
       "    <tr>\n",
       "      <th>9</th>\n",
       "      <td>8</td>\n",
       "      <td>1</td>\n",
       "    </tr>\n",
       "    <tr>\n",
       "      <th>10</th>\n",
       "      <td>12</td>\n",
       "      <td>21</td>\n",
       "    </tr>\n",
       "    <tr>\n",
       "      <th>11</th>\n",
       "      <td>10</td>\n",
       "      <td>5</td>\n",
       "    </tr>\n",
       "    <tr>\n",
       "      <th>12</th>\n",
       "      <td>9</td>\n",
       "      <td>1</td>\n",
       "    </tr>\n",
       "  </tbody>\n",
       "</table>\n",
       "</div>"
      ],
      "text/plain": [
       "    keys   freq\n",
       "0      1  17827\n",
       "1      3   5886\n",
       "2      2   6942\n",
       "3      0  17200\n",
       "4      4    544\n",
       "5      5    260\n",
       "6      6     54\n",
       "7     11     10\n",
       "8      7      9\n",
       "9      8      1\n",
       "10    12     21\n",
       "11    10      5\n",
       "12     9      1"
      ]
     },
     "execution_count": 66,
     "metadata": {},
     "output_type": "execute_result"
    }
   ],
   "source": [
    "pd.DataFrame({'keys':Counter(y).keys(),\n",
    "              'freq':Counter(y).values()})"
   ]
  },
  {
   "cell_type": "code",
   "execution_count": 18,
   "metadata": {},
   "outputs": [
    {
     "name": "stdout",
     "output_type": "stream",
     "text": [
      "[[1.49835994e+05 4.11972081e+05 1.00000000e+00 0.00000000e+00\n",
      "  0.00000000e+00]\n",
      " [1.49834909e+05 4.11971654e+05 1.00000000e+00 0.00000000e+00\n",
      "  0.00000000e+00]\n",
      " [1.49833833e+05 4.11971204e+05 1.00000000e+00 0.00000000e+00\n",
      "  0.00000000e+00]\n",
      " ...\n",
      " [1.49837390e+05 4.11973647e+05 1.00000000e+00 0.00000000e+00\n",
      "  0.00000000e+00]\n",
      " [1.49835677e+05 4.11973179e+05 1.00000000e+00 0.00000000e+00\n",
      "  0.00000000e+00]\n",
      " [1.49835994e+05 4.11972081e+05 0.00000000e+00 0.00000000e+00\n",
      "  1.00000000e+00]]\n"
     ]
    }
   ],
   "source": [
    "print(X[0])"
   ]
  },
  {
   "cell_type": "code",
   "execution_count": null,
   "metadata": {},
   "outputs": [],
   "source": [
    "# Select index of simplification possibility\n",
    "INDEX = 6\n",
    "\n",
    "\n",
    "possibility = simplify_possibilities[INDEX]\n",
    "\n",
    "if possibility[0] == 'D-P':\n",
    "    # Simplification function Douglas-Peucker\n",
    "    simplified_coordinates = simplify_coords(coordinates, possibility[1])\n",
    "\n",
    "if possibility[0] == 'V-W':\n",
    "    # Simplification function Visvalingam-Whyatt\n",
    "    simplified_coordinates = simplify_coords_vw(coordinates, possibility[1])\n",
    "\n",
    "old_xs, old_ys = zip(*coordinates)\n",
    "new_xs, new_ys = zip(*simplified_coordinates)\n",
    "\n",
    "print(len(simplified_coordinates))\n",
    "print(len(coordinates))"
   ]
  },
  {
   "cell_type": "markdown",
   "metadata": {},
   "source": [
    "# Plotting"
   ]
  },
  {
   "cell_type": "code",
   "execution_count": null,
   "metadata": {},
   "outputs": [],
   "source": [
    "plt.figure()\n",
    "plt.plot(old_xs, old_ys)\n",
    "plt.plot(new_xs, new_ys)\n",
    "plt.show()"
   ]
  },
  {
   "cell_type": "markdown",
   "metadata": {},
   "source": [
    "# Keras"
   ]
  },
  {
   "cell_type": "code",
   "execution_count": 19,
   "metadata": {},
   "outputs": [
    {
     "name": "stdout",
     "output_type": "stream",
     "text": [
      "(1863, 5)\n",
      "Model: \"sequential_1\"\n",
      "_________________________________________________________________\n",
      "Layer (type)                 Output Shape              Param #   \n",
      "=================================================================\n",
      "conv1d_2 (Conv1D)            (None, 1859, 32)          832       \n",
      "_________________________________________________________________\n",
      "max_pooling1d_1 (MaxPooling1 (None, 619, 32)           0         \n",
      "_________________________________________________________________\n",
      "conv1d_3 (Conv1D)            (None, 615, 64)           10304     \n",
      "_________________________________________________________________\n",
      "global_average_pooling1d_1 ( (None, 64)                0         \n",
      "_________________________________________________________________\n",
      "dense_1 (Dense)              (None, 13)                845       \n",
      "=================================================================\n",
      "Total params: 11,981\n",
      "Trainable params: 11,981\n",
      "Non-trainable params: 0\n",
      "_________________________________________________________________\n",
      "None\n"
     ]
    }
   ],
   "source": [
    "input_shape = X[0].shape\n",
    "print(input_shape)\n",
    "model = Sequential()\n",
    "model.add(layers.Conv1D(32, 5, activation='relu', input_shape=input_shape))\n",
    "model.add(layers.MaxPooling1D(3,3))\n",
    "\n",
    "model.add(layers.Conv1D(64, 5, activation='relu'))\n",
    "model.add(layers.GlobalAveragePooling1D())\n",
    "model.add(layers.Dense(len(simplify_possibilities), activation='softmax'))\n",
    "\n",
    "print(model.summary())"
   ]
  },
  {
   "cell_type": "code",
   "execution_count": 7,
   "metadata": {},
   "outputs": [
    {
     "name": "stdout",
     "output_type": "stream",
     "text": [
      "Train on 39008 samples, validate on 9752 samples\n",
      "Epoch 1/50\n",
      "39008/39008 [==============================] - 180s 5ms/sample - loss: 1.7692 - acc: 0.4267 - val_loss: 1.5241 - val_acc: 0.0425\n",
      "Epoch 2/50\n",
      "39008/39008 [==============================] - 42428s 1s/sample - loss: 1.3214 - acc: 0.4313 - val_loss: 1.4054 - val_acc: 0.0425\n",
      "Epoch 3/50\n",
      "39008/39008 [==============================] - 174s 4ms/sample - loss: 1.2905 - acc: 0.4645 - val_loss: 1.2061 - val_acc: 0.8345\n",
      "Epoch 4/50\n",
      "39008/39008 [==============================] - 176s 5ms/sample - loss: 1.2868 - acc: 0.4723 - val_loss: 1.2093 - val_acc: 0.8345\n",
      "Epoch 5/50\n",
      "39008/39008 [==============================] - 181s 5ms/sample - loss: 1.2851 - acc: 0.4733 - val_loss: 1.2072 - val_acc: 0.8345\n",
      "Epoch 6/50\n",
      "39008/39008 [==============================] - 172s 4ms/sample - loss: 1.2848 - acc: 0.4708 - val_loss: 1.2007 - val_acc: 0.8345\n",
      "Epoch 7/50\n",
      "39008/39008 [==============================] - 178s 5ms/sample - loss: 1.2840 - acc: 0.4724 - val_loss: 1.1804 - val_acc: 0.8345\n",
      "Epoch 8/50\n",
      " 6400/39008 [===>..........................] - ETA: 2:20 - loss: 1.2850 - acc: 0.4756"
     ]
    },
    {
     "ename": "KeyboardInterrupt",
     "evalue": "",
     "output_type": "error",
     "traceback": [
      "\u001b[0;31m---------------------------------------------------------------------------\u001b[0m",
      "\u001b[0;31mKeyboardInterrupt\u001b[0m                         Traceback (most recent call last)",
      "\u001b[0;32m<ipython-input-7-60ebe4b9d986>\u001b[0m in \u001b[0;36m<module>\u001b[0;34m\u001b[0m\n\u001b[1;32m     10\u001b[0m                     \u001b[0mepochs\u001b[0m\u001b[0;34m=\u001b[0m\u001b[0mEPOCHS\u001b[0m\u001b[0;34m,\u001b[0m\u001b[0;34m\u001b[0m\u001b[0;34m\u001b[0m\u001b[0m\n\u001b[1;32m     11\u001b[0m                     \u001b[0mvalidation_split\u001b[0m\u001b[0;34m=\u001b[0m\u001b[0;36m0.2\u001b[0m\u001b[0;34m,\u001b[0m\u001b[0;34m\u001b[0m\u001b[0;34m\u001b[0m\u001b[0m\n\u001b[0;32m---> 12\u001b[0;31m                     verbose=1)\n\u001b[0m",
      "\u001b[0;32m/opt/anaconda3/lib/python3.7/site-packages/tensorflow/python/keras/engine/training.py\u001b[0m in \u001b[0;36mfit\u001b[0;34m(self, x, y, batch_size, epochs, verbose, callbacks, validation_split, validation_data, shuffle, class_weight, sample_weight, initial_epoch, steps_per_epoch, validation_steps, validation_freq, max_queue_size, workers, use_multiprocessing, **kwargs)\u001b[0m\n\u001b[1;32m    778\u001b[0m           \u001b[0mvalidation_steps\u001b[0m\u001b[0;34m=\u001b[0m\u001b[0mvalidation_steps\u001b[0m\u001b[0;34m,\u001b[0m\u001b[0;34m\u001b[0m\u001b[0;34m\u001b[0m\u001b[0m\n\u001b[1;32m    779\u001b[0m           \u001b[0mvalidation_freq\u001b[0m\u001b[0;34m=\u001b[0m\u001b[0mvalidation_freq\u001b[0m\u001b[0;34m,\u001b[0m\u001b[0;34m\u001b[0m\u001b[0;34m\u001b[0m\u001b[0m\n\u001b[0;32m--> 780\u001b[0;31m           steps_name='steps_per_epoch')\n\u001b[0m\u001b[1;32m    781\u001b[0m \u001b[0;34m\u001b[0m\u001b[0m\n\u001b[1;32m    782\u001b[0m   def evaluate(self,\n",
      "\u001b[0;32m/opt/anaconda3/lib/python3.7/site-packages/tensorflow/python/keras/engine/training_arrays.py\u001b[0m in \u001b[0;36mmodel_iteration\u001b[0;34m(model, inputs, targets, sample_weights, batch_size, epochs, verbose, callbacks, val_inputs, val_targets, val_sample_weights, shuffle, initial_epoch, steps_per_epoch, validation_steps, validation_freq, mode, validation_in_fit, prepared_feed_values_from_dataset, steps_name, **kwargs)\u001b[0m\n\u001b[1;32m    361\u001b[0m \u001b[0;34m\u001b[0m\u001b[0m\n\u001b[1;32m    362\u001b[0m         \u001b[0;31m# Get outputs.\u001b[0m\u001b[0;34m\u001b[0m\u001b[0;34m\u001b[0m\u001b[0;34m\u001b[0m\u001b[0m\n\u001b[0;32m--> 363\u001b[0;31m         \u001b[0mbatch_outs\u001b[0m \u001b[0;34m=\u001b[0m \u001b[0mf\u001b[0m\u001b[0;34m(\u001b[0m\u001b[0mins_batch\u001b[0m\u001b[0;34m)\u001b[0m\u001b[0;34m\u001b[0m\u001b[0;34m\u001b[0m\u001b[0m\n\u001b[0m\u001b[1;32m    364\u001b[0m         \u001b[0;32mif\u001b[0m \u001b[0;32mnot\u001b[0m \u001b[0misinstance\u001b[0m\u001b[0;34m(\u001b[0m\u001b[0mbatch_outs\u001b[0m\u001b[0;34m,\u001b[0m \u001b[0mlist\u001b[0m\u001b[0;34m)\u001b[0m\u001b[0;34m:\u001b[0m\u001b[0;34m\u001b[0m\u001b[0;34m\u001b[0m\u001b[0m\n\u001b[1;32m    365\u001b[0m           \u001b[0mbatch_outs\u001b[0m \u001b[0;34m=\u001b[0m \u001b[0;34m[\u001b[0m\u001b[0mbatch_outs\u001b[0m\u001b[0;34m]\u001b[0m\u001b[0;34m\u001b[0m\u001b[0;34m\u001b[0m\u001b[0m\n",
      "\u001b[0;32m/opt/anaconda3/lib/python3.7/site-packages/tensorflow/python/keras/backend.py\u001b[0m in \u001b[0;36m__call__\u001b[0;34m(self, inputs)\u001b[0m\n\u001b[1;32m   3290\u001b[0m \u001b[0;34m\u001b[0m\u001b[0m\n\u001b[1;32m   3291\u001b[0m     fetched = self._callable_fn(*array_vals,\n\u001b[0;32m-> 3292\u001b[0;31m                                 run_metadata=self.run_metadata)\n\u001b[0m\u001b[1;32m   3293\u001b[0m     \u001b[0mself\u001b[0m\u001b[0;34m.\u001b[0m\u001b[0m_call_fetch_callbacks\u001b[0m\u001b[0;34m(\u001b[0m\u001b[0mfetched\u001b[0m\u001b[0;34m[\u001b[0m\u001b[0;34m-\u001b[0m\u001b[0mlen\u001b[0m\u001b[0;34m(\u001b[0m\u001b[0mself\u001b[0m\u001b[0;34m.\u001b[0m\u001b[0m_fetches\u001b[0m\u001b[0;34m)\u001b[0m\u001b[0;34m:\u001b[0m\u001b[0;34m]\u001b[0m\u001b[0;34m)\u001b[0m\u001b[0;34m\u001b[0m\u001b[0;34m\u001b[0m\u001b[0m\n\u001b[1;32m   3294\u001b[0m     output_structure = nest.pack_sequence_as(\n",
      "\u001b[0;32m/opt/anaconda3/lib/python3.7/site-packages/tensorflow/python/client/session.py\u001b[0m in \u001b[0;36m__call__\u001b[0;34m(self, *args, **kwargs)\u001b[0m\n\u001b[1;32m   1456\u001b[0m         ret = tf_session.TF_SessionRunCallable(self._session._session,\n\u001b[1;32m   1457\u001b[0m                                                \u001b[0mself\u001b[0m\u001b[0;34m.\u001b[0m\u001b[0m_handle\u001b[0m\u001b[0;34m,\u001b[0m \u001b[0margs\u001b[0m\u001b[0;34m,\u001b[0m\u001b[0;34m\u001b[0m\u001b[0;34m\u001b[0m\u001b[0m\n\u001b[0;32m-> 1458\u001b[0;31m                                                run_metadata_ptr)\n\u001b[0m\u001b[1;32m   1459\u001b[0m         \u001b[0;32mif\u001b[0m \u001b[0mrun_metadata\u001b[0m\u001b[0;34m:\u001b[0m\u001b[0;34m\u001b[0m\u001b[0;34m\u001b[0m\u001b[0m\n\u001b[1;32m   1460\u001b[0m           \u001b[0mproto_data\u001b[0m \u001b[0;34m=\u001b[0m \u001b[0mtf_session\u001b[0m\u001b[0;34m.\u001b[0m\u001b[0mTF_GetBuffer\u001b[0m\u001b[0;34m(\u001b[0m\u001b[0mrun_metadata_ptr\u001b[0m\u001b[0;34m)\u001b[0m\u001b[0;34m\u001b[0m\u001b[0;34m\u001b[0m\u001b[0m\n",
      "\u001b[0;31mKeyboardInterrupt\u001b[0m: "
     ]
    }
   ],
   "source": [
    "model.compile(loss='sparse_categorical_crossentropy',\n",
    "                optimizer='adam', metrics=['accuracy'])\n",
    "\n",
    "BATCH_SIZE = 400\n",
    "EPOCHS = 50\n",
    "\n",
    "history = model.fit(X,\n",
    "                    y,\n",
    "                    batch_size=BATCH_SIZE,\n",
    "                    epochs=EPOCHS,\n",
    "                    validation_split=0.2,\n",
    "                    verbose=1)"
   ]
  },
  {
   "cell_type": "code",
   "execution_count": null,
   "metadata": {},
   "outputs": [],
   "source": [
    "len(X)"
   ]
  },
  {
   "cell_type": "markdown",
   "metadata": {},
   "source": [
    "# PyTorch"
   ]
  },
  {
   "cell_type": "code",
   "execution_count": null,
   "metadata": {},
   "outputs": [],
   "source": [
    "import torch.nn as nn\n",
    "import torch.nn.functional as F\n",
    "\n",
    "class Net(nn.Module):\n",
    "    def __init__(self):\n",
    "        super().__init__()\n",
    "        self.conv1 = nn.Conv1d(len(X), 32, 5)\n",
    "        self.pool1 = nn.MaxPool1d(3, 3)\n",
    "        self.conv2 = nn.Conv1d(61, 64, 5)\n",
    "        self.pool2 = nn.AvgPool1d(64)\n",
    "        self.fc1 = nn.Linear(13,13)\n",
    "\n",
    "    def forward(self, x):\n",
    "        x = self.pool(F.relu(self.conv1(x)))\n",
    "        x = self.pool(F.relu(self.conv2(x)))\n",
    "        x = F.softmax(self.fc1(x))\n",
    "        return x\n",
    "\n",
    "\n",
    "net = Net()"
   ]
  },
  {
   "cell_type": "code",
   "execution_count": null,
   "metadata": {},
   "outputs": [],
   "source": [
    "import torch.optim as optim\n",
    "\n",
    "criterion = nn.CrossEntropyLoss()\n",
    "optimizer = optim.SGD(net.parameters(), lr=0.001, momentum=0.9)"
   ]
  },
  {
   "cell_type": "code",
   "execution_count": null,
   "metadata": {},
   "outputs": [],
   "source": [
    "for epoch in range(2):  # loop over the dataset multiple times\n",
    "\n",
    "    running_loss = 0.0\n",
    "    for i, data in enumerate(trainloader, 0):\n",
    "        # get the inputs; data is a list of [inputs, labels]\n",
    "        inputs, labels = data\n",
    "\n",
    "        # zero the parameter gradients\n",
    "        optimizer.zero_grad()\n",
    "\n",
    "        # forward + backward + optimize\n",
    "        outputs = net(inputs)\n",
    "        loss = criterion(outputs, labels)\n",
    "        loss.backward()\n",
    "        optimizer.step()\n",
    "\n",
    "        # print statistics\n",
    "        running_loss += loss.item()\n",
    "        if i % 2000 == 1999:    # print every 2000 mini-batches\n",
    "            print('[%d, %5d] loss: %.3f' %\n",
    "                  (epoch + 1, i + 1, running_loss / 2000))\n",
    "            running_loss = 0.0\n",
    "\n",
    "print('Finished Training')"
   ]
  }
 ],
 "metadata": {
  "kernelspec": {
   "display_name": "Python 3",
   "language": "python",
   "name": "python3"
  },
  "language_info": {
   "codemirror_mode": {
    "name": "ipython",
    "version": 3
   },
   "file_extension": ".py",
   "mimetype": "text/x-python",
   "name": "python",
   "nbconvert_exporter": "python",
   "pygments_lexer": "ipython3",
   "version": "3.7.7"
  }
 },
 "nbformat": 4,
 "nbformat_minor": 4
}
