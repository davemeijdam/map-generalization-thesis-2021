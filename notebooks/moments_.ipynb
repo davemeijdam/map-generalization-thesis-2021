{
 "cells": [
  {
   "cell_type": "code",
   "execution_count": 1,
   "id": "0e9ccfd2",
   "metadata": {},
   "outputs": [],
   "source": [
    "import torch\n",
    "torch.pi = torch.acos(torch.zeros(1)).item() * 2\n",
    "import torch.nn as nn\n",
    "import torch.nn.functional as F\n",
    "\n",
    "import math\n",
    "\n",
    "from torchvision import datasets, transforms\n",
    "import numpy as np\n",
    "import matplotlib.pyplot as plt"
   ]
  },
  {
   "cell_type": "code",
   "execution_count": 2,
   "id": "2e8b715e",
   "metadata": {},
   "outputs": [],
   "source": [
    "MAGIC_NUMBER = 0\n",
    "class TensorToPolygon:\n",
    "    \n",
    "    def __call__(self, data):\n",
    "        data = data.view(-1, 784)\n",
    "        data = list(data.unbind())\n",
    "        data = [torch.arange(784)[(x > 0.8)] for x in data]\n",
    "        data = [torch.Tensor(list(x) + (351 - len(x)) * [MAGIC_NUMBER]) for x in data]\n",
    "        data = torch.stack(data).contiguous()\n",
    "        return data\n",
    "    \n",
    "    \n",
    "class OneDToTwoD:\n",
    "    \n",
    "    def __call__(self, data):\n",
    "        \n",
    "        data = [torch.Tensor(x[x != MAGIC_NUMBER]) for x in data]   \n",
    "        data = [torch.Tensor([list([(b // 28) - 14, (b % 28) - 14]) for b in a]) for a in data]\n",
    "        data = [torch.cat((x, torch.Tensor(np.full((351 - x.shape[0],2),MAGIC_NUMBER)))) for x in data]\n",
    "        data = torch.stack(data).contiguous()\n",
    "        return data\n",
    "    \n",
    "#class Transform1d2d:\n",
    "#    def __call__(self, x):\n",
    "#        return torch.stack([x // 28, x % 28], -1)\n",
    "    \n",
    "class Transform1d2d:\n",
    "    def __call__(self, x):\n",
    "        return torch.stack([((x // 28) -14) * (x != MAGIC_NUMBER), ((x % 28) - 14) * (x != MAGIC_NUMBER)],-1)\n",
    "        "
   ]
  },
  {
   "cell_type": "code",
   "execution_count": 3,
   "id": "55aed091",
   "metadata": {},
   "outputs": [],
   "source": [
    "def plot_preprocessing(xy):\n",
    "    matrix = np.zeros(784)\n",
    "\n",
    "    for x, y in xy[0]:\n",
    "        if (x!=MAGIC_NUMBER) & (y!=MAGIC_NUMBER):\n",
    "            x = int(x)+14\n",
    "            y = int(y)+14\n",
    "            #x = int(x)\n",
    "            #y = int(y)\n",
    "            index = int(x*28+y)\n",
    "            matrix[index] = 1\n",
    "        \n",
    "    img_size = int(math.sqrt(784))\n",
    "    return np.reshape(matrix, (img_size, img_size))\n",
    "\n",
    "def plot_preprocessing1(xy):\n",
    "    matrix = np.zeros(784)\n",
    "\n",
    "    for x, y in xy[0]:\n",
    "        x = int(x+14)\n",
    "        y = int(y+14)\n",
    "        #x = int(x)\n",
    "        #y = int(y)\n",
    "        index = int(x*28+y)\n",
    "        if index < 784:\n",
    "            matrix[index] = 1\n",
    "        \n",
    "    img_size = int(math.sqrt(784))\n",
    "    return np.reshape(matrix, (img_size, img_size))\n",
    "\n",
    "#plt.imshow(plot_preprocessing(default))\n",
    "#print(c_mass(default)[:,0])"
   ]
  },
  {
   "cell_type": "code",
   "execution_count": 35,
   "id": "3078c1e8",
   "metadata": {},
   "outputs": [],
   "source": [
    "dataset1 = datasets.MNIST('~/Developer/datasets', train=True, \n",
    "                          transform=transforms.Compose([\n",
    "#                              transforms.RandomCrop(28, padding=2), # random shift by +- 2 pixels in all direcitons\n",
    "                              transforms.RandomAffine(degrees=0, translate=None, scale=None),\n",
    "                              transforms.ToTensor(),\n",
    "                              TensorToPolygon(),\n",
    "                              Transform1d2d()\n",
    "#                              OneDToTwoD()\n",
    "                          ]))\n",
    "\n",
    "dataset2 = datasets.MNIST('~/Developer/datasets', train=True, \n",
    "                          transform=transforms.Compose([\n",
    "#                              transforms.RandomCrop(28, padding=2), # random shift by +- 2 pixels in all direcitons\n",
    "                              transforms.RandomAffine(degrees=180, translate=None, scale=None),\n",
    "                              transforms.ToTensor(),\n",
    "                              TensorToPolygon(),\n",
    "                              Transform1d2d()\n",
    "#                              OneDToTwoD()\n",
    "                          ]))\n",
    "\n",
    "dataset3 = datasets.MNIST('~/Developer/datasets', train=True, \n",
    "                          transform=transforms.Compose([\n",
    "#                              transforms.RandomCrop(28, padding=2), # random shift by +- 2 pixels in all direcitons\n",
    "                              transforms.RandomAffine(degrees=0, translate=(0.2,0.2), scale=None),\n",
    "                              transforms.ToTensor(),\n",
    "                              TensorToPolygon(),\n",
    "                              Transform1d2d()\n",
    "#                              OneDToTwoD()\n",
    "                          ]))\n",
    "\n",
    "dataset4 = datasets.MNIST('~/Developer/datasets', train=True, \n",
    "                          transform=transforms.Compose([\n",
    "#                              transforms.RandomCrop(28, padding=2), # random shift by +- 2 pixels in all direcitons\n",
    "                              transforms.RandomAffine(degrees=0, translate=None, scale=(0.5,1.5)),\n",
    "                              transforms.ToTensor(),\n",
    "                              TensorToPolygon(),\n",
    "                              Transform1d2d()\n",
    "#                              OneDToTwoD()\n",
    "                          ]))\n",
    "\n",
    "dataset5 = datasets.MNIST('~/Developer/datasets', train=True, \n",
    "                          transform=transforms.Compose([\n",
    "#                              transforms.RandomCrop(28, padding=2), # random shift by +- 2 pixels in all direcitons\n",
    "                              #transforms.RandomAffine(degrees=0, translate=None, scale=(0.5,1.4)),\n",
    "                              transforms.RandomHorizontalFlip(p=1),\n",
    "                              transforms.ToTensor(),\n",
    "                              TensorToPolygon(),\n",
    "                              Transform1d2d()\n",
    "#                              OneDToTwoD()\n",
    "                          ]))"
   ]
  },
  {
   "cell_type": "code",
   "execution_count": 49,
   "id": "2ad7fa4b",
   "metadata": {},
   "outputs": [],
   "source": [
    "default = dataset1[0][0]\n",
    "rotated = dataset2[0][0]\n",
    "translated = dataset3[0][0]\n",
    "scaled = dataset4[0][0]\n",
    "flipped = dataset5[0][0]"
   ]
  },
  {
   "cell_type": "code",
   "execution_count": 50,
   "id": "01dc8f3a",
   "metadata": {},
   "outputs": [],
   "source": [
    "def moment(xy, p, q):\n",
    "    x = xy[:,:, 0]\n",
    "    y = xy[:,:, 1]\n",
    "    x = x.pow(p) * (x != MAGIC_NUMBER)\n",
    "    y = y.pow(q) * (y != MAGIC_NUMBER)\n",
    "    M = (x * y).sum(-1)\n",
    "    return M\n",
    "\n",
    "def c_mass(xy):\n",
    "    mass = moment(xy, 0, 0)\n",
    "    mx = moment(xy, 1, 0) / mass\n",
    "    my = moment(xy, 0, 1) / mass\n",
    "    return torch.stack([mx, my], -1)\n",
    "\n",
    "def mu(xy, p, q):\n",
    "    m = c_mass(xy)\n",
    "    x = xy[:, 0]\n",
    "    y = xy[:, 1]\n",
    "    x = (x - m[:, 0]).pow(p) * (x != MAGIC_NUMBER)\n",
    "    y = (y - m[:, 1]).pow(q) * (y != MAGIC_NUMBER)\n",
    "    M = (x * y).sum(-1)\n",
    "    return M\n",
    "\n",
    "def nu(xy, p, q):\n",
    "    return mu(xy, p, q) / (mu(xy,0,0)**(1 + (p+q)/2))"
   ]
  },
  {
   "cell_type": "code",
   "execution_count": 94,
   "id": "ea4fb6ab",
   "metadata": {},
   "outputs": [
    {
     "name": "stdout",
     "output_type": "stream",
     "text": [
      "tensor([-5753.])\n",
      "tensor([2354.])\n"
     ]
    }
   ],
   "source": [
    "def scale_factor(scaled):\n",
    "#     m =  moment(scaled, 0, 0).sqrt() / 9\n",
    "#     print(m)\n",
    "#     return m\n",
    "#     print(moment(scaled, 1, 1))\n",
    "    return torch.sqrt((moment(scaled,2,0) + moment(scaled, 0, 2))/2500)\n",
    "\n",
    "def normalized_cgm(scaled, p, q):\n",
    "    w = (p+q)/2+1\n",
    "    return mu(scaled,p,q) / mu(scaled,0,0)**w\n",
    "\n",
    "def rotation_alpha2(q, p, r):\n",
    "    #r = mu'11\n",
    "    #q = mu11\n",
    "    #p = (mu20 - mu02)\n",
    "    return (2 * (p*r - torch.sqrt(p.pow(2)*q.pow(2) + 4*q.pow(4) - 4*q.pow(2)*r.pow(2)))) / (p.pow(2) + 4*q.pow(2))\n",
    "    \n",
    "\n",
    "def canonical_transformation(xy, original=None):\n",
    "#   translation\n",
    "    m = c_mass(xy)\n",
    "    x = xy - m.view(1, 2) * (xy[:,:, 0] != MAGIC_NUMBER).view(1,-1, 1)\n",
    "    \n",
    "#   scale\n",
    "    scale = scale_factor(xy)\n",
    "    x = x / scale\n",
    "    \n",
    "#   rotation\n",
    "    m_20 = moment(x, 2, 0)\n",
    "    m_02 = moment(x, 0, 2)\n",
    "    m_11 = moment(x, 1, 1)\n",
    "    \n",
    "    angle = np.arctan2(2 * m_11, m_20 - m_02) / 2.0\n",
    "#     return angle\n",
    "    if angle < 0:\n",
    "        angle = np.pi + angle # this is a bad solution\n",
    "        # we need to analyze m_30, m_21, m_12, m_03 to check for flip symmetry\n",
    "    #print(angle*180/np.pi)\n",
    "    \n",
    "    M = torch.Tensor([\n",
    "        [angle.cos(), angle.sin()],\n",
    "        [-angle.sin(), angle.cos()]\n",
    "    ])\n",
    "    x = (M @ x[0].T).T[None]\n",
    "    \n",
    "    #flipping\n",
    "    \n",
    "    mu_30 = moment(x, 3, 0)\n",
    "    mu_03 = moment(x, 0, 3)\n",
    "#     print(mu_30)\n",
    "    sign_x = mu_30 / mu_30.abs()\n",
    "    sign_y = mu_03 / mu_03.abs()\n",
    "    sign = torch.Tensor([sign_x, sign_y]).view(1, 1, 2)\n",
    "    x = x * sign\n",
    "#     print(mu(xy,0,3))\n",
    "    #if((mu(xy,0,3) < 0) & (mu(xy,3,0) < 0)):\n",
    "    #    x = x * torch.Tensor([[-1,-1]])\n",
    "        \n",
    "#     if(mu(xy,0,3) < 0):\n",
    "#         x = x * torch.Tensor([[1,-1]])\n",
    "        \n",
    "    #elif(mu(xy,3,0) < 0):\n",
    "    #    x = x * torch.Tensor([[-1,1]])\n",
    "    \n",
    "    \n",
    "    #print(x)\n",
    "    \n",
    "    return x\n",
    "\n",
    "#default = dataset1[0][0]\n",
    "#rotated = dataset2[0][0]\n",
    "#translated = dataset3[0][0]\n",
    "#scaled = dataset4[0][0]\n",
    "#flipped = dataset5[0][0]\n",
    "\n",
    "#print(default[:,:10])\n",
    "\n",
    "print(moment(default,2,1))\n",
    "print(moment(flipped,2,1))\n",
    "\n",
    "#canonical_transformation(default, default)\n",
    "#canonical_transformation(rotated)\n",
    "#print(scaled[:,:10])"
   ]
  },
  {
   "cell_type": "code",
   "execution_count": 103,
   "id": "b3b0262d",
   "metadata": {},
   "outputs": [],
   "source": [
    "default = dataset1[0][0]\n",
    "rotated = dataset2[0][0]\n",
    "translated = dataset3[0][0]\n",
    "scaled = dataset4[0][0]\n",
    "flipped = dataset5[0][0]"
   ]
  },
  {
   "cell_type": "code",
   "execution_count": 104,
   "id": "f860d9a4",
   "metadata": {},
   "outputs": [
    {
     "data": {
      "text/plain": [
       "<matplotlib.image.AxesImage at 0x7ff3fb21bcd0>"
      ]
     },
     "execution_count": 104,
     "metadata": {},
     "output_type": "execute_result"
    },
    {
     "data": {
      "image/png": "[encoded data removed]",
      "text/plain": [
       "<Figure size 432x288 with 10 Axes>"
      ]
     },
     "metadata": {
      "needs_background": "light"
     },
     "output_type": "display_data"
    }
   ],
   "source": [
    "figure, axis = plt.subplots(5, 2)\n",
    "\n",
    "axis[0, 0].imshow(plot_preprocessing(default))\n",
    "axis[0, 1].imshow(plot_preprocessing(canonical_transformation(default, default)))\n",
    "\n",
    "axis[1, 0].imshow(plot_preprocessing(rotated))\n",
    "axis[1, 1].imshow(plot_preprocessing(canonical_transformation(rotated, default)))\n",
    "\n",
    "axis[2, 0].imshow(plot_preprocessing(translated))\n",
    "axis[2, 1].imshow(plot_preprocessing(canonical_transformation(translated, default)))\n",
    "\n",
    "axis[3, 0].imshow(plot_preprocessing(scaled))\n",
    "axis[3, 1].imshow(plot_preprocessing(canonical_transformation(scaled * 5, default)))\n",
    "\n",
    "axis[4, 0].imshow(plot_preprocessing(flipped))\n",
    "axis[4, 1].imshow(plot_preprocessing(canonical_transformation(flipped, default)))"
   ]
  },
  {
   "cell_type": "code",
   "execution_count": null,
   "id": "3ea3d0b3",
   "metadata": {},
   "outputs": [],
   "source": [
    "def rot(xy, angle):\n",
    "    m = c_mass(xy)\n",
    "    xy = xy - m.view(1, 1, 2) * (xy[:, :, 0] != 0).view(1, -1, 1)\n",
    "    M = torch.Tensor([\n",
    "        [torch.cos(angle), -torch.sin(angle)],\n",
    "        [torch.sin(angle), torch.cos(angle)]\n",
    "    ])\n",
    "    xy = M @ xy[0].T\n",
    "    return xy.T[None]"
   ]
  },
  {
   "cell_type": "code",
   "execution_count": 15,
   "id": "10f80ce5",
   "metadata": {},
   "outputs": [
    {
     "data": {
      "text/plain": [
       "<matplotlib.image.AxesImage at 0x7ff40f216090>"
      ]
     },
     "execution_count": 15,
     "metadata": {},
     "output_type": "execute_result"
    },
    {
     "data": {
      "image/png": "[encoded data removed]",
      "text/plain": [
       "<Figure size 432x288 with 1 Axes>"
      ]
     },
     "metadata": {
      "needs_background": "light"
     },
     "output_type": "display_data"
    }
   ],
   "source": [
    "plt.imshow(plot_preprocessing1(rot(default, torch.Tensor([0 * np.pi / 180]))))"
   ]
  },
  {
   "cell_type": "code",
   "execution_count": 16,
   "id": "6cbeecd3",
   "metadata": {},
   "outputs": [
    {
     "ename": "ValueError",
     "evalue": "too many values to unpack (expected 3)",
     "output_type": "error",
     "traceback": [
      "\u001b[0;31m---------------------------------------------------------------------------\u001b[0m",
      "\u001b[0;31mValueError\u001b[0m                                Traceback (most recent call last)",
      "\u001b[0;32m<ipython-input-16-ed5bde47bc75>\u001b[0m in \u001b[0;36m<module>\u001b[0;34m\u001b[0m\n\u001b[1;32m      4\u001b[0m \u001b[0mm_11\u001b[0m \u001b[0;34m=\u001b[0m \u001b[0;34m[\u001b[0m\u001b[0;34m]\u001b[0m\u001b[0;34m\u001b[0m\u001b[0;34m\u001b[0m\u001b[0m\n\u001b[1;32m      5\u001b[0m \u001b[0;32mfor\u001b[0m \u001b[0ma\u001b[0m \u001b[0;32min\u001b[0m \u001b[0mangles\u001b[0m\u001b[0;34m:\u001b[0m\u001b[0;34m\u001b[0m\u001b[0;34m\u001b[0m\u001b[0m\n\u001b[0;32m----> 6\u001b[0;31m     \u001b[0mm_20_\u001b[0m\u001b[0;34m,\u001b[0m \u001b[0mm_02_\u001b[0m\u001b[0;34m,\u001b[0m \u001b[0mm_11_\u001b[0m \u001b[0;34m=\u001b[0m \u001b[0mcanonical_transformation\u001b[0m\u001b[0;34m(\u001b[0m\u001b[0mrot\u001b[0m\u001b[0;34m(\u001b[0m\u001b[0mdefault\u001b[0m\u001b[0;34m,\u001b[0m \u001b[0ma\u001b[0m\u001b[0;34m)\u001b[0m\u001b[0;34m)\u001b[0m\u001b[0;34m\u001b[0m\u001b[0;34m\u001b[0m\u001b[0m\n\u001b[0m\u001b[1;32m      7\u001b[0m     \u001b[0mm_20\u001b[0m\u001b[0;34m.\u001b[0m\u001b[0mappend\u001b[0m\u001b[0;34m(\u001b[0m\u001b[0mm_20_\u001b[0m\u001b[0;34m.\u001b[0m\u001b[0mitem\u001b[0m\u001b[0;34m(\u001b[0m\u001b[0;34m)\u001b[0m\u001b[0;34m)\u001b[0m\u001b[0;34m\u001b[0m\u001b[0;34m\u001b[0m\u001b[0m\n\u001b[1;32m      8\u001b[0m     \u001b[0mm_02\u001b[0m\u001b[0;34m.\u001b[0m\u001b[0mappend\u001b[0m\u001b[0;34m(\u001b[0m\u001b[0mm_02_\u001b[0m\u001b[0;34m.\u001b[0m\u001b[0mitem\u001b[0m\u001b[0;34m(\u001b[0m\u001b[0;34m)\u001b[0m\u001b[0;34m)\u001b[0m\u001b[0;34m\u001b[0m\u001b[0;34m\u001b[0m\u001b[0m\n",
      "\u001b[0;31mValueError\u001b[0m: too many values to unpack (expected 3)"
     ]
    }
   ],
   "source": [
    "angles = torch.linspace(0, 2*3.14, 50)\n",
    "m_20 = []\n",
    "m_02 = []\n",
    "m_11 = []\n",
    "for a in angles:\n",
    "    m_20_, m_02_, m_11_ = canonical_transformation(rot(default, a))\n",
    "    m_20.append(m_20_.item())\n",
    "    m_02.append(m_02_.item())\n",
    "    m_11.append(m_11_.item())\n",
    "m_20 = np.array(m_20)\n",
    "m_02 = np.array(m_02)\n",
    "m_11 = np.array(m_11)"
   ]
  },
  {
   "cell_type": "code",
   "execution_count": null,
   "id": "72ce7588",
   "metadata": {},
   "outputs": [],
   "source": [
    "angles = torch.linspace(0, 2*3.14, 50)\n",
    "angle_pred = []\n",
    "for a in angles:\n",
    "    angle_pred.append(canonical_transformation(rot(default, a)))\n",
    "angle_pred = np.array(angle_pred) * 180 / 3.14"
   ]
  },
  {
   "cell_type": "code",
   "execution_count": 106,
   "id": "321bbb88",
   "metadata": {},
   "outputs": [
    {
     "name": "stderr",
     "output_type": "stream",
     "text": [
      "No handles with labels found to put in legend.\n"
     ]
    },
    {
     "data": {
      "text/plain": [
       "<matplotlib.legend.Legend at 0x7ff4f16c8690>"
      ]
     },
     "execution_count": 106,
     "metadata": {},
     "output_type": "execute_result"
    },
    {
     "data": {
      "image/png": "[encoded data removed]",
      "text/plain": [
       "<Figure size 432x288 with 1 Axes>"
      ]
     },
     "metadata": {
      "needs_background": "light"
     },
     "output_type": "display_data"
    }
   ],
   "source": [
    "# plt.plot(m_20 - m_02, label='X')\n",
    "# plt.plot(2 * m_11, label='Y')\n",
    "# plt.plot([0] * len(m_11))\n",
    "plt.plot(angle_pred)\n",
    "# plt.plot(ls/2)\n",
    "plt.legend(loc='best')\n"
   ]
  },
  {
   "cell_type": "code",
   "execution_count": 129,
   "id": "261faff3",
   "metadata": {},
   "outputs": [
    {
     "name": "stdout",
     "output_type": "stream",
     "text": [
      "tensor([806.5897])\n",
      "tensor([-721.1772])\n",
      "tensor([2228.7344])\n"
     ]
    },
    {
     "ename": "NameError",
     "evalue": "name 'rotation_alpha' is not defined",
     "output_type": "error",
     "traceback": [
      "\u001b[0;31m---------------------------------------------------------------------------\u001b[0m",
      "\u001b[0;31mNameError\u001b[0m                                 Traceback (most recent call last)",
      "\u001b[0;32m<ipython-input-129-0bfc2ff0fd6b>\u001b[0m in \u001b[0;36m<module>\u001b[0;34m\u001b[0m\n\u001b[1;32m     13\u001b[0m \u001b[0mprint\u001b[0m\u001b[0;34m(\u001b[0m\u001b[0mp\u001b[0m\u001b[0;34m)\u001b[0m\u001b[0;34m\u001b[0m\u001b[0;34m\u001b[0m\u001b[0m\n\u001b[1;32m     14\u001b[0m \u001b[0;34m\u001b[0m\u001b[0m\n\u001b[0;32m---> 15\u001b[0;31m \u001b[0mrotation_alpha\u001b[0m\u001b[0;34m(\u001b[0m\u001b[0mq\u001b[0m\u001b[0;34m,\u001b[0m \u001b[0mp\u001b[0m\u001b[0;34m,\u001b[0m \u001b[0mr\u001b[0m\u001b[0;34m)\u001b[0m\u001b[0;34m\u001b[0m\u001b[0;34m\u001b[0m\u001b[0m\n\u001b[0m",
      "\u001b[0;31mNameError\u001b[0m: name 'rotation_alpha' is not defined"
     ]
    }
   ],
   "source": [
    "#rotated = dataset2[0][0]\n",
    "#print(mu(rotated,1,1))\n",
    "##print(mu(default,2,0))\n",
    "#print(mu(default,0,2))\n",
    "#print(mu(default,1,1))\n",
    "\n",
    "r = mu(rotated,1,1)\n",
    "q = mu(default,1,1)\n",
    "p = mu(default,2,0) - mu(default,0,2)\n",
    "\n",
    "print(r)\n",
    "print(q)\n",
    "print(p)\n",
    "\n",
    "rotation_alpha(q, p, r)"
   ]
  },
  {
   "cell_type": "markdown",
   "id": "39118b72",
   "metadata": {},
   "source": [
    "##### $$\n",
    "\\mathbf{M} = \\frac{\\sum_i \\mathbf{r_i} * m_i}{\\sum_i m_i}\n",
    "$$\n",
    "\n",
    "$$\n",
    "\\mathbf{M}' = \\frac{\\sum_i [\\mathbf{r_i} + \\pmb{\\delta}] * m_i}{\\sum_i m_i}\n",
    "= \\frac{\\sum_i \\mathbf{r_i}* m_i}{\\sum_i m_i} + \\frac{\\sum_i \\pmb{\\delta}* m_i}{\\sum_i m_i}\n",
    "= \\mathbf{M} + \\pmb{\\delta}\n",
    "$$"
   ]
  },
  {
   "cell_type": "code",
   "execution_count": 2297,
   "id": "c3575ce5",
   "metadata": {},
   "outputs": [
    {
     "data": {
      "text/plain": [
       "tensor(1.5708)"
      ]
     },
     "execution_count": 2297,
     "metadata": {},
     "output_type": "execute_result"
    }
   ],
   "source": [
    "torch.arcsin(torch.tensor(1))"
   ]
  },
  {
   "cell_type": "code",
   "execution_count": 49,
   "id": "080c5043",
   "metadata": {},
   "outputs": [
    {
     "data": {
      "text/plain": [
       "91.00097486993334"
      ]
     },
     "execution_count": 49,
     "metadata": {},
     "output_type": "execute_result"
    }
   ],
   "source": [
    "np.arctan2(60, -1) * 180 / 3.14"
   ]
  },
  {
   "cell_type": "code",
   "execution_count": 192,
   "id": "ba07b1ec",
   "metadata": {},
   "outputs": [
    {
     "data": {
      "text/plain": [
       "<matplotlib.image.AxesImage at 0x7fbb11f43c10>"
      ]
     },
     "execution_count": 192,
     "metadata": {},
     "output_type": "execute_result"
    },
    {
     "data": {
      "image/png": "[encoded data removed]",
      "text/plain": [
       "<Figure size 432x288 with 4 Axes>"
      ]
     },
     "metadata": {
      "needs_background": "light"
     },
     "output_type": "display_data"
    }
   ],
   "source": [
    "figure, axis = plt.subplots(1, 4)\n",
    "\n",
    "axis[0].imshow(plot_preprocessing(translated))\n",
    "axis[1].imshow(plot_preprocessing(rotated))\n",
    "axis[2].imshow(plot_preprocessing(scaled))\n",
    "axis[3].imshow(plot_preprocessing(flipped))"
   ]
  },
  {
   "cell_type": "code",
   "execution_count": 191,
   "id": "5cf742f9",
   "metadata": {},
   "outputs": [
    {
     "name": "stdout",
     "output_type": "stream",
     "text": [
      "tensor([-514.8615])\n",
      "tensor([111.5054])\n",
      "tensor([-1771.0990])\n",
      "tensor([-1099.6249])\n"
     ]
    },
    {
     "data": {
      "image/png": "[encoded data removed]",
      "text/plain": [
       "<Figure size 432x288 with 2 Axes>"
      ]
     },
     "metadata": {
      "needs_background": "light"
     },
     "output_type": "display_data"
    }
   ],
   "source": [
    "figure, axis = plt.subplots(1, 2)\n",
    "\n",
    "axis[0].imshow(plot_preprocessing(default))\n",
    "axis[1].imshow(plot_preprocessing(flipped))\n",
    "\n",
    "print(mu(default,3,0))\n",
    "print(mu(default,0,3))\n",
    "print(mu(flipped,3,0))\n",
    "print(mu(flipped,0,3))\n",
    "\n",
    "#print(mu(default,0,3))\n",
    "#print(mu(rotated,0,3))\n",
    "#print(mu(scaled,0,3))\n",
    "#print(mu(flipped,0,3))\n",
    "#print(mu(translated,0,3))"
   ]
  },
  {
   "cell_type": "code",
   "execution_count": 91,
   "id": "f580f073",
   "metadata": {},
   "outputs": [
    {
     "data": {
      "text/plain": [
       "tensor([[[-9.,  7.],\n",
       "         [-9.,  8.],\n",
       "         [-8., -1.],\n",
       "         [-8.,  0.],\n",
       "         [-8.,  1.],\n",
       "         [-8.,  2.],\n",
       "         [-8.,  3.],\n",
       "         [-8.,  4.],\n",
       "         [-8.,  6.],\n",
       "         [-8.,  7.],\n",
       "         [-7., -6.],\n",
       "         [-7., -5.],\n",
       "         [-7., -4.],\n",
       "         [-7., -3.],\n",
       "         [-7., -2.],\n",
       "         [-7., -1.],\n",
       "         [-7.,  0.],\n",
       "         [-7.,  1.],\n",
       "         [-7.,  2.],\n",
       "         [-7.,  3.],\n",
       "         [-6., -6.],\n",
       "         [-6., -5.],\n",
       "         [-6., -4.],\n",
       "         [-6., -3.],\n",
       "         [-6., -2.],\n",
       "         [-6., -1.],\n",
       "         [-6.,  2.],\n",
       "         [-6.,  3.],\n",
       "         [-5., -3.],\n",
       "         [-5., -2.],\n",
       "         [-5., -1.],\n",
       "         [-4., -2.],\n",
       "         [-3., -2.],\n",
       "         [-2., -1.],\n",
       "         [-1., -1.],\n",
       "         [-1.,  0.],\n",
       "         [ 0.,  0.],\n",
       "         [ 0.,  1.],\n",
       "         [ 0.,  2.],\n",
       "         [ 1.,  2.],\n",
       "         [ 1.,  3.],\n",
       "         [ 2.,  3.],\n",
       "         [ 2.,  4.],\n",
       "         [ 3.,  3.],\n",
       "         [ 3.,  4.],\n",
       "         [ 3.,  5.],\n",
       "         [ 4.,  3.],\n",
       "         [ 4.,  4.],\n",
       "         [ 4.,  5.],\n",
       "         [ 5.,  0.],\n",
       "         [ 5.,  1.],\n",
       "         [ 5.,  2.],\n",
       "         [ 5.,  3.],\n",
       "         [ 5.,  4.],\n",
       "         [ 6., -2.],\n",
       "         [ 6., -1.],\n",
       "         [ 6.,  0.],\n",
       "         [ 6.,  1.],\n",
       "         [ 6.,  2.],\n",
       "         [ 7., -4.],\n",
       "         [ 7., -3.],\n",
       "         [ 7., -2.],\n",
       "         [ 7., -1.],\n",
       "         [ 7.,  0.],\n",
       "         [ 8., -6.],\n",
       "         [ 8., -5.],\n",
       "         [ 8., -4.],\n",
       "         [ 8., -3.],\n",
       "         [ 8., -2.],\n",
       "         [ 9., -8.],\n",
       "         [ 9., -7.],\n",
       "         [ 9., -6.],\n",
       "         [ 9., -5.],\n",
       "         [ 9., -4.],\n",
       "         [ 9., -3.],\n",
       "         [10., -9.],\n",
       "         [10., -8.],\n",
       "         [10., -7.],\n",
       "         [10., -6.],\n",
       "         [-0., -0.],\n",
       "         [-0., -0.],\n",
       "         [-0., -0.],\n",
       "         [-0., -0.],\n",
       "         [-0., -0.],\n",
       "         [-0., -0.],\n",
       "         [-0., -0.],\n",
       "         [-0., -0.],\n",
       "         [-0., -0.],\n",
       "         [-0., -0.],\n",
       "         [-0., -0.],\n",
       "         [-0., -0.],\n",
       "         [-0., -0.],\n",
       "         [-0., -0.],\n",
       "         [-0., -0.],\n",
       "         [-0., -0.],\n",
       "         [-0., -0.],\n",
       "         [-0., -0.],\n",
       "         [-0., -0.],\n",
       "         [-0., -0.],\n",
       "         [-0., -0.],\n",
       "         [-0., -0.],\n",
       "         [-0., -0.],\n",
       "         [-0., -0.],\n",
       "         [-0., -0.],\n",
       "         [-0., -0.],\n",
       "         [-0., -0.],\n",
       "         [-0., -0.],\n",
       "         [-0., -0.],\n",
       "         [-0., -0.],\n",
       "         [-0., -0.],\n",
       "         [-0., -0.],\n",
       "         [-0., -0.],\n",
       "         [-0., -0.],\n",
       "         [-0., -0.],\n",
       "         [-0., -0.],\n",
       "         [-0., -0.],\n",
       "         [-0., -0.],\n",
       "         [-0., -0.],\n",
       "         [-0., -0.],\n",
       "         [-0., -0.],\n",
       "         [-0., -0.],\n",
       "         [-0., -0.],\n",
       "         [-0., -0.],\n",
       "         [-0., -0.],\n",
       "         [-0., -0.],\n",
       "         [-0., -0.],\n",
       "         [-0., -0.],\n",
       "         [-0., -0.],\n",
       "         [-0., -0.],\n",
       "         [-0., -0.],\n",
       "         [-0., -0.],\n",
       "         [-0., -0.],\n",
       "         [-0., -0.],\n",
       "         [-0., -0.],\n",
       "         [-0., -0.],\n",
       "         [-0., -0.],\n",
       "         [-0., -0.],\n",
       "         [-0., -0.],\n",
       "         [-0., -0.],\n",
       "         [-0., -0.],\n",
       "         [-0., -0.],\n",
       "         [-0., -0.],\n",
       "         [-0., -0.],\n",
       "         [-0., -0.],\n",
       "         [-0., -0.],\n",
       "         [-0., -0.],\n",
       "         [-0., -0.],\n",
       "         [-0., -0.],\n",
       "         [-0., -0.],\n",
       "         [-0., -0.],\n",
       "         [-0., -0.],\n",
       "         [-0., -0.],\n",
       "         [-0., -0.],\n",
       "         [-0., -0.],\n",
       "         [-0., -0.],\n",
       "         [-0., -0.],\n",
       "         [-0., -0.],\n",
       "         [-0., -0.],\n",
       "         [-0., -0.],\n",
       "         [-0., -0.],\n",
       "         [-0., -0.],\n",
       "         [-0., -0.],\n",
       "         [-0., -0.],\n",
       "         [-0., -0.],\n",
       "         [-0., -0.],\n",
       "         [-0., -0.],\n",
       "         [-0., -0.],\n",
       "         [-0., -0.],\n",
       "         [-0., -0.],\n",
       "         [-0., -0.],\n",
       "         [-0., -0.],\n",
       "         [-0., -0.],\n",
       "         [-0., -0.],\n",
       "         [-0., -0.],\n",
       "         [-0., -0.],\n",
       "         [-0., -0.],\n",
       "         [-0., -0.],\n",
       "         [-0., -0.],\n",
       "         [-0., -0.],\n",
       "         [-0., -0.],\n",
       "         [-0., -0.],\n",
       "         [-0., -0.],\n",
       "         [-0., -0.],\n",
       "         [-0., -0.],\n",
       "         [-0., -0.],\n",
       "         [-0., -0.],\n",
       "         [-0., -0.],\n",
       "         [-0., -0.],\n",
       "         [-0., -0.],\n",
       "         [-0., -0.],\n",
       "         [-0., -0.],\n",
       "         [-0., -0.],\n",
       "         [-0., -0.],\n",
       "         [-0., -0.],\n",
       "         [-0., -0.],\n",
       "         [-0., -0.],\n",
       "         [-0., -0.],\n",
       "         [-0., -0.],\n",
       "         [-0., -0.],\n",
       "         [-0., -0.],\n",
       "         [-0., -0.],\n",
       "         [-0., -0.],\n",
       "         [-0., -0.],\n",
       "         [-0., -0.],\n",
       "         [-0., -0.],\n",
       "         [-0., -0.],\n",
       "         [-0., -0.],\n",
       "         [-0., -0.],\n",
       "         [-0., -0.],\n",
       "         [-0., -0.],\n",
       "         [-0., -0.],\n",
       "         [-0., -0.],\n",
       "         [-0., -0.],\n",
       "         [-0., -0.],\n",
       "         [-0., -0.],\n",
       "         [-0., -0.],\n",
       "         [-0., -0.],\n",
       "         [-0., -0.],\n",
       "         [-0., -0.],\n",
       "         [-0., -0.],\n",
       "         [-0., -0.],\n",
       "         [-0., -0.],\n",
       "         [-0., -0.],\n",
       "         [-0., -0.],\n",
       "         [-0., -0.],\n",
       "         [-0., -0.],\n",
       "         [-0., -0.],\n",
       "         [-0., -0.],\n",
       "         [-0., -0.],\n",
       "         [-0., -0.],\n",
       "         [-0., -0.],\n",
       "         [-0., -0.],\n",
       "         [-0., -0.],\n",
       "         [-0., -0.],\n",
       "         [-0., -0.],\n",
       "         [-0., -0.],\n",
       "         [-0., -0.],\n",
       "         [-0., -0.],\n",
       "         [-0., -0.],\n",
       "         [-0., -0.],\n",
       "         [-0., -0.],\n",
       "         [-0., -0.],\n",
       "         [-0., -0.],\n",
       "         [-0., -0.],\n",
       "         [-0., -0.],\n",
       "         [-0., -0.],\n",
       "         [-0., -0.],\n",
       "         [-0., -0.],\n",
       "         [-0., -0.],\n",
       "         [-0., -0.],\n",
       "         [-0., -0.],\n",
       "         [-0., -0.],\n",
       "         [-0., -0.],\n",
       "         [-0., -0.],\n",
       "         [-0., -0.],\n",
       "         [-0., -0.],\n",
       "         [-0., -0.],\n",
       "         [-0., -0.],\n",
       "         [-0., -0.],\n",
       "         [-0., -0.],\n",
       "         [-0., -0.],\n",
       "         [-0., -0.],\n",
       "         [-0., -0.],\n",
       "         [-0., -0.],\n",
       "         [-0., -0.],\n",
       "         [-0., -0.],\n",
       "         [-0., -0.],\n",
       "         [-0., -0.],\n",
       "         [-0., -0.],\n",
       "         [-0., -0.],\n",
       "         [-0., -0.],\n",
       "         [-0., -0.],\n",
       "         [-0., -0.],\n",
       "         [-0., -0.],\n",
       "         [-0., -0.],\n",
       "         [-0., -0.],\n",
       "         [-0., -0.],\n",
       "         [-0., -0.],\n",
       "         [-0., -0.],\n",
       "         [-0., -0.],\n",
       "         [-0., -0.],\n",
       "         [-0., -0.],\n",
       "         [-0., -0.],\n",
       "         [-0., -0.],\n",
       "         [-0., -0.],\n",
       "         [-0., -0.],\n",
       "         [-0., -0.],\n",
       "         [-0., -0.],\n",
       "         [-0., -0.],\n",
       "         [-0., -0.],\n",
       "         [-0., -0.],\n",
       "         [-0., -0.],\n",
       "         [-0., -0.],\n",
       "         [-0., -0.],\n",
       "         [-0., -0.],\n",
       "         [-0., -0.],\n",
       "         [-0., -0.],\n",
       "         [-0., -0.],\n",
       "         [-0., -0.],\n",
       "         [-0., -0.],\n",
       "         [-0., -0.],\n",
       "         [-0., -0.],\n",
       "         [-0., -0.],\n",
       "         [-0., -0.],\n",
       "         [-0., -0.],\n",
       "         [-0., -0.],\n",
       "         [-0., -0.],\n",
       "         [-0., -0.],\n",
       "         [-0., -0.],\n",
       "         [-0., -0.],\n",
       "         [-0., -0.],\n",
       "         [-0., -0.],\n",
       "         [-0., -0.],\n",
       "         [-0., -0.],\n",
       "         [-0., -0.],\n",
       "         [-0., -0.],\n",
       "         [-0., -0.],\n",
       "         [-0., -0.],\n",
       "         [-0., -0.],\n",
       "         [-0., -0.],\n",
       "         [-0., -0.],\n",
       "         [-0., -0.],\n",
       "         [-0., -0.],\n",
       "         [-0., -0.],\n",
       "         [-0., -0.],\n",
       "         [-0., -0.],\n",
       "         [-0., -0.],\n",
       "         [-0., -0.],\n",
       "         [-0., -0.],\n",
       "         [-0., -0.],\n",
       "         [-0., -0.],\n",
       "         [-0., -0.],\n",
       "         [-0., -0.],\n",
       "         [-0., -0.],\n",
       "         [-0., -0.],\n",
       "         [-0., -0.],\n",
       "         [-0., -0.],\n",
       "         [-0., -0.],\n",
       "         [-0., -0.],\n",
       "         [-0., -0.],\n",
       "         [-0., -0.],\n",
       "         [-0., -0.],\n",
       "         [-0., -0.],\n",
       "         [-0., -0.],\n",
       "         [-0., -0.],\n",
       "         [-0., -0.],\n",
       "         [-0., -0.],\n",
       "         [-0., -0.],\n",
       "         [-0., -0.],\n",
       "         [-0., -0.],\n",
       "         [-0., -0.]]])"
      ]
     },
     "execution_count": 91,
     "metadata": {},
     "output_type": "execute_result"
    }
   ],
   "source": [
    "default"
   ]
  },
  {
   "cell_type": "code",
   "execution_count": null,
   "id": "fc2add7c",
   "metadata": {},
   "outputs": [],
   "source": []
  }
 ],
 "metadata": {
  "kernelspec": {
   "display_name": "Python 3",
   "language": "python",
   "name": "python3"
  },
  "language_info": {
   "codemirror_mode": {
    "name": "ipython",
    "version": 3
   },
   "file_extension": ".py",
   "mimetype": "text/x-python",
   "name": "python",
   "nbconvert_exporter": "python",
   "pygments_lexer": "ipython3",
   "version": "3.7.7"
  }
 },
 "nbformat": 4,
 "nbformat_minor": 5
}
