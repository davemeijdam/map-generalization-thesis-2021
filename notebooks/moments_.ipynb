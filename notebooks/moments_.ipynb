{
 "cells": [
  {
   "cell_type": "code",
   "execution_count": 118,
   "id": "641dd7d4",
   "metadata": {},
   "outputs": [],
   "source": [
    "import torch\n",
    "import torch.nn as nn\n",
    "import torch.nn.functional as F\n",
    "\n",
    "import math\n",
    "\n",
    "from torchvision import datasets, transforms\n",
    "import numpy as np\n",
    "import matplotlib.pyplot as plt"
   ]
  },
  {
   "cell_type": "code",
   "execution_count": 1087,
   "id": "2d92cf46",
   "metadata": {},
   "outputs": [],
   "source": [
    "class TensorToPolygon:\n",
    "    \n",
    "    def __call__(self, data):\n",
    "        data = data.view(-1, 784)\n",
    "        data = list(data.unbind())\n",
    "        data = [torch.arange(784)[(x > 0.8)] for x in data]\n",
    "        data = [torch.Tensor(list(x) + (351 - len(x)) * [0]) for x in data]\n",
    "        data = torch.stack(data).contiguous()\n",
    "        return data\n",
    "    \n",
    "    \n",
    "class OneDToTwoD:\n",
    "    \n",
    "    def __call__(self, data):\n",
    "        \n",
    "        data = [torch.Tensor(x[x != 0]) for x in data]   \n",
    "        data = [torch.Tensor([list([b // 28, b % 28]) for b in a]) for a in data]\n",
    "        data = [torch.cat((x, torch.Tensor(np.zeros((351 - x.shape[0],2))))) for x in data]\n",
    "        data = torch.stack(data).contiguous()\n",
    "        return data\n",
    "    \n",
    "#class Transform1d2d:\n",
    "#    def __call__(self, x):\n",
    "#        return torch.stack([x // 28, x % 28], -1)\n",
    "    \n",
    "class Transform1d2d:\n",
    "    def __call__(self, x):\n",
    "        return torch.stack([((x // 28) -14) * (x != 0), ((x % 28) - 14) * (x != 0)], -1)\n",
    "        "
   ]
  },
  {
   "cell_type": "code",
   "execution_count": 1098,
   "id": "5d82dfeb",
   "metadata": {},
   "outputs": [
    {
     "data": {
      "text/plain": [
       "<matplotlib.image.AxesImage at 0x7fcf655d6f90>"
      ]
     },
     "execution_count": 1098,
     "metadata": {},
     "output_type": "execute_result"
    },
    {
     "data": {
      "image/png": "[encoded data removed]",
      "text/plain": [
       "<Figure size 432x288 with 1 Axes>"
      ]
     },
     "metadata": {
      "needs_background": "light"
     },
     "output_type": "display_data"
    }
   ],
   "source": [
    "def plot_preprocessing(xy):\n",
    "    matrix = np.zeros(784)\n",
    "\n",
    "    for x, y in xy[0]:\n",
    "        x = x+14\n",
    "        y = y+14\n",
    "        #print([x, y])\n",
    "        index = int(x*28+y)\n",
    "        matrix[index] = 1\n",
    "        \n",
    "    img_size = int(math.sqrt(784))\n",
    "    return np.reshape(matrix, (img_size, img_size))\n",
    "\n",
    "plt.imshow(plot_preprocessing(default))\n",
    "#print(c_mass(default)[:,0])"
   ]
  },
  {
   "cell_type": "code",
   "execution_count": 972,
   "id": "assured-forestry",
   "metadata": {},
   "outputs": [
    {
     "data": {
      "text/plain": [
       "28.0"
      ]
     },
     "execution_count": 972,
     "metadata": {},
     "output_type": "execute_result"
    }
   ],
   "source": [
    "math.sqrt(784)"
   ]
  },
  {
   "cell_type": "code",
   "execution_count": 1089,
   "id": "599ce801",
   "metadata": {},
   "outputs": [],
   "source": [
    "dataset1 = datasets.MNIST('~/Developer/datasets', train=True, \n",
    "                          transform=transforms.Compose([\n",
    "#                              transforms.RandomCrop(28, padding=2), # random shift by +- 2 pixels in all direcitons\n",
    "                              transforms.RandomAffine(degrees=0, translate=None, scale=None),\n",
    "                              transforms.ToTensor(),\n",
    "                              TensorToPolygon(),\n",
    "                              Transform1d2d()\n",
    "                          ]))\n",
    "\n",
    "dataset2 = datasets.MNIST('~/Developer/datasets', train=True, \n",
    "                          transform=transforms.Compose([\n",
    "#                              transforms.RandomCrop(28, padding=2), # random shift by +- 2 pixels in all direcitons\n",
    "                              transforms.RandomAffine(degrees=180, translate=None, scale=None),\n",
    "                              transforms.ToTensor(),\n",
    "                              TensorToPolygon(),\n",
    "                              Transform1d2d()\n",
    "                          ]))\n",
    "\n",
    "dataset3 = datasets.MNIST('~/Developer/datasets', train=True, \n",
    "                          transform=transforms.Compose([\n",
    "#                              transforms.RandomCrop(28, padding=2), # random shift by +- 2 pixels in all direcitons\n",
    "                              transforms.RandomAffine(degrees=0, translate=(0.2,0.2), scale=None),\n",
    "                              transforms.ToTensor(),\n",
    "                              TensorToPolygon(),\n",
    "                              Transform1d2d()\n",
    "                          ]))\n",
    "\n",
    "dataset4 = datasets.MNIST('~/Developer/datasets', train=True, \n",
    "                          transform=transforms.Compose([\n",
    "#                              transforms.RandomCrop(28, padding=2), # random shift by +- 2 pixels in all direcitons\n",
    "                              transforms.RandomAffine(degrees=0, translate=None, scale=(0.5, 1.5)),\n",
    "                              transforms.ToTensor(),\n",
    "                              TensorToPolygon(),\n",
    "                              Transform1d2d()\n",
    "                          ]))"
   ]
  },
  {
   "cell_type": "code",
   "execution_count": 1107,
   "id": "bibliographic-melissa",
   "metadata": {},
   "outputs": [
    {
     "data": {
      "text/plain": [
       "tensor([[-9., -9., -8., -8., -8., -8., -8., -8., -8., -8., -7., -7., -7., -7.,\n",
       "         -7., -7., -7., -7., -7., -7., -6., -6., -6., -6., -6., -6., -6., -6.,\n",
       "         -5., -5., -5., -4., -3., -2., -1., -1.,  0.,  0.,  0.,  1.,  1.,  2.,\n",
       "          2.,  3.,  3.,  3.,  4.,  4.,  4.,  5.,  5.,  5.,  5.,  5.,  6.,  6.,\n",
       "          6.,  6.,  6.,  7.,  7.,  7.,  7.,  7.,  8.,  8.,  8.,  8.,  8.,  9.,\n",
       "          9.,  9.,  9.,  9.,  9., 10., 10., 10., 10., -0., -0., -0., -0., -0.,\n",
       "         -0., -0., -0., -0., -0., -0., -0., -0., -0., -0., -0., -0., -0., -0.,\n",
       "         -0., -0., -0., -0., -0., -0., -0., -0., -0., -0., -0., -0., -0., -0.,\n",
       "         -0., -0., -0., -0., -0., -0., -0., -0., -0., -0., -0., -0., -0., -0.,\n",
       "         -0., -0., -0., -0., -0., -0., -0., -0., -0., -0., -0., -0., -0., -0.,\n",
       "         -0., -0., -0., -0., -0., -0., -0., -0., -0., -0., -0., -0., -0., -0.,\n",
       "         -0., -0., -0., -0., -0., -0., -0., -0., -0., -0., -0., -0., -0., -0.,\n",
       "         -0., -0., -0., -0., -0., -0., -0., -0., -0., -0., -0., -0., -0., -0.,\n",
       "         -0., -0., -0., -0., -0., -0., -0., -0., -0., -0., -0., -0., -0., -0.,\n",
       "         -0., -0., -0., -0., -0., -0., -0., -0., -0., -0., -0., -0., -0., -0.,\n",
       "         -0., -0., -0., -0., -0., -0., -0., -0., -0., -0., -0., -0., -0., -0.,\n",
       "         -0., -0., -0., -0., -0., -0., -0., -0., -0., -0., -0., -0., -0., -0.,\n",
       "         -0., -0., -0., -0., -0., -0., -0., -0., -0., -0., -0., -0., -0., -0.,\n",
       "         -0., -0., -0., -0., -0., -0., -0., -0., -0., -0., -0., -0., -0., -0.,\n",
       "         -0., -0., -0., -0., -0., -0., -0., -0., -0., -0., -0., -0., -0., -0.,\n",
       "         -0., -0., -0., -0., -0., -0., -0., -0., -0., -0., -0., -0., -0., -0.,\n",
       "         -0., -0., -0., -0., -0., -0., -0., -0., -0., -0., -0., -0., -0., -0.,\n",
       "         -0., -0., -0., -0., -0., -0., -0., -0., -0., -0., -0., -0., -0., -0.,\n",
       "         -0., -0., -0., -0., -0., -0., -0., -0., -0., -0., -0., -0., -0., -0.,\n",
       "         -0., -0., -0., -0., -0., -0., -0., -0., -0., -0., -0., -0., -0., -0.,\n",
       "         -0.]])"
      ]
     },
     "execution_count": 1107,
     "metadata": {},
     "output_type": "execute_result"
    }
   ],
   "source": [
    "default = dataset1[0][0]\n",
    "rotated = dataset2[0][0]\n",
    "translated = dataset3[0][0]\n",
    "scaled = dataset4[0][0]\n",
    "\n",
    "default[:,:,0]"
   ]
  },
  {
   "cell_type": "code",
   "execution_count": 1241,
   "id": "e69ba74a",
   "metadata": {},
   "outputs": [
    {
     "data": {
      "text/plain": [
       "<matplotlib.image.AxesImage at 0x7fcf673470d0>"
      ]
     },
     "execution_count": 1241,
     "metadata": {},
     "output_type": "execute_result"
    },
    {
     "data": {
      "image/png": "[encoded data removed]",
      "text/plain": [
       "<Figure size 432x288 with 8 Axes>"
      ]
     },
     "metadata": {
      "needs_background": "light"
     },
     "output_type": "display_data"
    }
   ],
   "source": [
    "figure, axis = plt.subplots(4, 2)\n",
    "\n",
    "axis[0, 0].imshow(plot_preprocessing(default))\n",
    "axis[0, 1].imshow(plot_preprocessing(canonical_transformation(default, default)))\n",
    "\n",
    "axis[1, 0].imshow(plot_preprocessing(rotated))\n",
    "axis[1, 1].imshow(plot_preprocessing(canonical_transformation(rotated, default)))\n",
    "\n",
    "axis[2, 0].imshow(plot_preprocessing(translated))\n",
    "axis[2, 1].imshow(plot_preprocessing(canonical_transformation(translated,default)))\n",
    "\n",
    "axis[3, 0].imshow(plot_preprocessing(scaled))\n",
    "axis[3, 1].imshow(plot_preprocessing(canonical_transformation(scaled, default)))"
   ]
  },
  {
   "cell_type": "code",
   "execution_count": 1180,
   "id": "fa1852dc",
   "metadata": {},
   "outputs": [],
   "source": [
    "def moment(xy, p, q):\n",
    "    x = xy[:, :, 0]\n",
    "    y = xy[:, :, 1]\n",
    "    x = x.pow(p) * (x != 0)\n",
    "    y = y.pow(q) * (y != 0)\n",
    "    M = (x * y).sum(-1)\n",
    "    return M\n",
    "    \n",
    "\n",
    "def c_mass(xy):\n",
    "    mass = moment(xy, 0, 0)\n",
    "    mx = moment(xy, 1, 0) / mass\n",
    "    my = moment(xy, 0, 1) / mass\n",
    "    return torch.stack([mx, my], -1)\n",
    "\n",
    "def mu(xy, p, q):\n",
    "    m = c_mass(xy)\n",
    "    x = xy[:, :, 0]\n",
    "    y = xy[:, :, 1]\n",
    "    x = (x - m[:, 0]).pow(p) * (x != 0)\n",
    "    y = (y - m[:, 1]).pow(q) * (y != 0)\n",
    "    M = (x * y).sum(-1)\n",
    "    return M\n",
    "\n",
    "def nu(xy, p, q):\n",
    "    return mu(xy, p, q) / (mu(xy,0,0)**(1 + (p+q)/2))"
   ]
  },
  {
   "cell_type": "code",
   "execution_count": 1252,
   "id": "87d75956",
   "metadata": {},
   "outputs": [
    {
     "name": "stdout",
     "output_type": "stream",
     "text": [
      "centre_of_mass default: tensor([[ 0.3286, -0.7571]])\n",
      "centre_of_mass rotated: tensor([[-1.3973, -1.7808]])\n",
      "m_10: tensor([23.])\n",
      "m_01: tensor([-53.])\n",
      "m_10: tensor([-102.])\n",
      "m_01: tensor([-130.])\n",
      "m_20: tensor([2758.])\n",
      "m_02: tensor([2310.])\n",
      "Default: tensor([0.1960])\n",
      "Scale: tensor([0.1861])\n"
     ]
    }
   ],
   "source": [
    "def scale(x, p, q):\n",
    "    return mu(x, p, q) / mu(x, 0, 0).pow((p+q) / 2 + 1)\n",
    "\n",
    "def rotation(x):\n",
    "    return -0.5 * torch.arctan((2*mu(x,1,1)) / (mu(x,2,0) - mu(x,0,2)))\n",
    "\n",
    "def canonical_transformation(xy, original):\n",
    "#   translation\n",
    "    m = c_mass(xy)\n",
    "    x = xy - m.view(1, 1, 2) * (xy[:, :, 0] != 0).view(1, -1, 1)\n",
    "\n",
    "#   scale\n",
    "    #original_nu = nu(original,2,2)\n",
    "    #scale_factor = nu(xy,2,2) / original_nu\n",
    "    #x = scale_factor * x\n",
    "#   rotation\n",
    "    return x\n",
    "\n",
    "rotated = dataset2[0][0]\n",
    "translated = dataset3[0][0]\n",
    "scaled = dataset4[0][0]\n",
    "print(\"centre_of_mass default: \" + str(c_mass(default)))\n",
    "print(\"centre_of_mass rotated: \" + str(c_mass(rotated)))\n",
    "print(\"m_10: \" + str(moment(default,1,0)))\n",
    "print(\"m_01: \" + str(moment(default,0,1)))\n",
    "print(\"m_10: \" + str(moment(rotated,1,0)))\n",
    "print(\"m_01: \" + str(moment(rotated,0,1)))\n",
    "print(\"m_20: \" + str(moment(rotated,2,0)))\n",
    "print(\"m_02: \" + str(moment(rotated,0,2)))\n",
    "print(\"Default: \" + str(nu(default,2,2)))\n",
    "print(\"Scale: \" + str(nu(translated,2,2)))\n",
    "\n",
    "#print(canonical_transformation(scaled, default))\n",
    "\n",
    "#print(nu(default,2,0) + nu(default,0,2))\n",
    "#print(nu(rotated,2,0) + nu(rotated,0,2))\n",
    "\n",
    "#print(((nu(default,2,0) + nu(default,0,2))**2) + 4 * nu(default,1,1)**2)\n",
    "#print(((nu(rotated,2,0) + nu(rotated,0,2))**2) + 4 * nu(rotated,1,1)**2)\n",
    "\n",
    "#print(default[0][0:10])\n",
    "#print(rotated[0][0:10])"
   ]
  },
  {
   "cell_type": "code",
   "execution_count": 1217,
   "id": "630da8b4",
   "metadata": {},
   "outputs": [
    {
     "name": "stdout",
     "output_type": "stream",
     "text": [
      "tensor([[-1.1127, -0.5775]])\n",
      "tensor([3349.])\n",
      "tensor([[-0.1211,  0.0450]])\n",
      "tensor([929.3248])\n"
     ]
    }
   ],
   "source": [
    "x = dataset[0][0]\n",
    "print(c_mass(x))\n",
    "print(moment(x, 2, 0))\n",
    "print(c_mass(canonical_transformation(x)))\n",
    "print(moment(canonical_transformation(x), 0, 2))"
   ]
  },
  {
   "cell_type": "markdown",
   "id": "79e82294",
   "metadata": {},
   "source": [
    "$$\n",
    "\\mathbf{M} = \\frac{\\sum_i \\mathbf{r_i} * m_i}{\\sum_i m_i}\n",
    "$$\n",
    "\n",
    "$$\n",
    "\\mathbf{M}' = \\frac{\\sum_i [\\mathbf{r_i} + \\pmb{\\delta}] * m_i}{\\sum_i m_i}\n",
    "= \\frac{\\sum_i \\mathbf{r_i}* m_i}{\\sum_i m_i} + \\frac{\\sum_i \\pmb{\\delta}* m_i}{\\sum_i m_i}\n",
    "= \\mathbf{M} + \\pmb{\\delta}\n",
    "$$"
   ]
  },
  {
   "cell_type": "code",
   "execution_count": 129,
   "id": "d72511bd",
   "metadata": {},
   "outputs": [
    {
     "data": {
      "text/plain": [
       "torch.Size([1, 2])"
      ]
     },
     "execution_count": 129,
     "metadata": {},
     "output_type": "execute_result"
    }
   ],
   "source": [
    "m = c_mass(x)\n",
    "m.shape"
   ]
  },
  {
   "cell_type": "code",
   "execution_count": 130,
   "id": "3b13620a",
   "metadata": {},
   "outputs": [
    {
     "data": {
      "text/plain": [
       "torch.Size([1, 351])"
      ]
     },
     "execution_count": 130,
     "metadata": {},
     "output_type": "execute_result"
    }
   ],
   "source": [
    "(x[:, :, 0] != 0).shape"
   ]
  },
  {
   "cell_type": "code",
   "execution_count": null,
   "id": "e7c1d04b",
   "metadata": {},
   "outputs": [],
   "source": []
  }
 ],
 "metadata": {
  "kernelspec": {
   "display_name": "Python 3",
   "language": "python",
   "name": "python3"
  },
  "language_info": {
   "codemirror_mode": {
    "name": "ipython",
    "version": 3
   },
   "file_extension": ".py",
   "mimetype": "text/x-python",
   "name": "python",
   "nbconvert_exporter": "python",
   "pygments_lexer": "ipython3",
   "version": "3.7.7"
  }
 },
 "nbformat": 4,
 "nbformat_minor": 5
}
