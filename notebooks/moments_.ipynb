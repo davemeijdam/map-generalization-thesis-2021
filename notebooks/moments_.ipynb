{
 "cells": [
  {
   "cell_type": "code",
   "execution_count": 1512,
   "id": "641dd7d4",
   "metadata": {},
   "outputs": [],
   "source": [
    "import torch\n",
    "torch.pi = torch.acos(torch.zeros(1)).item() * 2\n",
    "import torch.nn as nn\n",
    "import torch.nn.functional as F\n",
    "\n",
    "import math\n",
    "\n",
    "from torchvision import datasets, transforms\n",
    "import numpy as np\n",
    "import matplotlib.pyplot as plt"
   ]
  },
  {
   "cell_type": "code",
   "execution_count": 2092,
   "id": "2d92cf46",
   "metadata": {},
   "outputs": [],
   "source": [
    "class TensorToPolygon:\n",
    "    \n",
    "    def __call__(self, data):\n",
    "        data = data.view(-1, 784)\n",
    "        data = list(data.unbind())\n",
    "        data = [torch.arange(784)[(x > 0.8)] for x in data]\n",
    "        data = [torch.Tensor(list(x) + (351 - len(x)) * [0]) for x in data]\n",
    "        data = torch.stack(data).contiguous()\n",
    "        return data\n",
    "    \n",
    "    \n",
    "class OneDToTwoD:\n",
    "    \n",
    "    def __call__(self, data):\n",
    "        \n",
    "        data = [torch.Tensor(x[x != 0]) for x in data]   \n",
    "        data = [torch.Tensor([list([b // 28, b % 28]) for b in a]) for a in data]\n",
    "        data = [torch.cat((x, torch.Tensor(np.zeros((351 - x.shape[0],2))))) for x in data]\n",
    "        data = torch.stack(data).contiguous()\n",
    "        return data\n",
    "    \n",
    "class Transform1d2d:\n",
    "    def __call__(self, x):\n",
    "        return torch.stack([x // 28, x % 28], -1)\n",
    "    \n",
    "#class Transform1d2d:\n",
    "#    def __call__(self, x):\n",
    "#        return torch.stack([((x // 28) -14) * (x != 0), ((x % 28) - 14) * (x != 0)], -1)\n",
    "        "
   ]
  },
  {
   "cell_type": "code",
   "execution_count": 2093,
   "id": "5d82dfeb",
   "metadata": {},
   "outputs": [],
   "source": [
    "def plot_preprocessing(xy):\n",
    "    matrix = np.zeros(784)\n",
    "\n",
    "    for x, y in xy[0]:\n",
    "        #x = int(x)+14\n",
    "        #y = int(y)+14\n",
    "        x = int(x)\n",
    "        y = int(y)\n",
    "        index = int(x*28+y)\n",
    "        matrix[index] = 1\n",
    "        \n",
    "    img_size = int(math.sqrt(784))\n",
    "    return np.reshape(matrix, (img_size, img_size))\n",
    "\n",
    "def plot_preprocessing1(xy):\n",
    "    matrix = np.zeros(784)\n",
    "\n",
    "    for x, y in xy[0]:\n",
    "        x = int(x+14)\n",
    "        y = int(y+14)\n",
    "        #x = int(x)\n",
    "        #y = int(y)\n",
    "        index = int(x*28+y)\n",
    "        if index < 784:\n",
    "            matrix[index] = 1\n",
    "        \n",
    "    img_size = int(math.sqrt(784))\n",
    "    return np.reshape(matrix, (img_size, img_size))\n",
    "\n",
    "#plt.imshow(plot_preprocessing(default))\n",
    "#print(c_mass(default)[:,0])"
   ]
  },
  {
   "cell_type": "code",
   "execution_count": 2094,
   "id": "amazing-native",
   "metadata": {},
   "outputs": [
    {
     "data": {
      "text/plain": [
       "28.0"
      ]
     },
     "execution_count": 2094,
     "metadata": {},
     "output_type": "execute_result"
    }
   ],
   "source": [
    "math.sqrt(784)"
   ]
  },
  {
   "cell_type": "code",
   "execution_count": 2444,
   "id": "599ce801",
   "metadata": {},
   "outputs": [],
   "source": [
    "dataset1 = datasets.MNIST('~/Developer/datasets', train=True, \n",
    "                          transform=transforms.Compose([\n",
    "#                              transforms.RandomCrop(28, padding=2), # random shift by +- 2 pixels in all direcitons\n",
    "                              transforms.RandomAffine(degrees=0, translate=None, scale=None),\n",
    "                              transforms.ToTensor(),\n",
    "                              TensorToPolygon(),\n",
    "                              Transform1d2d()\n",
    "                          ]))\n",
    "\n",
    "dataset2 = datasets.MNIST('~/Developer/datasets', train=True, \n",
    "                          transform=transforms.Compose([\n",
    "#                              transforms.RandomCrop(28, padding=2), # random shift by +- 2 pixels in all direcitons\n",
    "                              transforms.RandomAffine(degrees=180, translate=None, scale=None),\n",
    "                              transforms.ToTensor(),\n",
    "                              TensorToPolygon(),\n",
    "                              Transform1d2d()\n",
    "                          ]))\n",
    "\n",
    "dataset3 = datasets.MNIST('~/Developer/datasets', train=True, \n",
    "                          transform=transforms.Compose([\n",
    "#                              transforms.RandomCrop(28, padding=2), # random shift by +- 2 pixels in all direcitons\n",
    "                              transforms.RandomAffine(degrees=0, translate=(0.2,0.2), scale=None),\n",
    "                              transforms.ToTensor(),\n",
    "                              TensorToPolygon(),\n",
    "                              Transform1d2d()\n",
    "                          ]))\n",
    "\n",
    "dataset4 = datasets.MNIST('~/Developer/datasets', train=True, \n",
    "                          transform=transforms.Compose([\n",
    "#                              transforms.RandomCrop(28, padding=2), # random shift by +- 2 pixels in all direcitons\n",
    "                              transforms.RandomAffine(degrees=0, translate=None, scale=(0.8,1.2)),\n",
    "                              transforms.ToTensor(),\n",
    "                              TensorToPolygon(),\n",
    "                              Transform1d2d()\n",
    "                          ]))"
   ]
  },
  {
   "cell_type": "code",
   "execution_count": 2549,
   "id": "blessed-creature",
   "metadata": {},
   "outputs": [],
   "source": [
    "default = dataset1[0][0]\n",
    "rotated = dataset2[0][0]\n",
    "translated = dataset3[0][0]\n",
    "scaled = dataset4[0][0]"
   ]
  },
  {
   "cell_type": "code",
   "execution_count": 2554,
   "id": "e69ba74a",
   "metadata": {},
   "outputs": [
    {
     "name": "stdout",
     "output_type": "stream",
     "text": [
      "2\n",
      "a: tensor([3.5565])\n"
     ]
    },
    {
     "data": {
      "text/plain": [
       "<matplotlib.image.AxesImage at 0x7fcf0ad73610>"
      ]
     },
     "execution_count": 2554,
     "metadata": {},
     "output_type": "execute_result"
    },
    {
     "data": {
      "image/png": "[encoded data removed]",
      "text/plain": [
       "<Figure size 432x288 with 8 Axes>"
      ]
     },
     "metadata": {
      "needs_background": "light"
     },
     "output_type": "display_data"
    }
   ],
   "source": [
    "figure, axis = plt.subplots(4, 2)\n",
    "\n",
    "axis[0, 0].imshow(plot_preprocessing(default))\n",
    "axis[0, 1].imshow(plot_preprocessing1(canonical_transformation(default, default)))\n",
    "\n",
    "axis[1, 0].imshow(plot_preprocessing(rotated))\n",
    "axis[1, 1].imshow(plot_preprocessing1(canonical_transformation(rotated, default)))\n",
    "\n",
    "axis[2, 0].imshow(plot_preprocessing(translated))\n",
    "axis[2, 1].imshow(plot_preprocessing1(canonical_transformation(translated, default)))\n",
    "\n",
    "axis[3, 0].imshow(plot_preprocessing(scaled))\n",
    "axis[3, 1].imshow(plot_preprocessing1(canonical_transformation(scaled, default)))"
   ]
  },
  {
   "cell_type": "code",
   "execution_count": 2527,
   "id": "fa1852dc",
   "metadata": {},
   "outputs": [],
   "source": [
    "def moment(xy, p, q):\n",
    "    x = xy[:, :, 0]\n",
    "    y = xy[:, :, 1]\n",
    "    x = x.pow(p) * (x != 0)\n",
    "    y = y.pow(q) * (y != 0)\n",
    "    M = (x * y).sum(-1)\n",
    "    return M\n",
    "    \n",
    "\n",
    "def c_mass(xy):\n",
    "    mass = moment(xy, 0, 0)\n",
    "    mx = moment(xy, 1, 0) / mass\n",
    "    my = moment(xy, 0, 1) / mass\n",
    "    return torch.stack([mx, my], -1)\n",
    "\n",
    "def mu(xy, p, q):\n",
    "    m = c_mass(xy)\n",
    "    x = xy[:, :, 0]\n",
    "    y = xy[:, :, 1]\n",
    "    x = (x - m[:, 0]).pow(p) * (x != 0)\n",
    "    y = (y - m[:, 1]).pow(q) * (y != 0)\n",
    "    M = (x * y).sum(-1)\n",
    "    return M\n",
    "\n",
    "def nu(xy, p, q):\n",
    "    return mu(xy, p, q) / (mu(xy,0,0)**(1 + (p+q)/2))"
   ]
  },
  {
   "cell_type": "code",
   "execution_count": 2553,
   "id": "87d75956",
   "metadata": {},
   "outputs": [],
   "source": [
    "def scale_factor(scaled, original):\n",
    "    return torch.sqrt(mu(scaled,0,0) / mu(original,0,0))\n",
    "\n",
    "def normalized_cgm(scaled, p, q):\n",
    "    w = (p+q)/2+1\n",
    "    return mu(scaled,p,q) / mu(scaled,0,0)**w\n",
    "\n",
    "def rotation_alpha2(q, p, r):\n",
    "    #r = mu'11\n",
    "    #q = mu11\n",
    "    #p = (mu20 - mu02)\n",
    "    return (2 * (p*r - torch.sqrt(p.pow(2)*q.pow(2) + 4*q.pow(4) - 4*q.pow(2)*r.pow(2)))) / (p.pow(2) + 4*q.pow(2))\n",
    "    \n",
    "\n",
    "def canonical_transformation(xy, original):\n",
    "#   translation\n",
    "    m = c_mass(xy)\n",
    "    x = xy - m.view(1, 1, 2) * (xy[:, :, 0] != 0).view(1, -1, 1)\n",
    "#   scale\n",
    "    scale = scale_factor(xy, original)\n",
    "    x = x / scale\n",
    "    \n",
    "    \n",
    "#   rotation\n",
    "\n",
    "    r = mu(xy,1,1)\n",
    "    q = mu(original,1,1)\n",
    "    if (q-r) != 0:\n",
    "        p = mu(original,2,0) - mu(original,0,2)\n",
    "        \n",
    "        if (r > (q*-1)) == True:\n",
    "            a = (torch.pi - 0.5*torch.arcsin(rotation_alpha2(q, p, r)))\n",
    "            \n",
    "            print(1)\n",
    "        else: \n",
    "            a = 0.5*torch.arcsin(rotation_alpha2(q, p, r))\n",
    "            print(2)\n",
    "            \n",
    "        a = a = (torch.pi - 0.5*torch.arcsin(rotation_alpha2(q, p, r)))\n",
    "        #a = rotation_alpha(q, p, r)\n",
    "        print(\"a: \" + str(a))\n",
    "        if torch.isnan(a) == False:\n",
    "    \n",
    "            x1 = (x[:, :, 0]*torch.cos(a) - x[:, :, 1]*torch.sin(a))\n",
    "            x2 = (x[:, :, 0]*torch.sin(a) + x[:, :, 1]*torch.cos(a))\n",
    "        \n",
    "            x = torch.stack([x1,x2], -1)\n",
    "    \n",
    "    return x\n",
    "\n",
    "#rotated = dataset2[0][0]\n",
    "#translated = dataset3[0][0]\n",
    "#scaled = dataset4[0][0]\n",
    "\n",
    "#print(default[:,:10])\n",
    "\n",
    "#canonical_transformation(default, default)\n",
    "#canonical_transformation(rotated, default)\n",
    "#print(scaled[:,:10])"
   ]
  },
  {
   "cell_type": "code",
   "execution_count": 2480,
   "id": "630da8b4",
   "metadata": {},
   "outputs": [
    {
     "name": "stdout",
     "output_type": "stream",
     "text": [
      "tensor([721.1772])\n",
      "tensor([-721.1772])\n",
      "tensor([-2228.7344])\n"
     ]
    },
    {
     "data": {
      "text/plain": [
       "tensor([-2.5672])"
      ]
     },
     "execution_count": 2480,
     "metadata": {},
     "output_type": "execute_result"
    }
   ],
   "source": [
    "#rotated = dataset2[0][0]\n",
    "#print(mu(rotated,1,1))\n",
    "##print(mu(default,2,0))\n",
    "#print(mu(default,0,2))\n",
    "#print(mu(default,1,1))\n",
    "\n",
    "r = mu(rotated,1,1)\n",
    "q = mu(default,1,1)\n",
    "p = mu(default,2,0) - mu(default,0,2)\n",
    "\n",
    "print(r)\n",
    "print(q)\n",
    "print(p)\n",
    "\n",
    "rotation_alpha(q, p, r)"
   ]
  },
  {
   "cell_type": "markdown",
   "id": "79e82294",
   "metadata": {},
   "source": [
    "##### $$\n",
    "\\mathbf{M} = \\frac{\\sum_i \\mathbf{r_i} * m_i}{\\sum_i m_i}\n",
    "$$\n",
    "\n",
    "$$\n",
    "\\mathbf{M}' = \\frac{\\sum_i [\\mathbf{r_i} + \\pmb{\\delta}] * m_i}{\\sum_i m_i}\n",
    "= \\frac{\\sum_i \\mathbf{r_i}* m_i}{\\sum_i m_i} + \\frac{\\sum_i \\pmb{\\delta}* m_i}{\\sum_i m_i}\n",
    "= \\mathbf{M} + \\pmb{\\delta}\n",
    "$$"
   ]
  },
  {
   "cell_type": "code",
   "execution_count": 2297,
   "id": "d72511bd",
   "metadata": {},
   "outputs": [
    {
     "data": {
      "text/plain": [
       "tensor(1.5708)"
      ]
     },
     "execution_count": 2297,
     "metadata": {},
     "output_type": "execute_result"
    }
   ],
   "source": [
    "torch.arcsin(torch.tensor(1))"
   ]
  },
  {
   "cell_type": "code",
   "execution_count": 130,
   "id": "3b13620a",
   "metadata": {},
   "outputs": [
    {
     "data": {
      "text/plain": [
       "torch.Size([1, 351])"
      ]
     },
     "execution_count": 130,
     "metadata": {},
     "output_type": "execute_result"
    }
   ],
   "source": []
  },
  {
   "cell_type": "code",
   "execution_count": null,
   "id": "e7c1d04b",
   "metadata": {},
   "outputs": [],
   "source": []
  }
 ],
 "metadata": {
  "kernelspec": {
   "display_name": "Python 3",
   "language": "python",
   "name": "python3"
  },
  "language_info": {
   "codemirror_mode": {
    "name": "ipython",
    "version": 3
   },
   "file_extension": ".py",
   "mimetype": "text/x-python",
   "name": "python",
   "nbconvert_exporter": "python",
   "pygments_lexer": "ipython3",
   "version": "3.7.7"
  }
 },
 "nbformat": 4,
 "nbformat_minor": 5
}
