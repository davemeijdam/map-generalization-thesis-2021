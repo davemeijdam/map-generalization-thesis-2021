{
 "cells": [
  {
   "cell_type": "code",
   "execution_count": 31,
   "id": "4a7f8dc3",
   "metadata": {},
   "outputs": [],
   "source": [
    "from torchvision import datasets, transforms\n",
    "import torch\n",
    "import numpy as np\n",
    "import matplotlib.pyplot as plt\n",
    "import os"
   ]
  },
  {
   "cell_type": "code",
   "execution_count": 36,
   "id": "25a3747d",
   "metadata": {},
   "outputs": [],
   "source": [
    "dataset = datasets.MNIST('~/Developer/datasets', transform=transforms.ToTensor())"
   ]
  },
  {
   "cell_type": "code",
   "execution_count": 22,
   "id": "e80721f7",
   "metadata": {},
   "outputs": [
    {
     "data": {
      "text/plain": [
       "tensor([129, 155, 156, 157, 158, 159, 182, 183, 184, 185, 186, 187, 209, 210,\n",
       "        211, 212, 215, 216, 236, 237, 238, 239, 240, 241, 244, 263, 264, 265,\n",
       "        268, 269, 272, 290, 291, 292, 300, 301, 318, 319, 320, 328, 329, 345,\n",
       "        346, 356, 357, 372, 373, 384, 385, 400, 412, 413, 427, 428, 440, 441,\n",
       "        455, 456, 468, 483, 484, 495, 496, 511, 522, 539, 540, 548, 549, 567,\n",
       "        568, 574, 575, 576, 595, 596, 597, 598, 599, 600, 601, 602, 624, 625,\n",
       "        626, 627, 628, 629, 653, 654, 655])"
      ]
     },
     "execution_count": 22,
     "metadata": {},
     "output_type": "execute_result"
    }
   ],
   "source": [
    "mask = (dataset[1][0][0]>=0.8)\n",
    "torch.arange(784)[mask.view(-1)]"
   ]
  },
  {
   "cell_type": "code",
   "execution_count": 23,
   "id": "d2f90444",
   "metadata": {},
   "outputs": [
    {
     "data": {
      "text/plain": [
       "<matplotlib.image.AxesImage at 0x7f92c0a29b10>"
      ]
     },
     "execution_count": 23,
     "metadata": {},
     "output_type": "execute_result"
    },
    {
     "data": {
      "image/png": "[encoded data removed]",
      "text/plain": [
       "<Figure size 432x288 with 1 Axes>"
      ]
     },
     "metadata": {
      "needs_background": "light"
     },
     "output_type": "display_data"
    }
   ],
   "source": [
    "plt.imshow(mask)"
   ]
  },
  {
   "cell_type": "code",
   "execution_count": 75,
   "id": "ba2aaa03",
   "metadata": {},
   "outputs": [],
   "source": [
    "class MNIST_Polygon(datasets.MNIST):\n",
    "    \n",
    "    def __init__(self, path, train=True, download=False):\n",
    "        super().__init__(root=path, train=train, download=download)\n",
    "        \n",
    "        \n",
    "    def __getitem__(self, index):\n",
    "        x = self.data[index]\n",
    "        y = self.targets[index]\n",
    "        mask = (x > 0.8).view(-1)\n",
    "        x = torch.arange(784)[mask]\n",
    "        x = x.float()\n",
    "        return x, y\n",
    "        \n",
    "        \n",
    "    @property\n",
    "    def raw_folder(self):\n",
    "        return os.path.join(self.root, 'MNIST', 'raw')\n",
    "\n",
    "    @property\n",
    "    def processed_folder(self):\n",
    "        return os.path.join(self.root, 'MNIST', 'processed')"
   ]
  },
  {
   "cell_type": "code",
   "execution_count": 76,
   "id": "cdde67c7",
   "metadata": {},
   "outputs": [],
   "source": [
    "s = MNIST_Polygon('~/Developer/datasets')"
   ]
  },
  {
   "cell_type": "code",
   "execution_count": 90,
   "id": "21b4aa0e",
   "metadata": {},
   "outputs": [],
   "source": [
    "x, y = s[1]"
   ]
  },
  {
   "cell_type": "code",
   "execution_count": 91,
   "id": "7fc831c4",
   "metadata": {},
   "outputs": [
    {
     "data": {
      "text/plain": [
       "<matplotlib.image.AxesImage at 0x7f92ab15ea90>"
      ]
     },
     "execution_count": 91,
     "metadata": {},
     "output_type": "execute_result"
    },
    {
     "data": {
      "image/png": "[encoded data removed]",
      "text/plain": [
       "<Figure size 432x288 with 1 Axes>"
      ]
     },
     "metadata": {
      "needs_background": "light"
     },
     "output_type": "display_data"
    }
   ],
   "source": [
    "img = torch.zeros(784)\n",
    "img[x.long()] = 1.0\n",
    "img = img.view(28, 28)\n",
    "plt.imshow(img)"
   ]
  },
  {
   "cell_type": "code",
   "execution_count": 92,
   "id": "654ad637",
   "metadata": {},
   "outputs": [
    {
     "data": {
      "text/plain": [
       "tensor(0)"
      ]
     },
     "execution_count": 92,
     "metadata": {},
     "output_type": "execute_result"
    }
   ],
   "source": [
    "y"
   ]
  },
  {
   "cell_type": "code",
   "execution_count": 94,
   "id": "2d8d9b07",
   "metadata": {},
   "outputs": [
    {
     "data": {
      "text/plain": [
       "tensor([ 4.,  4.,  4.,  4.,  4.,  5.,  5.,  5.,  5.,  5.,  5.,  6.,  6.,  6.,\n",
       "         6.,  6.,  6.,  6.,  6.,  6.,  7.,  7.,  7.,  7.,  7.,  7.,  7.,  7.,\n",
       "         7.,  7.,  7.,  8.,  8.,  8.,  8.,  8.,  8.,  8.,  8.,  8.,  8.,  8.,\n",
       "         9.,  9.,  9.,  9.,  9.,  9.,  9.,  9.,  9.,  9.,  9.,  9., 10., 10.,\n",
       "        10., 10., 10., 10., 10., 10., 10., 10., 10., 10., 11., 11., 11., 11.,\n",
       "        11., 11., 11., 11., 11., 12., 12., 12., 12., 12., 12., 12., 12., 12.,\n",
       "        12., 13., 13., 13., 13., 13., 13., 13., 14., 14., 14., 14., 14., 14.,\n",
       "        15., 15., 15., 15., 15., 15., 15., 16., 16., 16., 16., 16., 16., 16.,\n",
       "        16., 16., 17., 17., 17., 17., 17., 17., 17., 17., 18., 18., 18., 18.,\n",
       "        18., 18., 18., 19., 19., 19., 19., 19., 19., 19., 20., 20., 20., 20.,\n",
       "        20., 20., 20., 20., 20., 20., 20., 20., 20., 21., 21., 21., 21., 21.,\n",
       "        21., 21., 21., 21., 21., 21., 22., 22., 22., 22., 22., 22., 22., 22.,\n",
       "        22., 23., 23., 23., 23., 23., 23., 23.])"
      ]
     },
     "execution_count": 94,
     "metadata": {},
     "output_type": "execute_result"
    }
   ],
   "source": [
    "x // 28"
   ]
  },
  {
   "cell_type": "code",
   "execution_count": 95,
   "id": "53523aa4",
   "metadata": {},
   "outputs": [
    {
     "data": {
      "text/plain": [
       "tensor([15., 16., 17., 18., 19., 14., 15., 16., 17., 18., 19., 13., 14., 15.,\n",
       "        16., 17., 18., 19., 20., 21., 11., 12., 13., 14., 15., 16., 17., 18.,\n",
       "        19., 20., 21., 11., 12., 13., 14., 15., 16., 17., 18., 19., 20., 21.,\n",
       "        10., 11., 12., 13., 14., 15., 16., 17., 18., 19., 20., 21.,  9., 10.,\n",
       "        11., 12., 13., 14., 15., 16., 17., 20., 21., 22.,  8.,  9., 10., 11.,\n",
       "        12., 13., 20., 21., 22.,  7.,  8.,  9., 10., 11., 12., 13., 20., 21.,\n",
       "        22.,  7.,  8.,  9., 10., 20., 21., 22.,  7.,  8.,  9., 20., 21., 22.,\n",
       "         6.,  7.,  8.,  9., 20., 21., 22.,  6.,  7.,  8.,  9., 18., 19., 20.,\n",
       "        21., 22.,  6.,  7.,  8., 17., 18., 19., 20., 21.,  6.,  7.,  8., 16.,\n",
       "        17., 18., 19.,  6.,  7.,  8., 15., 16., 17., 18.,  6.,  7.,  8.,  9.,\n",
       "        10., 11., 12., 13., 14., 15., 16., 17., 18.,  6.,  7.,  8.,  9., 10.,\n",
       "        11., 12., 13., 14., 15., 16.,  6.,  7.,  8.,  9., 10., 11., 12., 13.,\n",
       "        14.,  7.,  8.,  9., 10., 11., 12., 13.])"
      ]
     },
     "execution_count": 95,
     "metadata": {},
     "output_type": "execute_result"
    }
   ],
   "source": [
    "x % 28"
   ]
  },
  {
   "cell_type": "code",
   "execution_count": 97,
   "id": "64156807",
   "metadata": {},
   "outputs": [
    {
     "data": {
      "text/plain": [
       "176"
      ]
     },
     "execution_count": 97,
     "metadata": {},
     "output_type": "execute_result"
    }
   ],
   "source": [
    "len(x)"
   ]
  },
  {
   "cell_type": "code",
   "execution_count": 101,
   "id": "ae0abf2f",
   "metadata": {},
   "outputs": [
    {
     "data": {
      "text/plain": [
       "tensor([127., 128., 129., 130., 131., 154., 155., 156., 157., 158., 159., 181.,\n",
       "        182., 183., 184., 185., 186., 187., 188., 189., 207., 208., 209., 210.,\n",
       "        211., 212., 213., 214., 215., 216., 217., 235., 236., 237., 238., 239.,\n",
       "        240., 241., 242., 243., 244., 245., 262., 263., 264., 265., 266., 267.,\n",
       "        268., 269., 270., 271., 272., 273., 289., 290., 291., 292., 293., 294.,\n",
       "        295., 296., 297., 300., 301., 302., 316., 317., 318., 319., 320., 321.,\n",
       "        328., 329., 330., 343., 344., 345., 346., 347., 348., 349., 356., 357.,\n",
       "        358., 371., 372., 373., 374., 384., 385., 386., 399., 400., 401., 412.,\n",
       "        413., 414., 426., 427., 428., 429., 440., 441., 442., 454., 455., 456.,\n",
       "        457., 466., 467., 468., 469., 470., 482., 483., 484., 493., 494., 495.,\n",
       "        496., 497., 510., 511., 512., 520., 521., 522., 523., 538., 539., 540.,\n",
       "        547., 548., 549., 550., 566., 567., 568., 569., 570., 571., 572., 573.,\n",
       "        574., 575., 576., 577., 578., 594., 595., 596., 597., 598., 599., 600.,\n",
       "        601., 602., 603., 604., 622., 623., 624., 625., 626., 627., 628., 629.,\n",
       "        630., 651., 652., 653., 654., 655., 656., 657.,   0.,   0.,   0.,   0.,\n",
       "          0.,   0.,   0.,   0.,   0.,   0.,   0.,   0.,   0.,   0.,   0.,   0.,\n",
       "          0.,   0.,   0.,   0.,   0.,   0.,   0.,   0.,   0.,   0.,   0.,   0.,\n",
       "          0.,   0.,   0.,   0.,   0.,   0.,   0.,   0.,   0.,   0.,   0.,   0.,\n",
       "          0.,   0.,   0.,   0.,   0.,   0.,   0.,   0.,   0.,   0.,   0.,   0.,\n",
       "          0.,   0.,   0.,   0.,   0.,   0.,   0.,   0.,   0.,   0.,   0.,   0.,\n",
       "          0.,   0.,   0.,   0.,   0.,   0.,   0.,   0.,   0.,   0.,   0.,   0.,\n",
       "          0.,   0.,   0.,   0.,   0.,   0.,   0.,   0.,   0.,   0.,   0.,   0.,\n",
       "          0.,   0.,   0.,   0.,   0.,   0.,   0.,   0.,   0.,   0.,   0.,   0.,\n",
       "          0.,   0.,   0.,   0.,   0.,   0.,   0.,   0.,   0.,   0.,   0.,   0.,\n",
       "          0.,   0.,   0.,   0.,   0.,   0.,   0.,   0.,   0.,   0.,   0.,   0.,\n",
       "          0.,   0.,   0.,   0.,   0.,   0.,   0.,   0.,   0.,   0.,   0.,   0.,\n",
       "          0.,   0.,   0.,   0.,   0.,   0.,   0.,   0.,   0.,   0.,   0.,   0.,\n",
       "          0.,   0.,   0.,   0.,   0.,   0.,   0.,   0.,   0.,   0.,   0.,   0.,\n",
       "          0.,   0.,   0.,   0.,   0.,   0.,   0.,   0.,   0.,   0.,   0.,   0.,\n",
       "          0.,   0.,   0.,   0.,   0.,   0.,   0.,   0.,   0.,   0.,   0.,   0.,\n",
       "          0.,   0.,   0.,   0.,   0.,   0.,   0.,   0.,   0.,   0.,   0.,   0.,\n",
       "          0.,   0.,   0.,   0.,   0.,   0.,   0.,   0.,   0.,   0.,   0.,   0.,\n",
       "          0.,   0.,   0.,   0.,   0.,   0.,   0.,   0.,   0.,   0.,   0.,   0.,\n",
       "          0.,   0.,   0.,   0.,   0.,   0.,   0.,   0.,   0.,   0.,   0.,   0.,\n",
       "          0.,   0.,   0.,   0.,   0.,   0.,   0.,   0.,   0.,   0.,   0.,   0.,\n",
       "          0.,   0.,   0.,   0.,   0.,   0.,   0.,   0.,   0.,   0.,   0.,   0.,\n",
       "          0.,   0.,   0.,   0.,   0.,   0.,   0.,   0.,   0.,   0.,   0.,   0.,\n",
       "          0.,   0.,   0.,   0.,   0.,   0.,   0.,   0.,   0.,   0.,   0.,   0.,\n",
       "          0.,   0.,   0.,   0.,   0.,   0.,   0.,   0.,   0.,   0.,   0.,   0.,\n",
       "          0.,   0.,   0.,   0.,   0.,   0.,   0.,   0.,   0.,   0.,   0.,   0.,\n",
       "          0.,   0.,   0.,   0.,   0.,   0.,   0.,   0.,   0.,   0.,   0.,   0.,\n",
       "          0.,   0.,   0.,   0.,   0.,   0.,   0.,   0.,   0.,   0.,   0.,   0.,\n",
       "          0.,   0.,   0.,   0.,   0.,   0.,   0.,   0.,   0.,   0.,   0.,   0.,\n",
       "          0.,   0.,   0.,   0.,   0.,   0.,   0.,   0.,   0.,   0.,   0.,   0.,\n",
       "          0.,   0.,   0.,   0.,   0.,   0.,   0.,   0.,   0.,   0.,   0.,   0.,\n",
       "          0.,   0.,   0.,   0.,   0.,   0.,   0.,   0.,   0.,   0.,   0.,   0.,\n",
       "          0.,   0.,   0.,   0.,   0.,   0.,   0.,   0.,   0.,   0.,   0.,   0.,\n",
       "          0.,   0.,   0.,   0.,   0.,   0.,   0.,   0.,   0.,   0.,   0.,   0.,\n",
       "          0.,   0.,   0.,   0.,   0.,   0.,   0.,   0.,   0.,   0.,   0.,   0.,\n",
       "          0.,   0.,   0.,   0.,   0.,   0.,   0.,   0.,   0.,   0.,   0.,   0.,\n",
       "          0.,   0.,   0.,   0.,   0.,   0.,   0.,   0.,   0.,   0.,   0.,   0.,\n",
       "          0.,   0.,   0.,   0.,   0.,   0.,   0.,   0.,   0.,   0.,   0.,   0.,\n",
       "          0.,   0.,   0.,   0.,   0.,   0.,   0.,   0.,   0.,   0.,   0.,   0.,\n",
       "          0.,   0.,   0.,   0.,   0.,   0.,   0.,   0.,   0.,   0.,   0.,   0.,\n",
       "          0.,   0.,   0.,   0.,   0.,   0.,   0.,   0.,   0.,   0.,   0.,   0.,\n",
       "          0.,   0.,   0.,   0.,   0.,   0.,   0.,   0.,   0.,   0.,   0.,   0.,\n",
       "          0.,   0.,   0.,   0.,   0.,   0.,   0.,   0.,   0.,   0.,   0.,   0.,\n",
       "          0.,   0.,   0.,   0.,   0.,   0.,   0.,   0.,   0.,   0.,   0.,   0.,\n",
       "          0.,   0.,   0.,   0.,   0.,   0.,   0.,   0.,   0.,   0.,   0.,   0.,\n",
       "          0.,   0.,   0.,   0.,   0.,   0.,   0.,   0.,   0.,   0.,   0.,   0.,\n",
       "          0.,   0.,   0.,   0.,   0.,   0.,   0.,   0.,   0.,   0.,   0.,   0.,\n",
       "          0.,   0.,   0.,   0.,   0.,   0.,   0.,   0.,   0.,   0.,   0.,   0.,\n",
       "          0.,   0.,   0.,   0.,   0.,   0.,   0.,   0.,   0.,   0.,   0.,   0.,\n",
       "          0.,   0.,   0.,   0.,   0.,   0.,   0.,   0.,   0.,   0.,   0.,   0.,\n",
       "          0.,   0.,   0.,   0.,   0.,   0.,   0.,   0.,   0.,   0.,   0.,   0.,\n",
       "          0.,   0.,   0.,   0.])"
      ]
     },
     "execution_count": 101,
     "metadata": {},
     "output_type": "execute_result"
    }
   ],
   "source": [
    "torch.Tensor(list(x) + 608 * [0])"
   ]
  },
  {
   "cell_type": "code",
   "execution_count": null,
   "id": "46a6d608",
   "metadata": {},
   "outputs": [],
   "source": []
  }
 ],
 "metadata": {
  "kernelspec": {
   "display_name": "Python 3",
   "language": "python",
   "name": "python3"
  },
  "language_info": {
   "codemirror_mode": {
    "name": "ipython",
    "version": 3
   },
   "file_extension": ".py",
   "mimetype": "text/x-python",
   "name": "python",
   "nbconvert_exporter": "python",
   "pygments_lexer": "ipython3",
   "version": "3.7.7"
  }
 },
 "nbformat": 4,
 "nbformat_minor": 5
}
