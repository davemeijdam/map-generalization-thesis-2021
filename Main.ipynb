{
 "cells": [
  {
   "cell_type": "markdown",
   "metadata": {},
   "source": [
    "# Import Libraries"
   ]
  },
  {
   "cell_type": "code",
   "execution_count": 2,
   "metadata": {},
   "outputs": [],
   "source": [
    "import pandas as pd\n",
    "import numpy as np\n",
    "import matplotlib.pyplot as plt\n",
    "import sqlite3\n",
    "import mapbox_vector_tile\n",
    "from pyproj import Proj, transform\n",
    "from time import time\n",
    "import operator\n",
    "from collections import Counter\n",
    "\n",
    "from tensorflow.keras import Sequential\n",
    "from tensorflow.keras import layers\n",
    "\n",
    "from shapely import geometry \n",
    "from simplification.cutil import (\n",
    "    simplify_coords,\n",
    "    simplify_coords_idx,\n",
    "    simplify_coords_vw,\n",
    "    simplify_coords_vw_idx,\n",
    "    simplify_coords_vwp,\n",
    ")"
   ]
  },
  {
   "cell_type": "markdown",
   "metadata": {},
   "source": [
    "# Define Functions"
   ]
  },
  {
   "cell_type": "code",
   "execution_count": 3,
   "metadata": {},
   "outputs": [],
   "source": [
    "def create_connection(db_file):\n",
    "    \"\"\" create a database connection to a SQLite database \"\"\"\n",
    "    try:\n",
    "        conn = sqlite3.connect(db_file)\n",
    "        print(conn)\n",
    "    except Error as e:\n",
    "        print(e)\n",
    "    \n",
    "    return conn\n",
    "\n",
    "def PolyArea(x,y):\n",
    "    return 0.5*np.abs(np.dot(x,np.roll(y,1))-np.dot(y,np.roll(x,1)))\n",
    "\n",
    "def ScoreFormula(old_number_of_datapoints, new_number_of_datapoints, processing_time):\n",
    "    return (1 - (new_number_of_datapoints / old_number_of_datapoints)) * (1 - processing_time)\n",
    "\n",
    "\n",
    "def ScaleFactor(all_geometries):\n",
    "    b_list = []\n",
    "    \n",
    "    for geometries in all_geometries:\n",
    "        \n",
    "        polygon = geometry.Polygon(geometries)\n",
    "        centroid = np.array(polygon.centroid)\n",
    "        coordinates = np.vstack(geometries)\n",
    "        \n",
    "        b = coordinates - centroid\n",
    "        b_min = np.min(b)\n",
    "        b_max = np.max(b)\n",
    "        b_list.append(b_min)\n",
    "        b_list.append(b_max)\n",
    "        \n",
    "    return np.std(b_list)\n",
    "    \n",
    "def Normalize_Geometry(coordinates1, scale_factor):\n",
    "    polygon = geometry.Polygon(coordinates1)\n",
    "    centroid = np.array(polygon.centroid)\n",
    "    coordinates2 = np.vstack(coordinates1)\n",
    "    \n",
    "    return (coordinates2 - centroid) / scale_factor\n",
    "\n",
    "def Add_One_Hot(normalized_geometry):\n",
    "    normalized_geometry = np.insert(normalized_geometry, 2, 1, axis=1)\n",
    "    normalized_geometry = np.insert(normalized_geometry, 3, 0, axis=1)\n",
    "    normalized_geometry = np.insert(normalized_geometry, 4, 0, axis=1)\n",
    "    normalized_geometry[len(normalized_geometry)-1,2] = 0\n",
    "    normalized_geometry[len(normalized_geometry)-1,4] = 1\n",
    "    \n",
    "    return normalized_geometry\n",
    "\n",
    "def Add_Zero_Padding(one_hotted_geometry, max_length):\n",
    "    boundary = max_length - len(one_hotted_geometry)\n",
    "    zero_matrix = np.zeros([boundary,5])\n",
    "    return np.append(one_hotted_geometry, zero_matrix, axis=0)"
   ]
  },
  {
   "cell_type": "markdown",
   "metadata": {},
   "source": [
    "# Load Data"
   ]
  },
  {
   "cell_type": "code",
   "execution_count": 10,
   "metadata": {},
   "outputs": [
    {
     "name": "stdout",
     "output_type": "stream",
     "text": [
      "<sqlite3.Connection object at 0x7febe203e810>\n",
      "[{'bag_pand.se_fld12_geometrie': {'extent': 4096, 'version': 2, 'features': [{'geometry': {'type': 'Polygon', 'coordinates': [[[243, 2760], [242, 2760], [242, 2761], [243, 2760]]]}, 'properties': {}, 'id': 0, 'type': 3}, {'geometry': {'type': 'MultiPolygon', 'coordinates': []}, 'properties': {}, 'id': 1, 'type': 3}, {'geometry': {'type': 'Polygon', 'coordinates': [[[243, 2759], [243, 2760], [244, 2760], [244, 2759], [243, 2759]]]}, 'properties': {}, 'id': 2, 'type': 3}, {'geometry': {'type': 'Polygon', 'coordinates': [[[244, 2759], [243, 2759], [243, 2760], [244, 2760], [244, 2759]]]}, 'properties': {}, 'id': 3, 'type': 3}, {'geometry': {'type': 'Polygon', 'coordinates': [[[243, 2759], [242, 2759], [242, 2760], [243, 2760], [243, 2759]]]}, 'properties': {}, 'id': 4, 'type': 3}, {'geometry': {'type': 'Polygon', 'coordinates': [[[241, 2759], [241, 2760], [242, 2759], [241, 2759]]]}, 'properties': {}, 'id': 5, 'type': 3}]}}, {'bag_pand.se_fld12_geometrie': {'extent': 4096, 'version': 2, 'features': [{'geometry': {'type': 'Polygon', 'coordinates': [[[488, 1422], [488, 1421], [487, 1421], [487, 1422], [488, 1422]]]}, 'properties': {}, 'id': 0, 'type': 3}, {'geometry': {'type': 'Polygon', 'coordinates': [[[484, 1423], [485, 1424], [485, 1423], [484, 1423]]]}, 'properties': {}, 'id': 1, 'type': 3}, {'geometry': {'type': 'MultiPolygon', 'coordinates': []}, 'properties': {}, 'id': 2, 'type': 3}]}}, {'bag_pand.se_fld12_geometrie': {'extent': 4096, 'version': 2, 'features': [{'geometry': {'type': 'Polygon', 'coordinates': [[[975, 2850], [975, 2849], [974, 2849], [974, 2850], [975, 2850]]]}, 'properties': {}, 'id': 0, 'type': 3}, {'geometry': {'type': 'Polygon', 'coordinates': [[[973, 2850], [974, 2849], [973, 2849], [973, 2850]]]}, 'properties': {}, 'id': 1, 'type': 3}, {'geometry': {'type': 'Polygon', 'coordinates': [[[973, 2850], [974, 2849], [973, 2849], [973, 2850]]]}, 'properties': {}, 'id': 2, 'type': 3}, {'geometry': {'type': 'Polygon', 'coordinates': [[[973, 2849], [974, 2849], [974, 2848], [973, 2848], [973, 2849]]]}, 'properties': {}, 'id': 3, 'type': 3}, {'geometry': {'type': 'MultiPolygon', 'coordinates': []}, 'properties': {}, 'id': 4, 'type': 3}, {'geometry': {'type': 'Polygon', 'coordinates': [[[974, 2847], [975, 2847], [975, 2846], [974, 2846], [974, 2847]]]}, 'properties': {}, 'id': 5, 'type': 3}, {'geometry': {'type': 'MultiPolygon', 'coordinates': []}, 'properties': {}, 'id': 6, 'type': 3}, {'geometry': {'type': 'Polygon', 'coordinates': [[[966, 2848], [966, 2849], [967, 2849], [967, 2848], [966, 2848]]]}, 'properties': {}, 'id': 7, 'type': 3}, {'geometry': {'type': 'Polygon', 'coordinates': [[[964, 2849], [965, 2849], [965, 2848], [964, 2848], [964, 2849]]]}, 'properties': {}, 'id': 8, 'type': 3}, {'geometry': {'type': 'MultiPolygon', 'coordinates': []}, 'properties': {}, 'id': 9, 'type': 3}, {'geometry': {'type': 'MultiPolygon', 'coordinates': []}, 'properties': {}, 'id': 10, 'type': 3}, {'geometry': {'type': 'Polygon', 'coordinates': [[[975, 2844], [974, 2844], [975, 2845], [975, 2844]]]}, 'properties': {}, 'id': 11, 'type': 3}, {'geometry': {'type': 'Polygon', 'coordinates': [[[970, 2845], [970, 2846], [971, 2846], [971, 2845], [970, 2845]]]}, 'properties': {}, 'id': 12, 'type': 3}, {'geometry': {'type': 'Polygon', 'coordinates': [[[972, 2845], [972, 2844], [971, 2844], [972, 2845]]]}, 'properties': {}, 'id': 13, 'type': 3}, {'geometry': {'type': 'Polygon', 'coordinates': [[[971, 2843], [971, 2842], [970, 2842], [970, 2843], [971, 2843]]]}, 'properties': {}, 'id': 14, 'type': 3}, {'geometry': {'type': 'Polygon', 'coordinates': [[[971, 2844], [972, 2844], [972, 2843], [971, 2843], [971, 2844]]]}, 'properties': {}, 'id': 15, 'type': 3}, {'geometry': {'type': 'Polygon', 'coordinates': [[[971, 2842], [971, 2843], [972, 2843], [972, 2842], [971, 2842]]]}, 'properties': {}, 'id': 16, 'type': 3}, {'geometry': {'type': 'Polygon', 'coordinates': [[[969, 2844], [968, 2845], [969, 2845], [969, 2844]]]}, 'properties': {}, 'id': 17, 'type': 3}, {'geometry': {'type': 'Polygon', 'coordinates': [[[965, 2844], [965, 2845], [966, 2845], [966, 2844], [965, 2844]]]}, 'properties': {}, 'id': 18, 'type': 3}, {'geometry': {'type': 'Polygon', 'coordinates': [[[963, 2845], [964, 2845], [963, 2844], [963, 2845]]]}, 'properties': {}, 'id': 19, 'type': 3}, {'geometry': {'type': 'Polygon', 'coordinates': [[[969, 2843], [968, 2844], [969, 2844], [969, 2843]]]}, 'properties': {}, 'id': 20, 'type': 3}, {'geometry': {'type': 'Polygon', 'coordinates': [[[969, 2843], [968, 2843], [968, 2844], [969, 2843]]]}, 'properties': {}, 'id': 21, 'type': 3}, {'geometry': {'type': 'Polygon', 'coordinates': [[[964, 2842], [964, 2843], [965, 2842], [964, 2842]]]}, 'properties': {}, 'id': 22, 'type': 3}]}}]\n",
      "56188\n"
     ]
    }
   ],
   "source": [
    "data = pd.read_csv('/Users/davemeijdam/Documents/Data Science/Master/Master Thesis/Data/Sample data/ONTWIKKELBUURTEN.csv', sep =';')\n",
    "\n",
    "conn_pand_centrum = create_connection(\"/Users/davemeijdam/Documents/Data Science/Master/Master Thesis/Data/SQLite/Pand_26116_centrum.db\")\n",
    "\n",
    "cur = conn_pand_centrum.cursor()\n",
    "cur.execute(\"SELECT data FROM tiles;\")\n",
    "\n",
    "rows = cur.fetchall()\n",
    "pand_centrum_data = []\n",
    "for row in rows:\n",
    "    pand_centrum_data.append(mapbox_vector_tile.decode(row[0]))\n",
    "    #print(row[0])\n",
    "print(pand_centrum_data[0:3])\n",
    "print(len(pand_centrum_data))"
   ]
  },
  {
   "cell_type": "markdown",
   "metadata": {},
   "source": [
    "# Pre Processing"
   ]
  },
  {
   "cell_type": "code",
   "execution_count": 5,
   "metadata": {},
   "outputs": [],
   "source": [
    "simplify_possibilities = [['D-P', 0], ['D-P', 0.005], ['D-P', 0.001], ['D-P', 0.0005], ['D-P', 0.0001],\n",
    "                         ['D-P', 0.00005], ['D-P', 0.00001], ['V-W', 0.000005],\n",
    "                         ['V-W', 0.000001], ['V-W', 0.0000005], ['V-W', 0.0000001], ['V-W', 0.00000005], \n",
    "                         ['V-W', 0.00000001]]\n",
    "\n",
    "MAX_LENGTH_DEFICIT = -0.1"
   ]
  },
  {
   "cell_type": "code",
   "execution_count": 1,
   "metadata": {},
   "outputs": [
    {
     "ename": "NameError",
     "evalue": "name 'Proj' is not defined",
     "output_type": "error",
     "traceback": [
      "\u001b[0;31m---------------------------------------------------------------------------\u001b[0m",
      "\u001b[0;31mNameError\u001b[0m                                 Traceback (most recent call last)",
      "\u001b[0;32m<ipython-input-1-1052122093fe>\u001b[0m in \u001b[0;36m<module>\u001b[0;34m\u001b[0m\n\u001b[1;32m      2\u001b[0m \u001b[0mPolygons\u001b[0m \u001b[0;34m=\u001b[0m \u001b[0;34m[\u001b[0m\u001b[0;34m]\u001b[0m\u001b[0;34m\u001b[0m\u001b[0;34m\u001b[0m\u001b[0m\n\u001b[1;32m      3\u001b[0m \u001b[0mMultiPolygons\u001b[0m \u001b[0;34m=\u001b[0m \u001b[0;34m[\u001b[0m\u001b[0;34m]\u001b[0m\u001b[0;34m\u001b[0m\u001b[0;34m\u001b[0m\u001b[0m\n\u001b[0;32m----> 4\u001b[0;31m \u001b[0minProj\u001b[0m \u001b[0;34m=\u001b[0m \u001b[0mProj\u001b[0m\u001b[0;34m(\u001b[0m\u001b[0minit\u001b[0m\u001b[0;34m=\u001b[0m\u001b[0;34m'epsg:28991'\u001b[0m\u001b[0;34m)\u001b[0m\u001b[0;34m\u001b[0m\u001b[0;34m\u001b[0m\u001b[0m\n\u001b[0m\u001b[1;32m      5\u001b[0m \u001b[0moutProj\u001b[0m \u001b[0;34m=\u001b[0m \u001b[0mProj\u001b[0m\u001b[0;34m(\u001b[0m\u001b[0minit\u001b[0m\u001b[0;34m=\u001b[0m\u001b[0;34m'epsg:4326'\u001b[0m\u001b[0;34m)\u001b[0m\u001b[0;34m\u001b[0m\u001b[0;34m\u001b[0m\u001b[0m\n\u001b[1;32m      6\u001b[0m \u001b[0ma\u001b[0m\u001b[0;34m=\u001b[0m\u001b[0;36m0\u001b[0m\u001b[0;34m\u001b[0m\u001b[0;34m\u001b[0m\u001b[0m\n",
      "\u001b[0;31mNameError\u001b[0m: name 'Proj' is not defined"
     ]
    }
   ],
   "source": [
    "Lines = []\n",
    "Polygons = []\n",
    "MultiPolygons = []\n",
    "a=0\n",
    "for row in pand_centrum_data[0:10]:\n",
    "    print(str(a) + \" / \" + str(len(pand_centrum_data)), end=\"\\r\")\n",
    "    a = a + 1\n",
    "    keys = row.keys()\n",
    "    \n",
    "    for key in keys:\n",
    "        for element in row[key]['features']:\n",
    "            \n",
    "            if element['geometry']['type'] == 'LineString': \n",
    "                Lines.append(element['geometry']['coordinates'])\n",
    "            \n",
    "            if element['geometry']['type'] == 'Polygon':\n",
    "                Polygons.append(element['geometry']['coordinates'][0])\n",
    "                \n",
    "            #if element['geometry']['type'] == 'MultiPolygon':\n",
    "                #MultiPolygons.append(element['geometry']['coordinates'])\n",
    "    \n",
    "    \n",
    "\n",
    "#test = lvl10_data[0]['spoor.se_fld12_lijngeometrie2d']['features'][0]['geometry']['coordinates']\n",
    "#print(Polygons)"
   ]
  },
  {
   "cell_type": "code",
   "execution_count": 8,
   "metadata": {},
   "outputs": [
    {
     "ename": "AttributeError",
     "evalue": "'list' object has no attribute '_geom'",
     "output_type": "error",
     "traceback": [
      "\u001b[0;31m---------------------------------------------------------------------------\u001b[0m",
      "\u001b[0;31mAttributeError\u001b[0m                            Traceback (most recent call last)",
      "\u001b[0;32m<ipython-input-8-38d8df8476bb>\u001b[0m in \u001b[0;36m<module>\u001b[0;34m\u001b[0m\n\u001b[1;32m     10\u001b[0m \u001b[0mp4\u001b[0m \u001b[0;34m=\u001b[0m \u001b[0mgeometry\u001b[0m\u001b[0;34m.\u001b[0m\u001b[0mPolygon\u001b[0m\u001b[0;34m(\u001b[0m\u001b[0mPolygons\u001b[0m\u001b[0;34m[\u001b[0m\u001b[0;36m3\u001b[0m\u001b[0;34m]\u001b[0m\u001b[0;34m)\u001b[0m\u001b[0;34m\u001b[0m\u001b[0;34m\u001b[0m\u001b[0m\n\u001b[1;32m     11\u001b[0m \u001b[0mp5\u001b[0m \u001b[0;34m=\u001b[0m \u001b[0mgeometry\u001b[0m\u001b[0;34m.\u001b[0m\u001b[0mPolygon\u001b[0m\u001b[0;34m(\u001b[0m\u001b[0mPolygons\u001b[0m\u001b[0;34m[\u001b[0m\u001b[0;36m4\u001b[0m\u001b[0;34m]\u001b[0m\u001b[0;34m)\u001b[0m\u001b[0;34m\u001b[0m\u001b[0;34m\u001b[0m\u001b[0m\n\u001b[0;32m---> 12\u001b[0;31m \u001b[0mnew_shape\u001b[0m \u001b[0;34m=\u001b[0m \u001b[0mso\u001b[0m\u001b[0;34m.\u001b[0m\u001b[0mcascaded_union\u001b[0m\u001b[0;34m(\u001b[0m\u001b[0mPolygons\u001b[0m\u001b[0;34m)\u001b[0m\u001b[0;34m\u001b[0m\u001b[0;34m\u001b[0m\u001b[0m\n\u001b[0m\u001b[1;32m     13\u001b[0m \u001b[0;34m\u001b[0m\u001b[0m\n\u001b[1;32m     14\u001b[0m \u001b[0mfig\u001b[0m\u001b[0;34m,\u001b[0m \u001b[0maxs\u001b[0m \u001b[0;34m=\u001b[0m \u001b[0mplt\u001b[0m\u001b[0;34m.\u001b[0m\u001b[0msubplots\u001b[0m\u001b[0;34m(\u001b[0m\u001b[0;34m)\u001b[0m\u001b[0;34m\u001b[0m\u001b[0;34m\u001b[0m\u001b[0m\n",
      "\u001b[0;32m/opt/anaconda3/lib/python3.7/site-packages/shapely/ops.py\u001b[0m in \u001b[0;36mcascaded_union\u001b[0;34m(self, geoms)\u001b[0m\n\u001b[1;32m    133\u001b[0m         \u001b[0msubs\u001b[0m \u001b[0;34m=\u001b[0m \u001b[0;34m(\u001b[0m\u001b[0mc_void_p\u001b[0m \u001b[0;34m*\u001b[0m \u001b[0mL\u001b[0m\u001b[0;34m)\u001b[0m\u001b[0;34m(\u001b[0m\u001b[0;34m)\u001b[0m\u001b[0;34m\u001b[0m\u001b[0;34m\u001b[0m\u001b[0m\n\u001b[1;32m    134\u001b[0m         \u001b[0;32mfor\u001b[0m \u001b[0mi\u001b[0m\u001b[0;34m,\u001b[0m \u001b[0mg\u001b[0m \u001b[0;32min\u001b[0m \u001b[0menumerate\u001b[0m\u001b[0;34m(\u001b[0m\u001b[0mgeoms\u001b[0m\u001b[0;34m)\u001b[0m\u001b[0;34m:\u001b[0m\u001b[0;34m\u001b[0m\u001b[0;34m\u001b[0m\u001b[0m\n\u001b[0;32m--> 135\u001b[0;31m             \u001b[0msubs\u001b[0m\u001b[0;34m[\u001b[0m\u001b[0mi\u001b[0m\u001b[0;34m]\u001b[0m \u001b[0;34m=\u001b[0m \u001b[0mg\u001b[0m\u001b[0;34m.\u001b[0m\u001b[0m_geom\u001b[0m\u001b[0;34m\u001b[0m\u001b[0;34m\u001b[0m\u001b[0m\n\u001b[0m\u001b[1;32m    136\u001b[0m         \u001b[0mcollection\u001b[0m \u001b[0;34m=\u001b[0m \u001b[0mlgeos\u001b[0m\u001b[0;34m.\u001b[0m\u001b[0mGEOSGeom_createCollection\u001b[0m\u001b[0;34m(\u001b[0m\u001b[0;36m6\u001b[0m\u001b[0;34m,\u001b[0m \u001b[0msubs\u001b[0m\u001b[0;34m,\u001b[0m \u001b[0mL\u001b[0m\u001b[0;34m)\u001b[0m\u001b[0;34m\u001b[0m\u001b[0;34m\u001b[0m\u001b[0m\n\u001b[1;32m    137\u001b[0m         \u001b[0;32mreturn\u001b[0m \u001b[0mgeom_factory\u001b[0m\u001b[0;34m(\u001b[0m\u001b[0mlgeos\u001b[0m\u001b[0;34m.\u001b[0m\u001b[0mmethods\u001b[0m\u001b[0;34m[\u001b[0m\u001b[0;34m'cascaded_union'\u001b[0m\u001b[0;34m]\u001b[0m\u001b[0;34m(\u001b[0m\u001b[0mcollection\u001b[0m\u001b[0;34m)\u001b[0m\u001b[0;34m)\u001b[0m\u001b[0;34m\u001b[0m\u001b[0;34m\u001b[0m\u001b[0m\n",
      "\u001b[0;31mAttributeError\u001b[0m: 'list' object has no attribute '_geom'"
     ]
    }
   ],
   "source": [
    "test = geometry.Polygon(pand_centrum_data[0]['bag_pand.se_fld12_geometrie']['features'][0]['geometry']['coordinates'][0])\n",
    "#pand_centrum_data[0]['bag_pand.se_fld12_geometrie']['features'][0]['geometry']['coordinates'][0]\n",
    "test.length\n"
   ]
  },
  {
   "cell_type": "code",
   "execution_count": 43,
   "metadata": {},
   "outputs": [
    {
     "name": "stdout",
     "output_type": "stream",
     "text": [
      "Scale Factor done\n",
      "Sorted the Polygons\n",
      "19999 / 429768\r"
     ]
    }
   ],
   "source": [
    "results_list = []\n",
    "length_list = []\n",
    "scale_factor = ScaleFactor(Polygons)\n",
    "print(\"Scale Factor done\")\n",
    "\n",
    "\n",
    "# Decide order from longest polygon to smallest polygon\n",
    "for row in Polygons:\n",
    "\n",
    "    length_list.append([row, len(row)])\n",
    "\n",
    "length_list.sort(key=operator.itemgetter(1), reverse=True)\n",
    "print(\"Sorted the Polygons\")\n",
    "a=0\n",
    "for element in length_list[:20000]:\n",
    "    print(str(a) + \" / \" + str(len(length_list)), end=\"\\r\")\n",
    "    a = a + 1\n",
    "    results_dict = {}\n",
    "    poly1 = geometry.Polygon(element[0])\n",
    "    results = []\n",
    "    for possibility in simplify_possibilities:\n",
    "\n",
    "        if possibility[0] == 'D-P':\n",
    "            # Simplification function Douglas-Peucker\n",
    "            time_start = time()\n",
    "            simplified_coordinates = simplify_coords(element[0], possibility[1])\n",
    "            time_end = time()\n",
    "            process_time = time_end - time_start\n",
    "\n",
    "        if possibility[0] == 'V-W':\n",
    "            # Simplification function Visvalingam-Whyatt\n",
    "            time_start = time()\n",
    "            simplified_coordinates = simplify_coords_vw(element[0], possibility[1])\n",
    "            time_end = time()\n",
    "            process_time = time_end - time_start\n",
    "        \n",
    "        if len(simplified_coordinates) >= 3:\n",
    "            poly2 = geometry.Polygon(simplified_coordinates)\n",
    "            length_deficit = (poly2.length - poly1.length) / poly1.length\n",
    "        \n",
    "            # If the length deficit of the polygon is smaller(greater) than the provided MAX_LENGTH_DEFICIT, \n",
    "            # the score gets saved\n",
    "            if length_deficit > MAX_LENGTH_DEFICIT:\n",
    "                score = ScoreFormula(len(element[0]), len(simplified_coordinates), process_time)\n",
    "                results.append(score)\n",
    "    \n",
    "    results_dict['polygon'] = Add_Zero_Padding(Add_One_Hot(Normalize_Geometry(element[0], scale_factor)), len(length_list[0][0]))\n",
    "    results_dict['algorithm'] = results.index(max(results))\n",
    "    results_list.append(results_dict)\n",
    "\n",
    "X = []\n",
    "y = []\n",
    "a = 0\n",
    "for element in results_list:\n",
    "    print(str(a) + \" / \" + str(len(length_list)), end=\"\\r\")\n",
    "    a = a + 1\n",
    "    \n",
    "    X.append(element['polygon'])\n",
    "    y.append(element['algorithm'])\n",
    "X = np.array(X)\n",
    "y = np.array(y)\n",
    "# Calculate the deficit in the number of \n",
    "#point_deficit = len(coordinates) - len(simplified_coordinates)\n",
    "#print('Point Deficit: ' + str(point_deficit) + ' out of ' + str(len(coordinates)))\n",
    "\n",
    "#old_area = PolyArea(old_xs,old_ys)\n",
    "#new_area = PolyArea(new_xs,new_ys)\n",
    "#area_deficit_percentage = (new_area - old_area) / old_area\n",
    "#print(area_deficit_percentage)"
   ]
  },
  {
   "cell_type": "code",
   "execution_count": null,
   "metadata": {},
   "outputs": [],
   "source": []
  },
  {
   "cell_type": "markdown",
   "metadata": {},
   "source": [
    "# Data Stats"
   ]
  },
  {
   "cell_type": "code",
   "execution_count": 44,
   "metadata": {},
   "outputs": [
    {
     "data": {
      "text/html": [
       "<div>\n",
       "<style scoped>\n",
       "    .dataframe tbody tr th:only-of-type {\n",
       "        vertical-align: middle;\n",
       "    }\n",
       "\n",
       "    .dataframe tbody tr th {\n",
       "        vertical-align: top;\n",
       "    }\n",
       "\n",
       "    .dataframe thead th {\n",
       "        text-align: right;\n",
       "    }\n",
       "</style>\n",
       "<table border=\"1\" class=\"dataframe\">\n",
       "  <thead>\n",
       "    <tr style=\"text-align: right;\">\n",
       "      <th></th>\n",
       "      <th>keys</th>\n",
       "      <th>freq</th>\n",
       "    </tr>\n",
       "  </thead>\n",
       "  <tbody>\n",
       "    <tr>\n",
       "      <th>0</th>\n",
       "      <td>7</td>\n",
       "      <td>53</td>\n",
       "    </tr>\n",
       "    <tr>\n",
       "      <th>1</th>\n",
       "      <td>8</td>\n",
       "      <td>211</td>\n",
       "    </tr>\n",
       "    <tr>\n",
       "      <th>2</th>\n",
       "      <td>11</td>\n",
       "      <td>1169</td>\n",
       "    </tr>\n",
       "    <tr>\n",
       "      <th>3</th>\n",
       "      <td>12</td>\n",
       "      <td>1853</td>\n",
       "    </tr>\n",
       "    <tr>\n",
       "      <th>4</th>\n",
       "      <td>9</td>\n",
       "      <td>396</td>\n",
       "    </tr>\n",
       "    <tr>\n",
       "      <th>5</th>\n",
       "      <td>0</td>\n",
       "      <td>15181</td>\n",
       "    </tr>\n",
       "    <tr>\n",
       "      <th>6</th>\n",
       "      <td>10</td>\n",
       "      <td>750</td>\n",
       "    </tr>\n",
       "    <tr>\n",
       "      <th>7</th>\n",
       "      <td>2</td>\n",
       "      <td>51</td>\n",
       "    </tr>\n",
       "    <tr>\n",
       "      <th>8</th>\n",
       "      <td>4</td>\n",
       "      <td>63</td>\n",
       "    </tr>\n",
       "    <tr>\n",
       "      <th>9</th>\n",
       "      <td>6</td>\n",
       "      <td>89</td>\n",
       "    </tr>\n",
       "    <tr>\n",
       "      <th>10</th>\n",
       "      <td>3</td>\n",
       "      <td>61</td>\n",
       "    </tr>\n",
       "    <tr>\n",
       "      <th>11</th>\n",
       "      <td>1</td>\n",
       "      <td>56</td>\n",
       "    </tr>\n",
       "    <tr>\n",
       "      <th>12</th>\n",
       "      <td>5</td>\n",
       "      <td>67</td>\n",
       "    </tr>\n",
       "  </tbody>\n",
       "</table>\n",
       "</div>"
      ],
      "text/plain": [
       "    keys   freq\n",
       "0      7     53\n",
       "1      8    211\n",
       "2     11   1169\n",
       "3     12   1853\n",
       "4      9    396\n",
       "5      0  15181\n",
       "6     10    750\n",
       "7      2     51\n",
       "8      4     63\n",
       "9      6     89\n",
       "10     3     61\n",
       "11     1     56\n",
       "12     5     67"
      ]
     },
     "execution_count": 44,
     "metadata": {},
     "output_type": "execute_result"
    }
   ],
   "source": [
    "pd.DataFrame({'keys':Counter(y).keys(),\n",
    "              'freq':Counter(y).values()})"
   ]
  },
  {
   "cell_type": "code",
   "execution_count": null,
   "metadata": {},
   "outputs": [],
   "source": [
    "# Select index of simplification possibility\n",
    "INDEX = 6\n",
    "\n",
    "\n",
    "possibility = simplify_possibilities[INDEX]\n",
    "\n",
    "if possibility[0] == 'D-P':\n",
    "    # Simplification function Douglas-Peucker\n",
    "    simplified_coordinates = simplify_coords(coordinates, possibility[1])\n",
    "\n",
    "if possibility[0] == 'V-W':\n",
    "    # Simplification function Visvalingam-Whyatt\n",
    "    simplified_coordinates = simplify_coords_vw(coordinates, possibility[1])\n",
    "\n",
    "old_xs, old_ys = zip(*coordinates)\n",
    "new_xs, new_ys = zip(*simplified_coordinates)\n",
    "\n",
    "print(len(simplified_coordinates))\n",
    "print(len(coordinates))"
   ]
  },
  {
   "cell_type": "markdown",
   "metadata": {},
   "source": [
    "# Plotting"
   ]
  },
  {
   "cell_type": "code",
   "execution_count": null,
   "metadata": {},
   "outputs": [],
   "source": [
    "plt.figure()\n",
    "plt.plot(old_xs, old_ys)\n",
    "plt.plot(new_xs, new_ys)\n",
    "plt.show()"
   ]
  },
  {
   "cell_type": "markdown",
   "metadata": {},
   "source": [
    "# Keras"
   ]
  },
  {
   "cell_type": "code",
   "execution_count": 45,
   "metadata": {},
   "outputs": [
    {
     "name": "stdout",
     "output_type": "stream",
     "text": [
      "(200, 5)\n",
      "WARNING:tensorflow:From /opt/anaconda3/lib/python3.7/site-packages/tensorflow/python/ops/init_ops.py:1251: calling VarianceScaling.__init__ (from tensorflow.python.ops.init_ops) with dtype is deprecated and will be removed in a future version.\n",
      "Instructions for updating:\n",
      "Call initializer instance with the dtype argument instead of passing it to the constructor\n",
      "Model: \"sequential\"\n",
      "_________________________________________________________________\n",
      "Layer (type)                 Output Shape              Param #   \n",
      "=================================================================\n",
      "conv1d (Conv1D)              (None, 196, 32)           832       \n",
      "_________________________________________________________________\n",
      "max_pooling1d (MaxPooling1D) (None, 65, 32)            0         \n",
      "_________________________________________________________________\n",
      "conv1d_1 (Conv1D)            (None, 61, 64)            10304     \n",
      "_________________________________________________________________\n",
      "global_average_pooling1d (Gl (None, 64)                0         \n",
      "_________________________________________________________________\n",
      "dense (Dense)                (None, 13)                845       \n",
      "=================================================================\n",
      "Total params: 11,981\n",
      "Trainable params: 11,981\n",
      "Non-trainable params: 0\n",
      "_________________________________________________________________\n",
      "None\n"
     ]
    }
   ],
   "source": [
    "input_shape = X[0].shape\n",
    "print(input_shape)\n",
    "model = Sequential()\n",
    "model.add(layers.Conv1D(32, 5, activation='relu', input_shape=input_shape))\n",
    "model.add(layers.MaxPooling1D(3,3))\n",
    "\n",
    "model.add(layers.Conv1D(64, 5, activation='relu'))\n",
    "model.add(layers.GlobalAveragePooling1D())\n",
    "model.add(layers.Dense(len(simplify_possibilities), activation='softmax'))\n",
    "\n",
    "print(model.summary())"
   ]
  },
  {
   "cell_type": "code",
   "execution_count": 46,
   "metadata": {},
   "outputs": [
    {
     "name": "stdout",
     "output_type": "stream",
     "text": [
      "Train on 16000 samples, validate on 4000 samples\n",
      "Epoch 1/50\n",
      "16000/16000 [==============================] - 10s 611us/sample - loss: 1.9084 - acc: 0.7283 - val_loss: 0.8406 - val_acc: 0.8435\n",
      "Epoch 2/50\n",
      "16000/16000 [==============================] - 8s 509us/sample - loss: 1.1012 - acc: 0.7379 - val_loss: 0.7721 - val_acc: 0.8435\n",
      "Epoch 3/50\n",
      "16000/16000 [==============================] - 8s 489us/sample - loss: 1.0017 - acc: 0.7379 - val_loss: 0.7477 - val_acc: 0.8435\n",
      "Epoch 4/50\n",
      "16000/16000 [==============================] - 8s 484us/sample - loss: 0.9805 - acc: 0.7379 - val_loss: 0.7527 - val_acc: 0.8435\n",
      "Epoch 5/50\n",
      "16000/16000 [==============================] - 8s 491us/sample - loss: 0.9681 - acc: 0.7381 - val_loss: 0.7414 - val_acc: 0.8435\n",
      "Epoch 6/50\n",
      "16000/16000 [==============================] - 8s 494us/sample - loss: 0.9533 - acc: 0.7384 - val_loss: 0.7336 - val_acc: 0.8435\n",
      "Epoch 7/50\n",
      "16000/16000 [==============================] - 8s 512us/sample - loss: 0.9387 - acc: 0.7442 - val_loss: 0.7292 - val_acc: 0.8435\n",
      "Epoch 8/50\n",
      "16000/16000 [==============================] - 8s 515us/sample - loss: 0.9291 - acc: 0.7446 - val_loss: 0.7199 - val_acc: 0.8435\n",
      "Epoch 9/50\n",
      "16000/16000 [==============================] - 8s 480us/sample - loss: 0.9233 - acc: 0.7446 - val_loss: 0.7133 - val_acc: 0.8435\n",
      "Epoch 10/50\n",
      "16000/16000 [==============================] - 8s 530us/sample - loss: 0.9184 - acc: 0.7448 - val_loss: 0.7103 - val_acc: 0.8435\n",
      "Epoch 11/50\n",
      "16000/16000 [==============================] - 8s 498us/sample - loss: 0.9143 - acc: 0.7452 - val_loss: 0.7104 - val_acc: 0.8435\n",
      "Epoch 12/50\n",
      "16000/16000 [==============================] - 8s 496us/sample - loss: 0.9127 - acc: 0.7452 - val_loss: 0.7069 - val_acc: 0.8435\n",
      "Epoch 13/50\n",
      "16000/16000 [==============================] - 8s 479us/sample - loss: 0.9091 - acc: 0.7454 - val_loss: 0.7028 - val_acc: 0.8435\n",
      "Epoch 14/50\n",
      "16000/16000 [==============================] - 8s 527us/sample - loss: 0.9054 - acc: 0.7453 - val_loss: 0.7008 - val_acc: 0.8435\n",
      "Epoch 15/50\n",
      "16000/16000 [==============================] - 8s 480us/sample - loss: 0.9023 - acc: 0.7453 - val_loss: 0.6981 - val_acc: 0.8435\n",
      "Epoch 16/50\n",
      "16000/16000 [==============================] - 8s 483us/sample - loss: 0.8989 - acc: 0.7454 - val_loss: 0.6959 - val_acc: 0.8435\n",
      "Epoch 17/50\n",
      "16000/16000 [==============================] - 8s 488us/sample - loss: 0.8959 - acc: 0.7456 - val_loss: 0.6972 - val_acc: 0.8435\n",
      "Epoch 18/50\n",
      "16000/16000 [==============================] - 9s 580us/sample - loss: 0.8926 - acc: 0.7466 - val_loss: 0.6951 - val_acc: 0.8435\n",
      "Epoch 19/50\n",
      "16000/16000 [==============================] - 11s 677us/sample - loss: 0.8890 - acc: 0.7471 - val_loss: 0.6915 - val_acc: 0.8435\n",
      "Epoch 20/50\n",
      "16000/16000 [==============================] - 9s 551us/sample - loss: 0.8859 - acc: 0.7475 - val_loss: 0.6852 - val_acc: 0.8435\n",
      "Epoch 21/50\n",
      "16000/16000 [==============================] - 9s 557us/sample - loss: 0.8827 - acc: 0.7481 - val_loss: 0.6913 - val_acc: 0.8435\n",
      "Epoch 22/50\n",
      "16000/16000 [==============================] - 9s 555us/sample - loss: 0.8796 - acc: 0.7486 - val_loss: 0.6803 - val_acc: 0.8435\n",
      "Epoch 23/50\n",
      "16000/16000 [==============================] - 9s 575us/sample - loss: 0.8780 - acc: 0.7490 - val_loss: 0.6783 - val_acc: 0.8435\n",
      "Epoch 24/50\n",
      "16000/16000 [==============================] - 9s 562us/sample - loss: 0.8760 - acc: 0.7492 - val_loss: 0.6824 - val_acc: 0.8435\n",
      "Epoch 25/50\n",
      "16000/16000 [==============================] - 8s 507us/sample - loss: 0.8737 - acc: 0.7489 - val_loss: 0.6810 - val_acc: 0.8435\n",
      "Epoch 26/50\n",
      "16000/16000 [==============================] - 8s 475us/sample - loss: 0.8720 - acc: 0.7492 - val_loss: 0.6756 - val_acc: 0.8435\n",
      "Epoch 27/50\n",
      "16000/16000 [==============================] - 8s 517us/sample - loss: 0.8708 - acc: 0.7491 - val_loss: 0.6804 - val_acc: 0.8435\n",
      "Epoch 28/50\n",
      "16000/16000 [==============================] - 8s 527us/sample - loss: 0.8697 - acc: 0.7496 - val_loss: 0.6774 - val_acc: 0.8435\n",
      "Epoch 29/50\n",
      "16000/16000 [==============================] - 9s 583us/sample - loss: 0.8683 - acc: 0.7491 - val_loss: 0.6723 - val_acc: 0.8435\n",
      "Epoch 30/50\n",
      "16000/16000 [==============================] - 8s 493us/sample - loss: 0.8673 - acc: 0.7492 - val_loss: 0.6783 - val_acc: 0.8435\n",
      "Epoch 31/50\n",
      "16000/16000 [==============================] - 8s 480us/sample - loss: 0.8671 - acc: 0.7487 - val_loss: 0.6781 - val_acc: 0.8435\n",
      "Epoch 32/50\n",
      "16000/16000 [==============================] - 8s 477us/sample - loss: 0.8666 - acc: 0.7489 - val_loss: 0.6689 - val_acc: 0.8435\n",
      "Epoch 33/50\n",
      "16000/16000 [==============================] - 10s 606us/sample - loss: 0.8640 - acc: 0.7497 - val_loss: 0.6760 - val_acc: 0.8435\n",
      "Epoch 34/50\n",
      "16000/16000 [==============================] - 8s 513us/sample - loss: 0.8639 - acc: 0.7498 - val_loss: 0.6714 - val_acc: 0.8435\n",
      "Epoch 35/50\n",
      "14800/16000 [==========================>...] - ETA: 0s - loss: 0.8606 - acc: 0.7514"
     ]
    },
    {
     "ename": "KeyboardInterrupt",
     "evalue": "",
     "output_type": "error",
     "traceback": [
      "\u001b[0;31m---------------------------------------------------------------------------\u001b[0m",
      "\u001b[0;31mKeyboardInterrupt\u001b[0m                         Traceback (most recent call last)",
      "\u001b[0;32m<ipython-input-46-60ebe4b9d986>\u001b[0m in \u001b[0;36m<module>\u001b[0;34m\u001b[0m\n\u001b[1;32m     10\u001b[0m                     \u001b[0mepochs\u001b[0m\u001b[0;34m=\u001b[0m\u001b[0mEPOCHS\u001b[0m\u001b[0;34m,\u001b[0m\u001b[0;34m\u001b[0m\u001b[0;34m\u001b[0m\u001b[0m\n\u001b[1;32m     11\u001b[0m                     \u001b[0mvalidation_split\u001b[0m\u001b[0;34m=\u001b[0m\u001b[0;36m0.2\u001b[0m\u001b[0;34m,\u001b[0m\u001b[0;34m\u001b[0m\u001b[0;34m\u001b[0m\u001b[0m\n\u001b[0;32m---> 12\u001b[0;31m                     verbose=1)\n\u001b[0m",
      "\u001b[0;32m/opt/anaconda3/lib/python3.7/site-packages/tensorflow/python/keras/engine/training.py\u001b[0m in \u001b[0;36mfit\u001b[0;34m(self, x, y, batch_size, epochs, verbose, callbacks, validation_split, validation_data, shuffle, class_weight, sample_weight, initial_epoch, steps_per_epoch, validation_steps, validation_freq, max_queue_size, workers, use_multiprocessing, **kwargs)\u001b[0m\n\u001b[1;32m    778\u001b[0m           \u001b[0mvalidation_steps\u001b[0m\u001b[0;34m=\u001b[0m\u001b[0mvalidation_steps\u001b[0m\u001b[0;34m,\u001b[0m\u001b[0;34m\u001b[0m\u001b[0;34m\u001b[0m\u001b[0m\n\u001b[1;32m    779\u001b[0m           \u001b[0mvalidation_freq\u001b[0m\u001b[0;34m=\u001b[0m\u001b[0mvalidation_freq\u001b[0m\u001b[0;34m,\u001b[0m\u001b[0;34m\u001b[0m\u001b[0;34m\u001b[0m\u001b[0m\n\u001b[0;32m--> 780\u001b[0;31m           steps_name='steps_per_epoch')\n\u001b[0m\u001b[1;32m    781\u001b[0m \u001b[0;34m\u001b[0m\u001b[0m\n\u001b[1;32m    782\u001b[0m   def evaluate(self,\n",
      "\u001b[0;32m/opt/anaconda3/lib/python3.7/site-packages/tensorflow/python/keras/engine/training_arrays.py\u001b[0m in \u001b[0;36mmodel_iteration\u001b[0;34m(model, inputs, targets, sample_weights, batch_size, epochs, verbose, callbacks, val_inputs, val_targets, val_sample_weights, shuffle, initial_epoch, steps_per_epoch, validation_steps, validation_freq, mode, validation_in_fit, prepared_feed_values_from_dataset, steps_name, **kwargs)\u001b[0m\n\u001b[1;32m    357\u001b[0m         \u001b[0;31m# Callbacks batch_begin.\u001b[0m\u001b[0;34m\u001b[0m\u001b[0;34m\u001b[0m\u001b[0;34m\u001b[0m\u001b[0m\n\u001b[1;32m    358\u001b[0m         \u001b[0mbatch_logs\u001b[0m \u001b[0;34m=\u001b[0m \u001b[0;34m{\u001b[0m\u001b[0;34m'batch'\u001b[0m\u001b[0;34m:\u001b[0m \u001b[0mbatch_index\u001b[0m\u001b[0;34m,\u001b[0m \u001b[0;34m'size'\u001b[0m\u001b[0;34m:\u001b[0m \u001b[0mlen\u001b[0m\u001b[0;34m(\u001b[0m\u001b[0mbatch_ids\u001b[0m\u001b[0;34m)\u001b[0m\u001b[0;34m}\u001b[0m\u001b[0;34m\u001b[0m\u001b[0;34m\u001b[0m\u001b[0m\n\u001b[0;32m--> 359\u001b[0;31m         \u001b[0mcallbacks\u001b[0m\u001b[0;34m.\u001b[0m\u001b[0m_call_batch_hook\u001b[0m\u001b[0;34m(\u001b[0m\u001b[0mmode\u001b[0m\u001b[0;34m,\u001b[0m \u001b[0;34m'begin'\u001b[0m\u001b[0;34m,\u001b[0m \u001b[0mbatch_index\u001b[0m\u001b[0;34m,\u001b[0m \u001b[0mbatch_logs\u001b[0m\u001b[0;34m)\u001b[0m\u001b[0;34m\u001b[0m\u001b[0;34m\u001b[0m\u001b[0m\n\u001b[0m\u001b[1;32m    360\u001b[0m         \u001b[0mprogbar\u001b[0m\u001b[0;34m.\u001b[0m\u001b[0mon_batch_begin\u001b[0m\u001b[0;34m(\u001b[0m\u001b[0mbatch_index\u001b[0m\u001b[0;34m,\u001b[0m \u001b[0mbatch_logs\u001b[0m\u001b[0;34m)\u001b[0m\u001b[0;34m\u001b[0m\u001b[0;34m\u001b[0m\u001b[0m\n\u001b[1;32m    361\u001b[0m \u001b[0;34m\u001b[0m\u001b[0m\n",
      "\u001b[0;32m/opt/anaconda3/lib/python3.7/site-packages/tensorflow/python/keras/callbacks.py\u001b[0m in \u001b[0;36m_call_batch_hook\u001b[0;34m(self, mode, hook, batch, logs)\u001b[0m\n\u001b[1;32m    249\u001b[0m     \u001b[0mself\u001b[0m\u001b[0;34m.\u001b[0m\u001b[0m_delta_ts\u001b[0m\u001b[0;34m[\u001b[0m\u001b[0mhook_name\u001b[0m\u001b[0;34m]\u001b[0m\u001b[0;34m.\u001b[0m\u001b[0mappend\u001b[0m\u001b[0;34m(\u001b[0m\u001b[0mtime\u001b[0m\u001b[0;34m.\u001b[0m\u001b[0mtime\u001b[0m\u001b[0;34m(\u001b[0m\u001b[0;34m)\u001b[0m \u001b[0;34m-\u001b[0m \u001b[0mt_before_callbacks\u001b[0m\u001b[0;34m)\u001b[0m\u001b[0;34m\u001b[0m\u001b[0;34m\u001b[0m\u001b[0m\n\u001b[1;32m    250\u001b[0m \u001b[0;34m\u001b[0m\u001b[0m\n\u001b[0;32m--> 251\u001b[0;31m     \u001b[0mdelta_t_median\u001b[0m \u001b[0;34m=\u001b[0m \u001b[0mnp\u001b[0m\u001b[0;34m.\u001b[0m\u001b[0mmedian\u001b[0m\u001b[0;34m(\u001b[0m\u001b[0mself\u001b[0m\u001b[0;34m.\u001b[0m\u001b[0m_delta_ts\u001b[0m\u001b[0;34m[\u001b[0m\u001b[0mhook_name\u001b[0m\u001b[0;34m]\u001b[0m\u001b[0;34m)\u001b[0m\u001b[0;34m\u001b[0m\u001b[0;34m\u001b[0m\u001b[0m\n\u001b[0m\u001b[1;32m    252\u001b[0m     if (self._delta_t_batch > 0. and\n\u001b[1;32m    253\u001b[0m         delta_t_median > 0.95 * self._delta_t_batch and delta_t_median > 0.1):\n",
      "\u001b[0;32m<__array_function__ internals>\u001b[0m in \u001b[0;36mmedian\u001b[0;34m(*args, **kwargs)\u001b[0m\n",
      "\u001b[0;32m/opt/anaconda3/lib/python3.7/site-packages/numpy/lib/function_base.py\u001b[0m in \u001b[0;36mmedian\u001b[0;34m(a, axis, out, overwrite_input, keepdims)\u001b[0m\n\u001b[1;32m   3493\u001b[0m     \"\"\"\n\u001b[1;32m   3494\u001b[0m     r, k = _ureduce(a, func=_median, axis=axis, out=out,\n\u001b[0;32m-> 3495\u001b[0;31m                     overwrite_input=overwrite_input)\n\u001b[0m\u001b[1;32m   3496\u001b[0m     \u001b[0;32mif\u001b[0m \u001b[0mkeepdims\u001b[0m\u001b[0;34m:\u001b[0m\u001b[0;34m\u001b[0m\u001b[0;34m\u001b[0m\u001b[0m\n\u001b[1;32m   3497\u001b[0m         \u001b[0;32mreturn\u001b[0m \u001b[0mr\u001b[0m\u001b[0;34m.\u001b[0m\u001b[0mreshape\u001b[0m\u001b[0;34m(\u001b[0m\u001b[0mk\u001b[0m\u001b[0;34m)\u001b[0m\u001b[0;34m\u001b[0m\u001b[0;34m\u001b[0m\u001b[0m\n",
      "\u001b[0;32m/opt/anaconda3/lib/python3.7/site-packages/numpy/lib/function_base.py\u001b[0m in \u001b[0;36m_ureduce\u001b[0;34m(a, func, **kwargs)\u001b[0m\n\u001b[1;32m   3376\u001b[0m \u001b[0;34m\u001b[0m\u001b[0m\n\u001b[1;32m   3377\u001b[0m     \"\"\"\n\u001b[0;32m-> 3378\u001b[0;31m     \u001b[0ma\u001b[0m \u001b[0;34m=\u001b[0m \u001b[0mnp\u001b[0m\u001b[0;34m.\u001b[0m\u001b[0masanyarray\u001b[0m\u001b[0;34m(\u001b[0m\u001b[0ma\u001b[0m\u001b[0;34m)\u001b[0m\u001b[0;34m\u001b[0m\u001b[0;34m\u001b[0m\u001b[0m\n\u001b[0m\u001b[1;32m   3379\u001b[0m     \u001b[0maxis\u001b[0m \u001b[0;34m=\u001b[0m \u001b[0mkwargs\u001b[0m\u001b[0;34m.\u001b[0m\u001b[0mget\u001b[0m\u001b[0;34m(\u001b[0m\u001b[0;34m'axis'\u001b[0m\u001b[0;34m,\u001b[0m \u001b[0;32mNone\u001b[0m\u001b[0;34m)\u001b[0m\u001b[0;34m\u001b[0m\u001b[0;34m\u001b[0m\u001b[0m\n\u001b[1;32m   3380\u001b[0m     \u001b[0;32mif\u001b[0m \u001b[0maxis\u001b[0m \u001b[0;32mis\u001b[0m \u001b[0;32mnot\u001b[0m \u001b[0;32mNone\u001b[0m\u001b[0;34m:\u001b[0m\u001b[0;34m\u001b[0m\u001b[0;34m\u001b[0m\u001b[0m\n",
      "\u001b[0;32m/opt/anaconda3/lib/python3.7/site-packages/numpy/core/_asarray.py\u001b[0m in \u001b[0;36masanyarray\u001b[0;34m(a, dtype, order)\u001b[0m\n\u001b[1;32m    136\u001b[0m \u001b[0;34m\u001b[0m\u001b[0m\n\u001b[1;32m    137\u001b[0m     \"\"\"\n\u001b[0;32m--> 138\u001b[0;31m     \u001b[0;32mreturn\u001b[0m \u001b[0marray\u001b[0m\u001b[0;34m(\u001b[0m\u001b[0ma\u001b[0m\u001b[0;34m,\u001b[0m \u001b[0mdtype\u001b[0m\u001b[0;34m,\u001b[0m \u001b[0mcopy\u001b[0m\u001b[0;34m=\u001b[0m\u001b[0;32mFalse\u001b[0m\u001b[0;34m,\u001b[0m \u001b[0morder\u001b[0m\u001b[0;34m=\u001b[0m\u001b[0morder\u001b[0m\u001b[0;34m,\u001b[0m \u001b[0msubok\u001b[0m\u001b[0;34m=\u001b[0m\u001b[0;32mTrue\u001b[0m\u001b[0;34m)\u001b[0m\u001b[0;34m\u001b[0m\u001b[0;34m\u001b[0m\u001b[0m\n\u001b[0m\u001b[1;32m    139\u001b[0m \u001b[0;34m\u001b[0m\u001b[0m\n\u001b[1;32m    140\u001b[0m \u001b[0;34m\u001b[0m\u001b[0m\n",
      "\u001b[0;31mKeyboardInterrupt\u001b[0m: "
     ]
    }
   ],
   "source": [
    "model.compile(loss='sparse_categorical_crossentropy',\n",
    "                optimizer='adam', metrics=['accuracy'])\n",
    "\n",
    "BATCH_SIZE = 400\n",
    "EPOCHS = 50\n",
    "\n",
    "history = model.fit(X,\n",
    "                    y,\n",
    "                    batch_size=BATCH_SIZE,\n",
    "                    epochs=EPOCHS,\n",
    "                    validation_split=0.2,\n",
    "                    verbose=1)"
   ]
  },
  {
   "cell_type": "code",
   "execution_count": 47,
   "metadata": {},
   "outputs": [
    {
     "data": {
      "text/plain": [
       "array([7, 8, 8, ..., 0, 0, 0])"
      ]
     },
     "execution_count": 47,
     "metadata": {},
     "output_type": "execute_result"
    }
   ],
   "source": [
    "y"
   ]
  },
  {
   "cell_type": "markdown",
   "metadata": {},
   "source": [
    "# PyTorch"
   ]
  },
  {
   "cell_type": "code",
   "execution_count": null,
   "metadata": {},
   "outputs": [],
   "source": []
  }
 ],
 "metadata": {
  "kernelspec": {
   "display_name": "Python 3",
   "language": "python",
   "name": "python3"
  },
  "language_info": {
   "codemirror_mode": {
    "name": "ipython",
    "version": 3
   },
   "file_extension": ".py",
   "mimetype": "text/x-python",
   "name": "python",
   "nbconvert_exporter": "python",
   "pygments_lexer": "ipython3",
   "version": "3.7.6"
  }
 },
 "nbformat": 4,
 "nbformat_minor": 4
}
